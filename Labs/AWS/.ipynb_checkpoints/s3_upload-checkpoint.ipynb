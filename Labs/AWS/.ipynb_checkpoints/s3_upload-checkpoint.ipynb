{
 "cells": [
  {
   "cell_type": "code",
   "execution_count": 4,
   "metadata": {},
   "outputs": [],
   "source": [
    "import csv\n",
    "import random\n",
    "from time import time\n",
    "from decimal import Decimal\n",
    "from faker import Faker\n",
    "import boto3\n",
    "import string\n",
    "import random\n",
    "import os\n",
    "\n",
    "# Connect to Boto3\n",
    "s3 = boto3.resource(\n",
    "    service_name='s3',\n",
    "    region_name='us-east-2')\n"
   ]
  },
  {
   "cell_type": "code",
   "execution_count": 5,
   "metadata": {},
   "outputs": [],
   "source": [
    "RECORD_COUNT = 100\n",
    "fake = Faker()\n",
    "\n",
    "def id_generator(size=6, chars=string.ascii_uppercase + string.digits):\n",
    "    return ''.join(random.choice(chars) for _ in range(size))\n",
    "\n",
    "def create_csv_file():\n",
    "    filename = 'data-' + id_generator(10) + '.csv'\n",
    "    with open(filename, 'w', newline='') as csvfile:\n",
    "        fieldnames = ['id', 'first_name', 'last_name', 'email', 'product_id', 'qty',\n",
    "                      'amount', 'description', 'address', 'city', 'state',\n",
    "                      'country']\n",
    "        writer = csv.DictWriter(csvfile, fieldnames=fieldnames)\n",
    "\n",
    "        writer.writeheader()\n",
    "        for i in range(RECORD_COUNT):\n",
    "            writer.writerow(\n",
    "                {   'id': id_generator(12),\n",
    "                    'first_name': fake.name(),\n",
    "                    'last_name': fake.name(),\n",
    "                    'email': fake.email(),\n",
    "                    'product_id': fake.random_int(min=100, max=199),\n",
    "                    'qty': fake.random_int(min=1, max=9),\n",
    "                    'amount': fake.random_int(min=1000, max=9000),\n",
    "                    'description': fake.sentence(),\n",
    "                    'address': fake.street_address(),\n",
    "                    'city': fake.city(),\n",
    "                    'state': fake.state(),\n",
    "                    'country': fake.country()\n",
    "                }\n",
    "            )\n",
    "\n",
    "\n",
    "    upload_to_s3(filename)"
   ]
  },
  {
   "cell_type": "code",
   "execution_count": 6,
   "metadata": {},
   "outputs": [
    {
     "name": "stdout",
     "output_type": "stream",
     "text": [
      "Upload Complete\n"
     ]
    }
   ],
   "source": [
    "bucket_name = 'prudhvis7245'\n",
    "\n",
    "def upload_to_s3(filename):\n",
    "    s3.Bucket(bucket_name).upload_file(Filename=filename, Key='demo/' + filename)\n",
    "    print ('Upload Complete')\n",
    "\n",
    "\n",
    "create_csv_file()"
   ]
  }
 ],
 "metadata": {
  "kernelspec": {
   "display_name": "Python 3",
   "language": "python",
   "name": "python3"
  },
  "language_info": {
   "codemirror_mode": {
    "name": "ipython",
    "version": 3
   },
   "file_extension": ".py",
   "mimetype": "text/x-python",
   "name": "python",
   "nbconvert_exporter": "python",
   "pygments_lexer": "ipython3",
   "version": "3.8.5"
  }
 },
 "nbformat": 4,
 "nbformat_minor": 4
}
