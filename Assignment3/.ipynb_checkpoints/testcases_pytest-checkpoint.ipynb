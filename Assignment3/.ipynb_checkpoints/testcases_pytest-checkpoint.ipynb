{
 "cells": [
  {
   "cell_type": "markdown",
   "metadata": {},
   "source": [
    "## Test Cases"
   ]
  },
  {
   "cell_type": "markdown",
   "metadata": {},
   "source": [
    "**Install dependecies**"
   ]
  },
  {
   "cell_type": "code",
   "execution_count": 1,
   "metadata": {
    "scrolled": true
   },
   "outputs": [
    {
     "name": "stdout",
     "output_type": "stream",
     "text": [
      "Requirement already satisfied: fastapi in /Users/harika/Applications/anaconda3/lib/python3.7/site-packages (from -r requirements.txt (line 1)) (0.63.0)\n",
      "Collecting uvicorn (from -r requirements.txt (line 2))\n",
      "  Using cached https://files.pythonhosted.org/packages/c8/de/953f0289508b1b92debdf0a6822d9b88ffb0c6ad471d709cf639a2c8a176/uvicorn-0.13.4-py3-none-any.whl\n",
      "Requirement already satisfied: snowflake-connector-python in /Users/harika/Applications/anaconda3/lib/python3.7/site-packages (from -r requirements.txt (line 3)) (2.4.1)\n",
      "Requirement already satisfied: pandas in /Users/harika/Applications/anaconda3/lib/python3.7/site-packages (from -r requirements.txt (line 4)) (1.2.3)\n",
      "Requirement already satisfied: pyarrow in /Users/harika/Applications/anaconda3/lib/python3.7/site-packages (from -r requirements.txt (line 5)) (3.0.0)\n",
      "Collecting fastparquet (from -r requirements.txt (line 6))\n",
      "  Using cached https://files.pythonhosted.org/packages/3c/d7/2439183ed35af0f4e8b6e61f9d4235bc1773f495d9c4805b49abebeb1cef/fastparquet-0.5.0-cp37-cp37m-macosx_10_9_x86_64.whl\n",
      "Collecting SQLAlchemy==1.3.18 (from -r requirements.txt (line 7))\n",
      "  Using cached https://files.pythonhosted.org/packages/47/1d/c3bfc768e9588662309f7b9a85be3284349f1b071a4eb261c0010080aeec/SQLAlchemy-1.3.18-cp37-cp37m-macosx_10_14_x86_64.whl\n",
      "Collecting apache-airflow (from -r requirements.txt (line 8))\n",
      "  Using cached https://files.pythonhosted.org/packages/4d/be/7228d4505133bdfedaab0afedb272463190c214baea43fc15be5e3accaae/apache_airflow-2.0.1-py3-none-any.whl\n",
      "Requirement already satisfied: pytest in /Users/harika/Applications/anaconda3/lib/python3.7/site-packages (from -r requirements.txt (line 9)) (6.2.2)\n",
      "Collecting locust (from -r requirements.txt (line 10))\n",
      "  Using cached https://files.pythonhosted.org/packages/6d/8a/c0e12b915f38330156de6c7edde0e3c4b0bb6173ba9adaabac040ada09e5/locust-1.4.3-py3-none-any.whl\n",
      "Requirement already satisfied: requests==2.22.0 in /Users/harika/Applications/anaconda3/lib/python3.7/site-packages (from -r requirements.txt (line 11)) (2.22.0)\n",
      "Requirement already satisfied: ipytest in /Users/harika/Applications/anaconda3/lib/python3.7/site-packages (from -r requirements.txt (line 12)) (0.9.1)\n",
      "Requirement already satisfied: pytest-tornasync in /Users/harika/Applications/anaconda3/lib/python3.7/site-packages (from -r requirements.txt (line 13)) (0.6.0.post2)\n",
      "Requirement already satisfied: ipynb in /Users/harika/Applications/anaconda3/lib/python3.7/site-packages (from -r requirements.txt (line 14)) (0.5.1)\n",
      "Requirement already satisfied: pydantic<2.0.0,>=1.0.0 in /Users/harika/Applications/anaconda3/lib/python3.7/site-packages (from fastapi->-r requirements.txt (line 1)) (1.8.1)\n",
      "Requirement already satisfied: starlette==0.13.6 in /Users/harika/Applications/anaconda3/lib/python3.7/site-packages (from fastapi->-r requirements.txt (line 1)) (0.13.6)\n",
      "Requirement already satisfied: typing-extensions; python_version < \"3.8\" in /Users/harika/Applications/anaconda3/lib/python3.7/site-packages (from uvicorn->-r requirements.txt (line 2)) (3.7.4.3)\n",
      "Requirement already satisfied: click==7.* in /Users/harika/Applications/anaconda3/lib/python3.7/site-packages (from uvicorn->-r requirements.txt (line 2)) (7.0)\n",
      "Collecting h11>=0.8 (from uvicorn->-r requirements.txt (line 2))\n",
      "  Using cached https://files.pythonhosted.org/packages/60/0f/7a0eeea938eaf61074f29fed9717f2010e8d0e0905d36b38d3275a1e4622/h11-0.12.0-py3-none-any.whl\n",
      "Requirement already satisfied: azure-storage-blob<13.0.0,>=12.0.0 in /Users/harika/Applications/anaconda3/lib/python3.7/site-packages (from snowflake-connector-python->-r requirements.txt (line 3)) (12.8.0)\n",
      "Requirement already satisfied: oscrypto<2.0.0 in /Users/harika/Applications/anaconda3/lib/python3.7/site-packages (from snowflake-connector-python->-r requirements.txt (line 3)) (1.2.1)\n",
      "Requirement already satisfied: azure-common<2.0.0 in /Users/harika/Applications/anaconda3/lib/python3.7/site-packages (from snowflake-connector-python->-r requirements.txt (line 3)) (1.1.27)\n",
      "Requirement already satisfied: boto3<2.0.0,>=1.4.4 in /Users/harika/Applications/anaconda3/lib/python3.7/site-packages (from snowflake-connector-python->-r requirements.txt (line 3)) (1.17.17)\n",
      "Requirement already satisfied: cffi<2.0.0,>=1.9 in /Users/harika/Applications/anaconda3/lib/python3.7/site-packages (from snowflake-connector-python->-r requirements.txt (line 3)) (1.12.3)\n",
      "Requirement already satisfied: certifi<2021.0.0 in /Users/harika/Applications/anaconda3/lib/python3.7/site-packages (from snowflake-connector-python->-r requirements.txt (line 3)) (2019.9.11)\n",
      "Requirement already satisfied: pytz in /Users/harika/Applications/anaconda3/lib/python3.7/site-packages (from snowflake-connector-python->-r requirements.txt (line 3)) (2019.3)\n",
      "Requirement already satisfied: cryptography<4.0.0,>=2.5.0 in /Users/harika/Applications/anaconda3/lib/python3.7/site-packages (from snowflake-connector-python->-r requirements.txt (line 3)) (2.7)\n",
      "Requirement already satisfied: asn1crypto<2.0.0,>0.24.0 in /Users/harika/Applications/anaconda3/lib/python3.7/site-packages (from snowflake-connector-python->-r requirements.txt (line 3)) (1.0.1)\n",
      "Requirement already satisfied: chardet<4,>=3.0.2 in /Users/harika/Applications/anaconda3/lib/python3.7/site-packages (from snowflake-connector-python->-r requirements.txt (line 3)) (3.0.4)\n",
      "Requirement already satisfied: idna<3,>=2.5 in /Users/harika/Applications/anaconda3/lib/python3.7/site-packages (from snowflake-connector-python->-r requirements.txt (line 3)) (2.8)\n",
      "Requirement already satisfied: pyjwt<3.0.0 in /Users/harika/Applications/anaconda3/lib/python3.7/site-packages (from snowflake-connector-python->-r requirements.txt (line 3)) (2.0.1)\n",
      "Requirement already satisfied: pyOpenSSL<20.0.0,>=16.2.0 in /Users/harika/Applications/anaconda3/lib/python3.7/site-packages (from snowflake-connector-python->-r requirements.txt (line 3)) (19.0.0)\n",
      "Requirement already satisfied: pycryptodomex!=3.5.0,<4.0.0,>=3.2 in /Users/harika/Applications/anaconda3/lib/python3.7/site-packages (from snowflake-connector-python->-r requirements.txt (line 3)) (3.10.1)\n",
      "Requirement already satisfied: setuptools>34.0.0 in /Users/harika/Applications/anaconda3/lib/python3.7/site-packages (from snowflake-connector-python->-r requirements.txt (line 3)) (41.4.0)\n",
      "Requirement already satisfied: python-dateutil>=2.7.3 in /Users/harika/Applications/anaconda3/lib/python3.7/site-packages (from pandas->-r requirements.txt (line 4)) (2.8.0)\n",
      "Requirement already satisfied: numpy>=1.16.5 in /Users/harika/Applications/anaconda3/lib/python3.7/site-packages (from pandas->-r requirements.txt (line 4)) (1.17.2)\n",
      "Requirement already satisfied: thrift>=0.11.0 in /Users/harika/Applications/anaconda3/lib/python3.7/site-packages (from fastparquet->-r requirements.txt (line 6)) (0.13.0)\n",
      "Collecting numba>=0.49 (from fastparquet->-r requirements.txt (line 6))\n",
      "  Using cached https://files.pythonhosted.org/packages/49/cd/f30862070c2ffe1ec3262a9a7997c21ae782124471fbf98176397bc22501/numba-0.53.1-cp37-cp37m-macosx_10_14_x86_64.whl\n",
      "Requirement already satisfied: pygments<3.0,>=2.0.1 in /Users/harika/Applications/anaconda3/lib/python3.7/site-packages (from apache-airflow->-r requirements.txt (line 8)) (2.4.2)\n",
      "Collecting cached-property~=1.5 (from apache-airflow->-r requirements.txt (line 8))\n",
      "  Using cached https://files.pythonhosted.org/packages/48/19/f2090f7dad41e225c7f2326e4cfe6fff49e57dedb5b53636c9551f86b069/cached_property-1.5.2-py2.py3-none-any.whl\n",
      "Collecting pendulum~=2.0 (from apache-airflow->-r requirements.txt (line 8))\n",
      "  Using cached https://files.pythonhosted.org/packages/d0/21/284171c69ef27d1173e8997ec73c5551f9491459b48003b64d191a0c7082/pendulum-2.1.2-cp37-cp37m-macosx_10_15_x86_64.whl\n",
      "Collecting apache-airflow-providers-http (from apache-airflow->-r requirements.txt (line 8))\n",
      "  Using cached https://files.pythonhosted.org/packages/bc/9d/ea04b30887eab64ac557d08b217deda691a3565f91c6b525387b4fbae4af/apache_airflow_providers_http-1.1.1-py3-none-any.whl\n",
      "Requirement already satisfied: itsdangerous>=1.1.0 in /Users/harika/Applications/anaconda3/lib/python3.7/site-packages (from apache-airflow->-r requirements.txt (line 8)) (1.1.0)\n",
      "Collecting lockfile>=0.12.2 (from apache-airflow->-r requirements.txt (line 8))\n",
      "  Using cached https://files.pythonhosted.org/packages/c8/22/9460e311f340cb62d26a38c419b1381b8593b0bb6b5d1f056938b086d362/lockfile-0.12.2-py2.py3-none-any.whl\n"
     ]
    },
    {
     "name": "stdout",
     "output_type": "stream",
     "text": [
      "Collecting sqlalchemy-jsonfield~=1.0 (from apache-airflow->-r requirements.txt (line 8))\n",
      "  Using cached https://files.pythonhosted.org/packages/6d/98/ed56c228713cea8a0f71afb62d6fda82d3c8e6468d18e09030578f6f42ab/SQLAlchemy_JSONField-1.0.0-py3-none-any.whl\n",
      "Collecting python-nvd3~=0.15.0 (from apache-airflow->-r requirements.txt (line 8))\n",
      "  Using cached https://files.pythonhosted.org/packages/0b/aa/97165daa6e319409c5c2582e62736a7353bda3c90d90fdcb0b11e116dd2d/python-nvd3-0.15.0.tar.gz\n",
      "Collecting iso8601>=0.1.12 (from apache-airflow->-r requirements.txt (line 8))\n",
      "  Using cached https://files.pythonhosted.org/packages/c5/10/da48dc228b821a64407c2527e1e8ee98917b36e80a181f2ca06ea3cb676b/iso8601-0.1.14-py2.py3-none-any.whl\n",
      "Collecting setproctitle<2,>=1.1.8 (from apache-airflow->-r requirements.txt (line 8))\n",
      "  Using cached https://files.pythonhosted.org/packages/a1/7f/a1d4f4c7b66f0fc02f35dc5c85f45a8b4e4a7988357a29e61c14e725ef86/setproctitle-1.2.2.tar.gz\n",
      "  Installing build dependencies ... \u001b[?25ldone\n",
      "\u001b[?25h  Getting requirements to build wheel ... \u001b[?25ldone\n",
      "\u001b[?25h    Preparing wheel metadata ... \u001b[?25ldone\n",
      "\u001b[?25hRequirement already satisfied: unicodecsv>=0.14.1 in /Users/harika/Applications/anaconda3/lib/python3.7/site-packages (from apache-airflow->-r requirements.txt (line 8)) (0.14.1)\n",
      "Collecting cattrs~=1.1; python_version > \"3.6\" (from apache-airflow->-r requirements.txt (line 8))\n",
      "  Using cached https://files.pythonhosted.org/packages/34/5e/0c0ce9c0adbcf102c77c4d5089f43b3ecf4ae1e3929468c7215f5b3089a2/cattrs-1.4.0-py3-none-any.whl\n",
      "Collecting tabulate<0.9,>=0.7.5 (from apache-airflow->-r requirements.txt (line 8))\n",
      "  Using cached https://files.pythonhosted.org/packages/ca/80/7c0cad11bd99985cfe7c09427ee0b4f9bd6b048bd13d4ffb32c6db237dfb/tabulate-0.8.9-py3-none-any.whl\n",
      "Collecting apache-airflow-providers-sqlite (from apache-airflow->-r requirements.txt (line 8))\n",
      "  Using cached https://files.pythonhosted.org/packages/80/a6/31b6a5dcf497f2c634920873514082291d117dc5f4ec598e838feb8ff36a/apache_airflow_providers_sqlite-1.0.2-py3-none-any.whl\n",
      "Collecting rich==9.2.0 (from apache-airflow->-r requirements.txt (line 8))\n",
      "  Using cached https://files.pythonhosted.org/packages/e1/ef/0474f887dbe86d50e8cd388bc0ba1b92dffc8ab01841e6667df3a41133bc/rich-9.2.0-py3-none-any.whl\n",
      "Collecting werkzeug>=1.0.1,~=1.0 (from apache-airflow->-r requirements.txt (line 8))\n",
      "  Using cached https://files.pythonhosted.org/packages/cc/94/5f7079a0e00bd6863ef8f1da638721e9da21e5bacee597595b318f71d62e/Werkzeug-1.0.1-py2.py3-none-any.whl\n",
      "Collecting argcomplete~=1.10 (from apache-airflow->-r requirements.txt (line 8))\n",
      "  Using cached https://files.pythonhosted.org/packages/e3/d0/ee7fc6ceac8957196def9bfa3b955d02163058defd3edd51ef7b1ff2769e/argcomplete-1.12.2-py2.py3-none-any.whl\n",
      "Requirement already satisfied: jsonschema~=3.0 in /Users/harika/Applications/anaconda3/lib/python3.7/site-packages (from apache-airflow->-r requirements.txt (line 8)) (3.0.2)\n",
      "Collecting croniter<0.4,>=0.3.17 (from apache-airflow->-r requirements.txt (line 8))\n",
      "  Using cached https://files.pythonhosted.org/packages/05/e5/1d2b7e3c36c444e78a31d7f0b8a1799acf4f8d869693f2232a3555a5dc6f/croniter-0.3.37-py2.py3-none-any.whl\n",
      "Collecting flask-login<0.5,>=0.3 (from apache-airflow->-r requirements.txt (line 8))\n",
      "  Using cached https://files.pythonhosted.org/packages/c1/ff/bd9a4d2d81bf0c07d9e53e8cd3d675c56553719bbefd372df69bf1b3c1e4/Flask-Login-0.4.1.tar.gz\n",
      "Requirement already satisfied: lazy-object-proxy in /Users/harika/Applications/anaconda3/lib/python3.7/site-packages (from apache-airflow->-r requirements.txt (line 8)) (1.4.2)\n",
      "Collecting apache-airflow-providers-ftp (from apache-airflow->-r requirements.txt (line 8))\n",
      "  Using cached https://files.pythonhosted.org/packages/09/03/d932fb4010112c09fe36c9418fd59b1662f4762660b993c4145e2e82fae7/apache_airflow_providers_ftp-1.0.1-py3-none-any.whl\n",
      "Collecting importlib-metadata~=1.7; python_version < \"3.9\" (from apache-airflow->-r requirements.txt (line 8))\n",
      "  Using cached https://files.pythonhosted.org/packages/8e/58/cdea07eb51fc2b906db0968a94700866fc46249bdc75cac23f9d13168929/importlib_metadata-1.7.0-py2.py3-none-any.whl\n",
      "Collecting flask-caching<2.0.0,>=1.5.0 (from apache-airflow->-r requirements.txt (line 8))\n",
      "  Using cached https://files.pythonhosted.org/packages/bd/63/f8fe759cfe4fa8075f77581af5dad632cea8578881c843c679c103c34815/Flask_Caching-1.10.1-py3-none-any.whl\n",
      "Requirement already satisfied: termcolor>=1.1.0 in /Users/harika/Applications/anaconda3/lib/python3.7/site-packages (from apache-airflow->-r requirements.txt (line 8)) (1.1.0)\n",
      "Collecting apache-airflow-providers-imap (from apache-airflow->-r requirements.txt (line 8))\n",
      "  Using cached https://files.pythonhosted.org/packages/ec/9e/b8dddfd1fc50254e786d88324271b4f88cdbb3ca476afe3556dc7f67bc8f/apache_airflow_providers_imap-1.0.1-py3-none-any.whl\n",
      "Collecting python3-openid~=3.2 (from apache-airflow->-r requirements.txt (line 8))\n",
      "  Using cached https://files.pythonhosted.org/packages/e0/a5/c6ba13860bdf5525f1ab01e01cc667578d6f1efc8a1dba355700fb04c29b/python3_openid-3.2.0-py3-none-any.whl\n",
      "Requirement already satisfied: markupsafe<2.0,>=1.1.1 in /Users/harika/Applications/anaconda3/lib/python3.7/site-packages (from apache-airflow->-r requirements.txt (line 8)) (1.1.1)\n",
      "Collecting attrs<21.0,>=20.0 (from apache-airflow->-r requirements.txt (line 8))\n",
      "  Using cached https://files.pythonhosted.org/packages/c3/aa/cb45262569fcc047bf070b5de61813724d6726db83259222cd7b4c79821a/attrs-20.3.0-py2.py3-none-any.whl\n",
      "Collecting flask-wtf<0.15,>=0.14.3 (from apache-airflow->-r requirements.txt (line 8))\n",
      "  Using cached https://files.pythonhosted.org/packages/36/a9/8c01171066bd7a524ee005d81bb4a8aa446ab178043a1ad6cb5dc8f0bd83/Flask_WTF-0.14.3-py2.py3-none-any.whl\n",
      "Collecting dill<0.4,>=0.2.2 (from apache-airflow->-r requirements.txt (line 8))\n",
      "  Using cached https://files.pythonhosted.org/packages/52/d6/79f40d230895fa1ce3b6af0d22e0ac79c65175dc069c194b79cc8e05a033/dill-0.3.3-py2.py3-none-any.whl\n",
      "Collecting gunicorn<20.0,>=19.5.0 (from apache-airflow->-r requirements.txt (line 8))\n",
      "  Using cached https://files.pythonhosted.org/packages/5f/54/c15f2c243c19074cbf06ce6c48732d99aec825487f87e57e86e9a22990f2/gunicorn-19.10.0-py2.py3-none-any.whl\n",
      "Requirement already satisfied: jinja2<2.12.0,>=2.10.1 in /Users/harika/Applications/anaconda3/lib/python3.7/site-packages (from apache-airflow->-r requirements.txt (line 8)) (2.10.3)\n",
      "Collecting tenacity~=6.2.0 (from apache-airflow->-r requirements.txt (line 8))\n",
      "  Using cached https://files.pythonhosted.org/packages/b5/05/ff089032442058bd3386f9cd991cd88ccac81dca1494d78751621ee35e62/tenacity-6.2.0-py2.py3-none-any.whl\n",
      "Collecting python-slugify<5.0,>=3.0.0 (from apache-airflow->-r requirements.txt (line 8))\n",
      "  Using cached https://files.pythonhosted.org/packages/9f/42/e336f96a8b6007428df772d0d159b8eee9b2f1811593a4931150660402c0/python-slugify-4.0.1.tar.gz\n",
      "Collecting colorlog>=4.0.2 (from apache-airflow->-r requirements.txt (line 8))\n",
      "  Using cached https://files.pythonhosted.org/packages/51/62/61449c6bb74c2a3953c415b2cdb488e4f0518ac67b35e2b03a6d543035ca/colorlog-4.8.0-py2.py3-none-any.whl\n",
      "Collecting marshmallow-oneofschema>=2.0.1 (from apache-airflow->-r requirements.txt (line 8))\n",
      "  Using cached https://files.pythonhosted.org/packages/c3/97/9ce88933f06ba65c3f1751d99129960d69beef8d468307eede32a38174e1/marshmallow_oneofschema-2.1.0-py2.py3-none-any.whl\n",
      "Requirement already satisfied: flask<2.0,>=1.1.0 in /Users/harika/Applications/anaconda3/lib/python3.7/site-packages (from apache-airflow->-r requirements.txt (line 8)) (1.1.1)\n",
      "Collecting alembic<2.0,>=1.2 (from apache-airflow->-r requirements.txt (line 8))\n",
      "  Using cached https://files.pythonhosted.org/packages/72/a4/97eb6273839655cac14947986fa7a5935350fcfd4fff872e9654264c82d8/alembic-1.5.8-py2.py3-none-any.whl\n",
      "Collecting connexion[flask,swagger-ui]<3,>=2.6.0 (from apache-airflow->-r requirements.txt (line 8))\n",
      "  Using cached https://files.pythonhosted.org/packages/e8/6f/a589755ede47f9ed2e0c7f77975143f6212be230b7e3c20dc48cbf0d4cb6/connexion-2.7.0-py2.py3-none-any.whl\n",
      "Collecting importlib-resources~=1.4 (from apache-airflow->-r requirements.txt (line 8))\n",
      "  Using cached https://files.pythonhosted.org/packages/7f/2d/88f166bcaadc09d9fdbf1c336ad118e01b7fe1155e15675e125be2ff1899/importlib_resources-1.5.0-py2.py3-none-any.whl\n"
     ]
    },
    {
     "name": "stdout",
     "output_type": "stream",
     "text": [
      "Collecting python-daemon>=2.2.4 (from apache-airflow->-r requirements.txt (line 8))\n",
      "  Using cached https://files.pythonhosted.org/packages/b1/cc/2ab0d910548de45eaaa50d0372387951d9005c356a44c6858db12dc6b2b7/python_daemon-2.3.0-py2.py3-none-any.whl\n",
      "Collecting graphviz>=0.12 (from apache-airflow->-r requirements.txt (line 8))\n",
      "  Using cached https://files.pythonhosted.org/packages/86/86/89ba50ba65928001d3161f23bfa03945ed18ea13a1d1d44a772ff1fa4e7a/graphviz-0.16-py2.py3-none-any.whl\n",
      "Requirement already satisfied: psutil<6.0.0,>=4.2.0 in /Users/harika/Applications/anaconda3/lib/python3.7/site-packages (from apache-airflow->-r requirements.txt (line 8)) (5.6.3)\n",
      "Collecting flask-appbuilder~=3.1.1 (from apache-airflow->-r requirements.txt (line 8))\n",
      "  Using cached https://files.pythonhosted.org/packages/35/17/103f8aff135460d28606d90ce177ff281c8b7a2f49e2f38a0db6ef9b976d/Flask_AppBuilder-3.1.1-py3-none-any.whl\n",
      "Requirement already satisfied: markdown<4.0,>=2.5.2 in /Users/harika/Applications/anaconda3/lib/python3.7/site-packages (from apache-airflow->-r requirements.txt (line 8)) (3.2.1)\n",
      "Requirement already satisfied: toml in /Users/harika/Applications/anaconda3/lib/python3.7/site-packages (from pytest->-r requirements.txt (line 9)) (0.10.2)\n",
      "Requirement already satisfied: pluggy<1.0.0a1,>=0.12 in /Users/harika/Applications/anaconda3/lib/python3.7/site-packages (from pytest->-r requirements.txt (line 9)) (0.13.0)\n",
      "Requirement already satisfied: py>=1.8.2 in /Users/harika/Applications/anaconda3/lib/python3.7/site-packages (from pytest->-r requirements.txt (line 9)) (1.10.0)\n",
      "Requirement already satisfied: packaging in /Users/harika/Applications/anaconda3/lib/python3.7/site-packages (from pytest->-r requirements.txt (line 9)) (19.2)\n",
      "Requirement already satisfied: iniconfig in /Users/harika/Applications/anaconda3/lib/python3.7/site-packages (from pytest->-r requirements.txt (line 9)) (1.1.1)\n",
      "Requirement already satisfied: pyzmq>=16.0.2 in /Users/harika/Applications/anaconda3/lib/python3.7/site-packages (from locust->-r requirements.txt (line 10)) (18.1.0)\n",
      "Collecting geventhttpclient>=1.4.4 (from locust->-r requirements.txt (line 10))\n",
      "  Downloading https://files.pythonhosted.org/packages/58/e2/0f4337cac3dc81a4b52547460c1d64c53b9e1f8bf89fdce3cbe89ff770d0/geventhttpclient-1.4.4-cp37-cp37m-macosx_10_9_x86_64.whl\n",
      "Collecting gevent>=20.9.0 (from locust->-r requirements.txt (line 10))\n",
      "\u001b[?25l  Downloading https://files.pythonhosted.org/packages/6a/75/18943211ff0b38246d0d64cc6dd02fd1ffc828ac9ea6c381bde1ca456b35/gevent-21.1.2-cp37-cp37m-macosx_10_14_x86_64.whl (1.8MB)\n",
      "\u001b[K     |████████████████████████████████| 1.8MB 11.8MB/s eta 0:00:01\n",
      "\u001b[?25hCollecting Flask-BasicAuth>=0.2.0 (from locust->-r requirements.txt (line 10))\n",
      "  Using cached https://files.pythonhosted.org/packages/16/18/9726cac3c7cb9e5a1ac4523b3e508128136b37aadb3462c857a19318900e/Flask-BasicAuth-0.2.0.tar.gz\n",
      "Collecting ConfigArgParse>=1.0 (from locust->-r requirements.txt (line 10))\n",
      "  Using cached https://files.pythonhosted.org/packages/5d/c3/17846950db4e11cc2e71b36e5f8b236a7ab2f742f65597f3daf94f0b84b7/ConfigArgParse-1.4.tar.gz\n",
      "Collecting msgpack>=0.6.2 (from locust->-r requirements.txt (line 10))\n",
      "\u001b[?25l  Downloading https://files.pythonhosted.org/packages/f9/12/d6ddfec3cf6b8b83ed89368e88bab1afcff9120090b407e1c1a09549010b/msgpack-1.0.2-cp37-cp37m-macosx_10_14_x86_64.whl (72kB)\n",
      "\u001b[K     |████████████████████████████████| 81kB 14.1MB/s eta 0:00:01\n",
      "\u001b[?25hRequirement already satisfied: urllib3!=1.25.0,!=1.25.1,<1.26,>=1.21.1 in /Users/harika/Applications/anaconda3/lib/python3.7/site-packages (from requests==2.22.0->-r requirements.txt (line 11)) (1.25.11)\n",
      "Requirement already satisfied: ipython in /Users/harika/Applications/anaconda3/lib/python3.7/site-packages (from ipytest->-r requirements.txt (line 12)) (7.8.0)\n",
      "Requirement already satisfied: tornado>=5.0 in /Users/harika/Applications/anaconda3/lib/python3.7/site-packages (from pytest-tornasync->-r requirements.txt (line 13)) (6.0.3)\n",
      "Requirement already satisfied: azure-core<2.0.0,>=1.10.0 in /Users/harika/Applications/anaconda3/lib/python3.7/site-packages (from azure-storage-blob<13.0.0,>=12.0.0->snowflake-connector-python->-r requirements.txt (line 3)) (1.12.0)\n",
      "Requirement already satisfied: msrest>=0.6.18 in /Users/harika/Applications/anaconda3/lib/python3.7/site-packages (from azure-storage-blob<13.0.0,>=12.0.0->snowflake-connector-python->-r requirements.txt (line 3)) (0.6.21)\n",
      "Requirement already satisfied: botocore<1.21.0,>=1.20.17 in /Users/harika/Applications/anaconda3/lib/python3.7/site-packages (from boto3<2.0.0,>=1.4.4->snowflake-connector-python->-r requirements.txt (line 3)) (1.20.42)\n",
      "Requirement already satisfied: s3transfer<0.4.0,>=0.3.0 in /Users/harika/Applications/anaconda3/lib/python3.7/site-packages (from boto3<2.0.0,>=1.4.4->snowflake-connector-python->-r requirements.txt (line 3)) (0.3.4)\n",
      "Requirement already satisfied: jmespath<1.0.0,>=0.7.1 in /Users/harika/Applications/anaconda3/lib/python3.7/site-packages (from boto3<2.0.0,>=1.4.4->snowflake-connector-python->-r requirements.txt (line 3)) (0.10.0)\n",
      "Requirement already satisfied: pycparser in /Users/harika/Applications/anaconda3/lib/python3.7/site-packages (from cffi<2.0.0,>=1.9->snowflake-connector-python->-r requirements.txt (line 3)) (2.19)\n",
      "Requirement already satisfied: six>=1.4.1 in /Users/harika/Applications/anaconda3/lib/python3.7/site-packages (from cryptography<4.0.0,>=2.5.0->snowflake-connector-python->-r requirements.txt (line 3)) (1.12.0)\n",
      "Collecting llvmlite<0.37,>=0.36.0rc1 (from numba>=0.49->fastparquet->-r requirements.txt (line 6))\n",
      "  Using cached https://files.pythonhosted.org/packages/41/9c/57ccba5b72ced01ea42299a19cf828e7cb4decc242fe6444712b2822e789/llvmlite-0.36.0-cp37-cp37m-macosx_10_9_x86_64.whl\n",
      "Collecting pytzdata>=2020.1 (from pendulum~=2.0->apache-airflow->-r requirements.txt (line 8))\n",
      "  Using cached https://files.pythonhosted.org/packages/e0/4f/4474bda990ee740a020cbc3eb271925ef7daa7c8444240d34ff62c8442a3/pytzdata-2020.1-py2.py3-none-any.whl\n",
      "Collecting commonmark<0.10.0,>=0.9.0 (from rich==9.2.0->apache-airflow->-r requirements.txt (line 8))\n",
      "  Using cached https://files.pythonhosted.org/packages/b1/92/dfd892312d822f36c55366118b95d914e5f16de11044a27cf10a7d71bbbf/commonmark-0.9.1-py2.py3-none-any.whl\n",
      "Requirement already satisfied: colorama<0.5.0,>=0.4.0 in /Users/harika/Applications/anaconda3/lib/python3.7/site-packages (from rich==9.2.0->apache-airflow->-r requirements.txt (line 8)) (0.4.1)\n",
      "Requirement already satisfied: pyrsistent>=0.14.0 in /Users/harika/Applications/anaconda3/lib/python3.7/site-packages (from jsonschema~=3.0->apache-airflow->-r requirements.txt (line 8)) (0.15.4)\n",
      "Collecting natsort (from croniter<0.4,>=0.3.17->apache-airflow->-r requirements.txt (line 8))\n",
      "  Using cached https://files.pythonhosted.org/packages/63/23/8b6acd2e9c0b427802dd45aacf0b2a0250893c3b26c7b1340589a588cc2a/natsort-7.1.1-py3-none-any.whl\n",
      "Requirement already satisfied: zipp>=0.5 in /Users/harika/Applications/anaconda3/lib/python3.7/site-packages (from importlib-metadata~=1.7; python_version < \"3.9\"->apache-airflow->-r requirements.txt (line 8)) (0.6.0)\n",
      "Requirement already satisfied: defusedxml in /Users/harika/Applications/anaconda3/lib/python3.7/site-packages (from python3-openid~=3.2->apache-airflow->-r requirements.txt (line 8)) (0.6.0)\n",
      "Collecting WTForms (from flask-wtf<0.15,>=0.14.3->apache-airflow->-r requirements.txt (line 8))\n",
      "  Using cached https://files.pythonhosted.org/packages/e0/31/614fc7dc7d76005b0acb8c0c8920d962b83d7422b4ba912886dfb63f86ff/WTForms-2.3.3-py2.py3-none-any.whl\n",
      "Collecting text-unidecode>=1.3 (from python-slugify<5.0,>=3.0.0->apache-airflow->-r requirements.txt (line 8))\n",
      "  Using cached https://files.pythonhosted.org/packages/a6/a5/c0b6468d3824fe3fde30dbb5e1f687b291608f9473681bbf7dabbf5a87d7/text_unidecode-1.3-py2.py3-none-any.whl\n",
      "Collecting marshmallow<4.0.0,>=3.0.0rc6 (from marshmallow-oneofschema>=2.0.1->apache-airflow->-r requirements.txt (line 8))\n",
      "  Using cached https://files.pythonhosted.org/packages/57/06/87c14302f51d76a94945ae08da449baccb91f4d710c339fd1a1499209c45/marshmallow-3.11.1-py2.py3-none-any.whl\n",
      "Collecting Mako (from alembic<2.0,>=1.2->apache-airflow->-r requirements.txt (line 8))\n"
     ]
    },
    {
     "name": "stdout",
     "output_type": "stream",
     "text": [
      "  Using cached https://files.pythonhosted.org/packages/f3/54/dbc07fbb20865d3b78fdb7cf7fa713e2cba4f87f71100074ef2dc9f9d1f7/Mako-1.1.4-py2.py3-none-any.whl\n",
      "Collecting python-editor>=0.3 (from alembic<2.0,>=1.2->apache-airflow->-r requirements.txt (line 8))\n",
      "  Using cached https://files.pythonhosted.org/packages/c6/d3/201fc3abe391bbae6606e6f1d598c15d367033332bd54352b12f35513717/python_editor-1.0.4-py3-none-any.whl\n",
      "Collecting inflection>=0.3.1 (from connexion[flask,swagger-ui]<3,>=2.6.0->apache-airflow->-r requirements.txt (line 8))\n",
      "  Using cached https://files.pythonhosted.org/packages/59/91/aa6bde563e0085a02a435aa99b49ef75b0a4b062635e606dab23ce18d720/inflection-0.5.1-py2.py3-none-any.whl\n",
      "Collecting openapi-spec-validator>=0.2.4 (from connexion[flask,swagger-ui]<3,>=2.6.0->apache-airflow->-r requirements.txt (line 8))\n",
      "  Using cached https://files.pythonhosted.org/packages/9c/50/f1c761692659d5c79867d6dbbf8af323564865a121aefe52c983cb2acbb7/openapi_spec_validator-0.3.0-py3-none-any.whl\n",
      "Requirement already satisfied: PyYAML>=5.1 in /Users/harika/Applications/anaconda3/lib/python3.7/site-packages (from connexion[flask,swagger-ui]<3,>=2.6.0->apache-airflow->-r requirements.txt (line 8)) (5.1.2)\n",
      "Collecting clickclick>=1.2 (from connexion[flask,swagger-ui]<3,>=2.6.0->apache-airflow->-r requirements.txt (line 8))\n",
      "  Using cached https://files.pythonhosted.org/packages/7a/7e/c08007d3fb2bbefb430437a3573373590abedc03566b785d7d6763b22480/clickclick-20.10.2-py2.py3-none-any.whl\n",
      "Collecting swagger-ui-bundle>=0.0.2; extra == \"swagger-ui\" (from connexion[flask,swagger-ui]<3,>=2.6.0->apache-airflow->-r requirements.txt (line 8))\n",
      "  Using cached https://files.pythonhosted.org/packages/bf/f3/4d370b25c6a23f44d6e6d538ff42c13f897b6cf71e7b684aa6aa9779d800/swagger_ui_bundle-0.0.8-py3-none-any.whl\n",
      "Requirement already satisfied: docutils in /Users/harika/Applications/anaconda3/lib/python3.7/site-packages (from python-daemon>=2.2.4->apache-airflow->-r requirements.txt (line 8)) (0.15.2)\n",
      "Collecting marshmallow-sqlalchemy<0.24.0,>=0.22.0 (from flask-appbuilder~=3.1.1->apache-airflow->-r requirements.txt (line 8))\n",
      "  Using cached https://files.pythonhosted.org/packages/95/4e/6ac54e42c669d69a578ccad9f7d589ec208ced28975ae44f1c697410b453/marshmallow_sqlalchemy-0.23.1-py2.py3-none-any.whl\n",
      "Collecting prison<1.0.0,>=0.1.3 (from flask-appbuilder~=3.1.1->apache-airflow->-r requirements.txt (line 8))\n",
      "  Using cached https://files.pythonhosted.org/packages/56/3d/10c7dfd83613dadc8388bdef8e8000ccfb2984134050ce9bea6a00c94296/prison-0.1.3-py2.py3-none-any.whl\n",
      "Collecting Flask-JWT-Extended<4,>=3.18 (from flask-appbuilder~=3.1.1->apache-airflow->-r requirements.txt (line 8))\n",
      "  Using cached https://files.pythonhosted.org/packages/92/dd/39b680ba521d36a0f373d46c6c19914a319e285aa7ecdd090f703b1a79f2/Flask-JWT-Extended-3.25.1.tar.gz\n",
      "Collecting Flask-Babel<2,>=1 (from flask-appbuilder~=3.1.1->apache-airflow->-r requirements.txt (line 8))\n",
      "  Using cached https://files.pythonhosted.org/packages/76/a4/0115c7c520125853037fc1d6b3da132a526949640e27a699a13e05ec7593/Flask_Babel-1.0.0-py3-none-any.whl\n",
      "Collecting apispec[yaml]<4,>=3.3 (from flask-appbuilder~=3.1.1->apache-airflow->-r requirements.txt (line 8))\n",
      "  Using cached https://files.pythonhosted.org/packages/35/a2/80a82b22296c942a5298bb760e8e21c86ace3342de840ff3df8938af4272/apispec-3.3.2-py2.py3-none-any.whl\n",
      "Collecting email-validator<2,>=1.0.5 (from flask-appbuilder~=3.1.1->apache-airflow->-r requirements.txt (line 8))\n",
      "  Using cached https://files.pythonhosted.org/packages/58/f0/39459bb868ddb4e96ee3f8b1386deeceb1bf4e53de8c18a4afdf5801f24c/email_validator-1.1.2-py2.py3-none-any.whl\n",
      "Collecting Flask-SQLAlchemy<3,>=2.4 (from flask-appbuilder~=3.1.1->apache-airflow->-r requirements.txt (line 8))\n",
      "  Using cached https://files.pythonhosted.org/packages/26/2c/9088b6bd95bca539230bbe9ad446737ed391aab9a83aff403e18dded3e75/Flask_SQLAlchemy-2.5.1-py2.py3-none-any.whl\n",
      "Collecting marshmallow-enum<2,>=1.5.1 (from flask-appbuilder~=3.1.1->apache-airflow->-r requirements.txt (line 8))\n",
      "  Using cached https://files.pythonhosted.org/packages/c6/59/ef3a3dc499be447098d4a89399beb869f813fee1b5a57d5d79dee2c1bf51/marshmallow_enum-1.5.1-py2.py3-none-any.whl\n",
      "Collecting Flask-OpenID<2,>=1.2.5 (from flask-appbuilder~=3.1.1->apache-airflow->-r requirements.txt (line 8))\n",
      "  Using cached https://files.pythonhosted.org/packages/d1/a2/9d1fba3287a65f81b9d1c09c4f7cb16f8ea4988b1bc97ffea0d60983338f/Flask-OpenID-1.2.5.tar.gz\n",
      "Collecting sqlalchemy-utils<1,>=0.32.21 (from flask-appbuilder~=3.1.1->apache-airflow->-r requirements.txt (line 8))\n",
      "  Using cached https://files.pythonhosted.org/packages/14/68/e5301c4c960c79a32333b8805e52cb69d3d237aa869a773b4157ccb3eb26/SQLAlchemy-Utils-0.36.8.tar.gz\n",
      "Requirement already satisfied: pyparsing>=2.0.2 in /Users/harika/Applications/anaconda3/lib/python3.7/site-packages (from packaging->pytest->-r requirements.txt (line 9)) (2.4.2)\n",
      "Collecting zope.interface (from gevent>=20.9.0->locust->-r requirements.txt (line 10))\n",
      "\u001b[?25l  Downloading https://files.pythonhosted.org/packages/a2/75/649835fde2b5420587e70dbe8faa03cb2a5b822f27f017105a4efad94bf7/zope.interface-5.3.0-cp37-cp37m-macosx_10_14_x86_64.whl (204kB)\n",
      "\u001b[K     |████████████████████████████████| 204kB 17.5MB/s eta 0:00:01\n",
      "\u001b[?25hCollecting zope.event (from gevent>=20.9.0->locust->-r requirements.txt (line 10))\n",
      "  Using cached https://files.pythonhosted.org/packages/9e/85/b45408c64f3b888976f1d5b37eed8d746b8d5729a66a49ec846fda27d371/zope.event-4.5.0-py2.py3-none-any.whl\n",
      "Collecting greenlet<2.0,>=0.4.17; platform_python_implementation == \"CPython\" (from gevent>=20.9.0->locust->-r requirements.txt (line 10))\n",
      "  Using cached https://files.pythonhosted.org/packages/4b/75/1a4c2ffdecb1d6aa7ea425e1871994b790c2a5a9b02ee3f2874256142142/greenlet-1.0.0-cp37-cp37m-macosx_10_14_x86_64.whl\n",
      "Requirement already satisfied: appnope; sys_platform == \"darwin\" in /Users/harika/Applications/anaconda3/lib/python3.7/site-packages (from ipython->ipytest->-r requirements.txt (line 12)) (0.1.0)\n",
      "Requirement already satisfied: decorator in /Users/harika/Applications/anaconda3/lib/python3.7/site-packages (from ipython->ipytest->-r requirements.txt (line 12)) (4.4.0)\n",
      "Requirement already satisfied: pexpect; sys_platform != \"win32\" in /Users/harika/Applications/anaconda3/lib/python3.7/site-packages (from ipython->ipytest->-r requirements.txt (line 12)) (4.7.0)\n",
      "Requirement already satisfied: traitlets>=4.2 in /Users/harika/Applications/anaconda3/lib/python3.7/site-packages (from ipython->ipytest->-r requirements.txt (line 12)) (4.3.3)\n",
      "Requirement already satisfied: jedi>=0.10 in /Users/harika/Applications/anaconda3/lib/python3.7/site-packages (from ipython->ipytest->-r requirements.txt (line 12)) (0.15.1)\n",
      "Requirement already satisfied: backcall in /Users/harika/Applications/anaconda3/lib/python3.7/site-packages (from ipython->ipytest->-r requirements.txt (line 12)) (0.1.0)\n",
      "Requirement already satisfied: prompt-toolkit<2.1.0,>=2.0.0 in /Users/harika/Applications/anaconda3/lib/python3.7/site-packages (from ipython->ipytest->-r requirements.txt (line 12)) (2.0.10)\n",
      "Requirement already satisfied: pickleshare in /Users/harika/Applications/anaconda3/lib/python3.7/site-packages (from ipython->ipytest->-r requirements.txt (line 12)) (0.7.5)\n",
      "Requirement already satisfied: isodate>=0.6.0 in /Users/harika/Applications/anaconda3/lib/python3.7/site-packages (from msrest>=0.6.18->azure-storage-blob<13.0.0,>=12.0.0->snowflake-connector-python->-r requirements.txt (line 3)) (0.6.0)\n",
      "Requirement already satisfied: requests-oauthlib>=0.5.0 in /Users/harika/Applications/anaconda3/lib/python3.7/site-packages (from msrest>=0.6.18->azure-storage-blob<13.0.0,>=12.0.0->snowflake-connector-python->-r requirements.txt (line 3)) (1.3.0)\n",
      "Requirement already satisfied: more-itertools in /Users/harika/Applications/anaconda3/lib/python3.7/site-packages (from zipp>=0.5->importlib-metadata~=1.7; python_version < \"3.9\"->apache-airflow->-r requirements.txt (line 8)) (7.2.0)\n",
      "Collecting openapi-schema-validator (from openapi-spec-validator>=0.2.4->connexion[flask,swagger-ui]<3,>=2.6.0->apache-airflow->-r requirements.txt (line 8))\n",
      "  Using cached https://files.pythonhosted.org/packages/61/de/67a615be34d76a1b18ee13861ffd584ffc982e465499c67d5b029bd1084a/openapi_schema_validator-0.1.5-py3-none-any.whl\n"
     ]
    },
    {
     "name": "stdout",
     "output_type": "stream",
     "text": [
      "Requirement already satisfied: Babel>=2.3 in /Users/harika/Applications/anaconda3/lib/python3.7/site-packages (from Flask-Babel<2,>=1->flask-appbuilder~=3.1.1->apache-airflow->-r requirements.txt (line 8)) (2.7.0)\n",
      "Collecting dnspython>=1.15.0 (from email-validator<2,>=1.0.5->flask-appbuilder~=3.1.1->apache-airflow->-r requirements.txt (line 8))\n",
      "  Using cached https://files.pythonhosted.org/packages/f5/2d/ae9e172b4e5e72fa4b3cfc2517f38b602cc9ba31355f9669c502b4e9c458/dnspython-2.1.0-py3-none-any.whl\n",
      "Requirement already satisfied: ptyprocess>=0.5 in /Users/harika/Applications/anaconda3/lib/python3.7/site-packages (from pexpect; sys_platform != \"win32\"->ipython->ipytest->-r requirements.txt (line 12)) (0.6.0)\n",
      "Requirement already satisfied: ipython-genutils in /Users/harika/Applications/anaconda3/lib/python3.7/site-packages (from traitlets>=4.2->ipython->ipytest->-r requirements.txt (line 12)) (0.2.0)\n",
      "Requirement already satisfied: parso>=0.5.0 in /Users/harika/Applications/anaconda3/lib/python3.7/site-packages (from jedi>=0.10->ipython->ipytest->-r requirements.txt (line 12)) (0.5.1)\n",
      "Requirement already satisfied: wcwidth in /Users/harika/Applications/anaconda3/lib/python3.7/site-packages (from prompt-toolkit<2.1.0,>=2.0.0->ipython->ipytest->-r requirements.txt (line 12)) (0.1.7)\n",
      "Requirement already satisfied: oauthlib>=3.0.0 in /Users/harika/Applications/anaconda3/lib/python3.7/site-packages (from requests-oauthlib>=0.5.0->msrest>=0.6.18->azure-storage-blob<13.0.0,>=12.0.0->snowflake-connector-python->-r requirements.txt (line 3)) (3.1.0)\n",
      "Building wheels for collected packages: setproctitle\n",
      "  Building wheel for setproctitle (PEP 517) ... \u001b[?25ldone\n",
      "\u001b[?25h  Created wheel for setproctitle: filename=setproctitle-1.2.2-cp37-cp37m-macosx_10_9_x86_64.whl size=10871 sha256=cf2f2859000e8828eb0860b5748906d01b739f74d58fc4ef8d4ce450bea504b1\n",
      "  Stored in directory: /Users/harika/Library/Caches/pip/wheels/f3/8d/f3/7e455f6161cb0c5375ad10636a6468a3d9a25a95309b1c3faf\n",
      "Successfully built setproctitle\n",
      "Building wheels for collected packages: python-nvd3, flask-login, python-slugify, Flask-BasicAuth, ConfigArgParse, Flask-JWT-Extended, Flask-OpenID, sqlalchemy-utils\n",
      "  Building wheel for python-nvd3 (setup.py) ... \u001b[?25ldone\n",
      "\u001b[?25h  Created wheel for python-nvd3: filename=python_nvd3-0.15.0-cp37-none-any.whl size=38154 sha256=0740cc700406d8ed8576b63e1fe31e9d8ba5a8b9b113bd6e946e168b5c8ba337\n",
      "  Stored in directory: /Users/harika/Library/Caches/pip/wheels/88/62/32/46f3425abe3505837e6345f7225201b5eb928c0991c99f5e47\n",
      "  Building wheel for flask-login (setup.py) ... \u001b[?25ldone\n",
      "\u001b[?25h  Created wheel for flask-login: filename=Flask_Login-0.4.1-py2.py3-none-any.whl size=15935 sha256=c885851122770884feb56736843298bfb978d123603b3ec68f76f8cf0c607eb6\n",
      "  Stored in directory: /Users/harika/Library/Caches/pip/wheels/39/10/74/d68194e28d5f7a83de5f66e5b2deff5ccbb424fe45e6b0e927\n",
      "  Building wheel for python-slugify (setup.py) ... \u001b[?25ldone\n",
      "\u001b[?25h  Created wheel for python-slugify: filename=python_slugify-4.0.1-py2.py3-none-any.whl size=6768 sha256=feacc80f21db9bab7ee6de46d9d17c08d99f195621a4aec612e509e88ab52032\n",
      "  Stored in directory: /Users/harika/Library/Caches/pip/wheels/67/b8/ba/041548f30a6fc058c9b3f79a5b7b6aea925a15dd1e5c4992a4\n",
      "  Building wheel for Flask-BasicAuth (setup.py) ... \u001b[?25ldone\n",
      "\u001b[?25h  Created wheel for Flask-BasicAuth: filename=Flask_BasicAuth-0.2.0-cp37-none-any.whl size=4229 sha256=9e43de7b50bdd4a437c01dfc53a543094c7c543c1e89f179fd52d8fdee28272e\n",
      "  Stored in directory: /Users/harika/Library/Caches/pip/wheels/8a/d5/8c/1f40bffc038e6ab2865836cc303e312e16de7b6b577be16b25\n",
      "  Building wheel for ConfigArgParse (setup.py) ... \u001b[?25ldone\n",
      "\u001b[?25h  Created wheel for ConfigArgParse: filename=ConfigArgParse-1.4-cp37-none-any.whl size=19639 sha256=9a5779e7e6e121436cf14c670a4c86cf48ccea1bd2a9bdb41774c5d69d381cab\n",
      "  Stored in directory: /Users/harika/Library/Caches/pip/wheels/d6/61/f7/626bbd080a9f2f70015f92025e0af663c595146083f3d9aa05\n",
      "  Building wheel for Flask-JWT-Extended (setup.py) ... \u001b[?25ldone\n",
      "\u001b[?25h  Created wheel for Flask-JWT-Extended: filename=Flask_JWT_Extended-3.25.1-py2.py3-none-any.whl size=21599 sha256=9ad1ba5bb7128ca9dfeab3d692d1741c0a63daa71ff4f28622224c2180406b66\n",
      "  Stored in directory: /Users/harika/Library/Caches/pip/wheels/f8/ca/94/2fe31e5fd2cb7383f3d3e5e640896343b8e810efce413dfe64\n",
      "  Building wheel for Flask-OpenID (setup.py) ... \u001b[?25ldone\n",
      "\u001b[?25h  Created wheel for Flask-OpenID: filename=Flask_OpenID-1.2.5-cp37-none-any.whl size=9120 sha256=04f7c77a3a130bb1a611274de72bdcc45a605e42b29cb7dfeb699e03375229a0\n",
      "  Stored in directory: /Users/harika/Library/Caches/pip/wheels/3b/1e/c0/b941aa1a5954f1acabbf1671a64e27adc359c0b0e74b16f8b4\n",
      "  Building wheel for sqlalchemy-utils (setup.py) ... \u001b[?25ldone\n",
      "\u001b[?25h  Created wheel for sqlalchemy-utils: filename=SQLAlchemy_Utils-0.36.8-py2.py3-none-any.whl size=93219 sha256=443d4d12c3ed8dfc34d67e3551d11c57160a9be835fccef7873ed98b5b2f3fec\n",
      "  Stored in directory: /Users/harika/Library/Caches/pip/wheels/68/31/b6/a96bf6868f42753696d647846c9a0f8e51bd99295790d07660\n",
      "Successfully built python-nvd3 flask-login python-slugify Flask-BasicAuth ConfigArgParse Flask-JWT-Extended Flask-OpenID sqlalchemy-utils\n",
      "\u001b[31mERROR: aiobotocore 1.2.1 has requirement botocore<1.19.53,>=1.19.52, but you'll have botocore 1.20.42 which is incompatible.\u001b[0m\n",
      "\u001b[31mERROR: rich 9.2.0 has requirement pygments<3.0.0,>=2.6.0, but you'll have pygments 2.4.2 which is incompatible.\u001b[0m\n",
      "\u001b[31mERROR: flask-jwt-extended 3.25.1 has requirement PyJWT<2.0,>=1.6.4, but you'll have pyjwt 2.0.1 which is incompatible.\u001b[0m\n",
      "\u001b[31mERROR: apache-airflow 2.0.1 has requirement pyjwt<2, but you'll have pyjwt 2.0.1 which is incompatible.\u001b[0m\n",
      "\u001b[31mERROR: locust 1.4.3 has requirement flask>=1.1.2, but you'll have flask 1.1.1 which is incompatible.\u001b[0m\n",
      "\u001b[31mERROR: locust 1.4.3 has requirement psutil>=5.6.7, but you'll have psutil 5.6.3 which is incompatible.\u001b[0m\n",
      "Installing collected packages: h11, uvicorn, llvmlite, numba, fastparquet, SQLAlchemy, cached-property, pytzdata, pendulum, apache-airflow-providers-http, lockfile, sqlalchemy-jsonfield, text-unidecode, python-slugify, python-nvd3, iso8601, setproctitle, attrs, cattrs, tabulate, apache-airflow-providers-sqlite, commonmark, rich, werkzeug, importlib-metadata, argcomplete, natsort, croniter, flask-login, apache-airflow-providers-ftp, flask-caching, apache-airflow-providers-imap, python3-openid, WTForms, flask-wtf, dill, gunicorn, tenacity, colorlog, marshmallow, marshmallow-oneofschema, Mako, python-editor, alembic, inflection, openapi-schema-validator, openapi-spec-validator, clickclick, swagger-ui-bundle, connexion, importlib-resources, python-daemon, graphviz, marshmallow-sqlalchemy, prison, Flask-JWT-Extended, Flask-Babel, apispec, dnspython, email-validator, Flask-SQLAlchemy, marshmallow-enum, Flask-OpenID, sqlalchemy-utils, flask-appbuilder, apache-airflow, zope.interface, zope.event, greenlet, gevent, geventhttpclient, Flask-BasicAuth, ConfigArgParse, msgpack, locust\n",
      "  Found existing installation: llvmlite 0.29.0\n",
      "\u001b[31mERROR: Cannot uninstall 'llvmlite'. It is a distutils installed project and thus we cannot accurately determine which files belong to it which would lead to only a partial uninstall.\u001b[0m\n",
      "Note: you may need to restart the kernel to use updated packages.\n"
     ]
    }
   ],
   "source": [
    "pip install -r requirements.txt"
   ]
  },
  {
   "cell_type": "code",
   "execution_count": 2,
   "metadata": {},
   "outputs": [],
   "source": [
    "import nest_asyncio\n",
    "nest_asyncio.apply()\n",
    "\n",
    "\n",
    "import ipytest\n",
    "ipytest.autoconfig()\n",
    "\n",
    "\n",
    "import pytest\n",
    "from fastapi.testclient import TestClient\n",
    "from fastapi import Depends\n",
    "from fastapi.security.api_key import APIKey\n",
    "import warnings\n",
    "\n",
    "\n",
    "from ipynb.fs.full.main import *"
   ]
  },
  {
   "cell_type": "code",
   "execution_count": 3,
   "metadata": {},
   "outputs": [],
   "source": [
    "client = TestClient(app)"
   ]
  },
  {
   "cell_type": "code",
   "execution_count": 4,
   "metadata": {},
   "outputs": [
    {
     "name": "stdout",
     "output_type": "stream",
     "text": [
      ".                                                                        [100%]\n",
      "1 passed in 0.03s\n"
     ]
    }
   ],
   "source": [
    "%%run_pytest[clean]\n",
    "\n",
    "def test_root():\n",
    "    response = client.get(\"/\")\n",
    "    assert response.status_code == 200\n",
    "    assert response.json() == {\n",
    "  \"message\": \"Welcome to NASA Turbofan Jet Engine Data\"\n",
    "\t\t}\n"
   ]
  },
  {
   "cell_type": "code",
   "execution_count": 5,
   "metadata": {},
   "outputs": [
    {
     "name": "stdout",
     "output_type": "stream",
     "text": [
      ".                                                                        [100%]\n",
      "1 passed in 7.45s\n"
     ]
    }
   ],
   "source": [
    "%%run_pytest[clean]\n",
    "def test_config():\n",
    "    response = client.post(\"/pipeline/config\")\n",
    "    assert response.status_code == 200\n",
    "    assert response.json() == [\n",
    "  \"Airflow Webserver & Scheduler Started\"\n",
    "]"
   ]
  },
  {
   "cell_type": "code",
   "execution_count": 6,
   "metadata": {},
   "outputs": [
    {
     "name": "stdout",
     "output_type": "stream",
     "text": [
      ".                                                                        [100%]\n",
      "1 passed in 1.86s\n"
     ]
    }
   ],
   "source": [
    "%%run_pytest[clean]\n",
    "def test_start():\n",
    "    response = client.post(\"/pipeline/start\")\n",
    "    assert response.status_code == 200\n",
    "    assert response.json() == {\n",
    "  \"status\": \"Airflow Pipeline Started\",\n",
    "  \"details\": 256\n",
    "\t\t}"
   ]
  },
  {
   "cell_type": "code",
   "execution_count": 7,
   "metadata": {},
   "outputs": [
    {
     "name": "stdout",
     "output_type": "stream",
     "text": [
      ".                                                                        [100%]\n",
      "1 passed in 0.94s\n"
     ]
    }
   ],
   "source": [
    "%%run_pytest[clean]\n",
    "def test_cycles():\n",
    "    \n",
    "    response1 = client.get(\"/cycles?unit_number=1&fault=FD001\")\n",
    "    assert response1.status_code == 200\n",
    "    assert response1.json() == {\n",
    "  \t\t\"train_cycles\": 192,\n",
    "  \t\t\"test_cycles\": 31\n",
    "\t\t\t}"
   ]
  },
  {
   "cell_type": "code",
   "execution_count": 8,
   "metadata": {},
   "outputs": [
    {
     "name": "stdout",
     "output_type": "stream",
     "text": [
      ".                                                                        [100%]\n",
      "1 passed in 0.89s\n"
     ]
    }
   ],
   "source": [
    "%%run_pytest[clean]\n",
    "def test_rul():\n",
    "    response = client.get(\"/rul?unit_number=1&fault=FD001\")\n",
    "    assert response.status_code == 200\n",
    "    assert response.json() == [\n",
    "  {\n",
    "    \"UNIT_NUMBER\": 1,\n",
    "    \"FAULT\": \"FD001\",\n",
    "    \"RUL\": 112\n",
    "  }\n",
    "]"
   ]
  },
  {
   "cell_type": "code",
   "execution_count": 9,
   "metadata": {},
   "outputs": [
    {
     "name": "stdout",
     "output_type": "stream",
     "text": [
      ".                                                                        [100%]\n",
      "1 passed in 0.69s\n"
     ]
    }
   ],
   "source": [
    "%%run_pytest[clean]\n",
    "def test_operational_data():\n",
    "    response = client.get(\"/engine/operational_data?unit_number=1&dataset_type=train&fault=FD001\")\n",
    "    json_response = response.json()\n",
    "    iterator = iter(json_response)\n",
    "    val=True\n",
    "    for x in iterator:\n",
    "        if (x['FAULT']=='FD001') and (x['UNIT_NUMBER']==1):\n",
    "            continue\n",
    "        else:\n",
    "            print(x)\n",
    "            val=False\n",
    "        \n",
    "    if val==True:\n",
    "        print('Succesful')\n",
    "    assert response.status_code == 200\n",
    "    assert val == True"
   ]
  },
  {
   "cell_type": "code",
   "execution_count": 10,
   "metadata": {},
   "outputs": [
    {
     "name": "stdout",
     "output_type": "stream",
     "text": [
      ".                                                                        [100%]\n",
      "1 passed in 1.21s\n"
     ]
    }
   ],
   "source": [
    "%%run_pytest[clean]\n",
    "def test_sensordata():\n",
    "    response = client.get(\"/engine/sensordata?unit_number=1&dataset_type=train&fault=FD001\")\n",
    "    json_response = response.json()\n",
    "    iterator = iter(json_response)\n",
    "    val=True\n",
    "    for x in iterator:\n",
    "        if (x['FAULT']=='FD001') and (x['UNIT_NUMBER']==1) :\n",
    "            continue\n",
    "        else:\n",
    "            print(x)\n",
    "            val=False\n",
    "        \n",
    "    if val==True:\n",
    "        print('Succesful')\n",
    "    assert response.status_code == 200\n",
    "    assert val == True\n"
   ]
  },
  {
   "cell_type": "code",
   "execution_count": null,
   "metadata": {},
   "outputs": [],
   "source": []
  },
  {
   "cell_type": "markdown",
   "metadata": {},
   "source": [
    "## Validating API Responses"
   ]
  },
  {
   "cell_type": "code",
   "execution_count": null,
   "metadata": {},
   "outputs": [],
   "source": []
  },
  {
   "cell_type": "code",
   "execution_count": null,
   "metadata": {},
   "outputs": [],
   "source": []
  },
  {
   "cell_type": "code",
   "execution_count": 11,
   "metadata": {
    "id": "IbjO6H3C9EPG"
   },
   "outputs": [],
   "source": [
    "import snowflake.connector as snow\n",
    "import pandas as pd\n",
    "\n",
    "def snowflake_connect():\n",
    "    conn = snow.connect(user=\"prudhvics\",\n",
    "                        password=\"Prudhvi_43\",\n",
    "                        account=\"tx62478.us-central1.gcp\",\n",
    "                        database=\"NASA_CMAPS\",\n",
    "                        schema=\"DEV\",\n",
    "                        warehouse=\"CMAPS\")\n",
    "\n",
    "    return conn"
   ]
  },
  {
   "cell_type": "code",
   "execution_count": 12,
   "metadata": {
    "id": "k_lSTczjIiCd"
   },
   "outputs": [],
   "source": [
    "import json\n",
    "def snowflake_query(sql):\n",
    "    conn=snowflake_connect()\n",
    "    cur = conn.cursor()\n",
    "    # Execute a statement that will generate a result set.\n",
    "    df=cur.execute(sql)\n",
    "    # Fetch the result set from the cursor and deliver it as the Pandas DataFrame.\n",
    "    df = cur.fetch_pandas_all()\n",
    "    \n",
    "    return df"
   ]
  },
  {
   "cell_type": "markdown",
   "metadata": {},
   "source": [
    "## Routes"
   ]
  },
  {
   "cell_type": "markdown",
   "metadata": {},
   "source": [
    "### /root"
   ]
  },
  {
   "cell_type": "code",
   "execution_count": 13,
   "metadata": {},
   "outputs": [
    {
     "name": "stdout",
     "output_type": "stream",
     "text": [
      "{\"message\":\"Welcome to NASA Turbofan Jet Engine Data\"}\n"
     ]
    }
   ],
   "source": [
    "import requests\n",
    "response=requests.get('http://127.0.0.1:8000/')\n",
    "print(response.text)"
   ]
  },
  {
   "cell_type": "markdown",
   "metadata": {},
   "source": [
    "### Get operationsl cycles - /cycles"
   ]
  },
  {
   "cell_type": "markdown",
   "metadata": {},
   "source": [
    "API Response"
   ]
  },
  {
   "cell_type": "code",
   "execution_count": 25,
   "metadata": {},
   "outputs": [],
   "source": [
    "response=requests.post('http://127.0.0.1:8000/generatetoken',data={'username':'tom','password':'password'})\n",
    "key=response.json()"
   ]
  },
  {
   "cell_type": "code",
   "execution_count": 26,
   "metadata": {},
   "outputs": [
    {
     "name": "stdout",
     "output_type": "stream",
     "text": [
      "{\"train_cycles\":192,\"test_cycles\":31}\n"
     ]
    }
   ],
   "source": [
    "response=requests.get('http://127.0.0.1:8000/cycles?unit_number=1&fault=FD001&access_token={}'.format(key))\n",
    "print(response.text)"
   ]
  },
  {
   "cell_type": "markdown",
   "metadata": {},
   "source": [
    "Snowflake"
   ]
  },
  {
   "cell_type": "code",
   "execution_count": 27,
   "metadata": {
    "id": "KRrjt-dmIks_"
   },
   "outputs": [],
   "source": [
    "unit_number=1\n",
    "fault='FD001'\n",
    "sql= \"SELECT dataset_type, MAX(time_in_cycles) as count from TRAIN_TEST where unit_number='{}' AND fault='{}' GROUP BY dataset_type order by dataset_type desc\".format(unit_number,fault)\n",
    "df = snowflake_query(sql)"
   ]
  },
  {
   "cell_type": "code",
   "execution_count": 28,
   "metadata": {
    "colab": {
     "base_uri": "https://localhost:8080/",
     "height": 111
    },
    "id": "cJFrtIIdI4_Y",
    "outputId": "8f1ca249-4f48-418d-fe9d-64f9f3e3c635"
   },
   "outputs": [
    {
     "data": {
      "text/html": [
       "<div>\n",
       "<style scoped>\n",
       "    .dataframe tbody tr th:only-of-type {\n",
       "        vertical-align: middle;\n",
       "    }\n",
       "\n",
       "    .dataframe tbody tr th {\n",
       "        vertical-align: top;\n",
       "    }\n",
       "\n",
       "    .dataframe thead th {\n",
       "        text-align: right;\n",
       "    }\n",
       "</style>\n",
       "<table border=\"1\" class=\"dataframe\">\n",
       "  <thead>\n",
       "    <tr style=\"text-align: right;\">\n",
       "      <th></th>\n",
       "      <th>DATASET_TYPE</th>\n",
       "      <th>COUNT</th>\n",
       "    </tr>\n",
       "  </thead>\n",
       "  <tbody>\n",
       "    <tr>\n",
       "      <th>0</th>\n",
       "      <td>train</td>\n",
       "      <td>192</td>\n",
       "    </tr>\n",
       "    <tr>\n",
       "      <th>1</th>\n",
       "      <td>test</td>\n",
       "      <td>31</td>\n",
       "    </tr>\n",
       "  </tbody>\n",
       "</table>\n",
       "</div>"
      ],
      "text/plain": [
       "  DATASET_TYPE  COUNT\n",
       "0        train    192\n",
       "1         test     31"
      ]
     },
     "execution_count": 28,
     "metadata": {},
     "output_type": "execute_result"
    }
   ],
   "source": [
    "df.head()"
   ]
  },
  {
   "cell_type": "markdown",
   "metadata": {
    "id": "3JXwa7poJB1W"
   },
   "source": [
    "### Get RUL - /rul"
   ]
  },
  {
   "cell_type": "markdown",
   "metadata": {},
   "source": [
    "API Response"
   ]
  },
  {
   "cell_type": "code",
   "execution_count": 29,
   "metadata": {},
   "outputs": [
    {
     "name": "stdout",
     "output_type": "stream",
     "text": [
      "[{\"UNIT_NUMBER\":1,\"FAULT\":\"FD001\",\"RUL\":112}]\n"
     ]
    }
   ],
   "source": [
    "response=requests.get('http://127.0.0.1:8000/rul?unit_number=1&fault=FD001&access_token={}'.format(key))\n",
    "print(response.text)"
   ]
  },
  {
   "cell_type": "code",
   "execution_count": 30,
   "metadata": {},
   "outputs": [
    {
     "name": "stdout",
     "output_type": "stream",
     "text": [
      "[{'UNIT_NUMBER': 1, 'RUL': 112, 'FAULT': 'FD001'}, {'UNIT_NUMBER': 1, 'RUL': 18, 'FAULT': 'FD002'}, {'UNIT_NUMBER': 1, 'RUL': 44, 'FAULT': 'FD003'}, {'UNIT_NUMBER': 1, 'RUL': 22, 'FAULT': 'FD004'}]\n"
     ]
    }
   ],
   "source": [
    "response=requests.get('http://127.0.0.1:8000/rul?unit_number=1&access_token={}'.format(key))\n",
    "print(response.json())"
   ]
  },
  {
   "cell_type": "markdown",
   "metadata": {},
   "source": [
    "Snowflake"
   ]
  },
  {
   "cell_type": "code",
   "execution_count": 31,
   "metadata": {},
   "outputs": [
    {
     "data": {
      "text/html": [
       "<div>\n",
       "<style scoped>\n",
       "    .dataframe tbody tr th:only-of-type {\n",
       "        vertical-align: middle;\n",
       "    }\n",
       "\n",
       "    .dataframe tbody tr th {\n",
       "        vertical-align: top;\n",
       "    }\n",
       "\n",
       "    .dataframe thead th {\n",
       "        text-align: right;\n",
       "    }\n",
       "</style>\n",
       "<table border=\"1\" class=\"dataframe\">\n",
       "  <thead>\n",
       "    <tr style=\"text-align: right;\">\n",
       "      <th></th>\n",
       "      <th>UNIT_NUMBER</th>\n",
       "      <th>RUL</th>\n",
       "      <th>FAULT</th>\n",
       "    </tr>\n",
       "  </thead>\n",
       "  <tbody>\n",
       "    <tr>\n",
       "      <th>0</th>\n",
       "      <td>1</td>\n",
       "      <td>112</td>\n",
       "      <td>FD001</td>\n",
       "    </tr>\n",
       "    <tr>\n",
       "      <th>1</th>\n",
       "      <td>1</td>\n",
       "      <td>18</td>\n",
       "      <td>FD002</td>\n",
       "    </tr>\n",
       "    <tr>\n",
       "      <th>2</th>\n",
       "      <td>1</td>\n",
       "      <td>44</td>\n",
       "      <td>FD003</td>\n",
       "    </tr>\n",
       "    <tr>\n",
       "      <th>3</th>\n",
       "      <td>1</td>\n",
       "      <td>22</td>\n",
       "      <td>FD004</td>\n",
       "    </tr>\n",
       "  </tbody>\n",
       "</table>\n",
       "</div>"
      ],
      "text/plain": [
       "   UNIT_NUMBER  RUL  FAULT\n",
       "0            1  112  FD001\n",
       "1            1   18  FD002\n",
       "2            1   44  FD003\n",
       "3            1   22  FD004"
      ]
     },
     "execution_count": 31,
     "metadata": {},
     "output_type": "execute_result"
    }
   ],
   "source": [
    "fault=''\n",
    "unit_number=1\n",
    "if fault:\n",
    "    sql= \"SELECT unit_number,fault,RUL FROM RUL where unit_number='{}' and fault='{}'\".format(unit_number,fault)\n",
    "    df_fault = snowflake_query(sql)\n",
    "else:\n",
    "    sql=\"SELECT unit_number,RUL,fault FROM RUL where unit_number='{}'\".format(unit_number)\n",
    "    df=snowflake_query(sql)\n",
    "df"
   ]
  },
  {
   "cell_type": "markdown",
   "metadata": {},
   "source": [
    "### Get operational cycles"
   ]
  },
  {
   "cell_type": "markdown",
   "metadata": {},
   "source": [
    "API Response"
   ]
  },
  {
   "cell_type": "code",
   "execution_count": 34,
   "metadata": {},
   "outputs": [
    {
     "name": "stdout",
     "output_type": "stream",
     "text": [
      "[{'FAULT': 'FD002', 'UNIT_NUMBER': 3, 'TIME_IN_CYCLES': 1, 'OPERATIONAL_SETTING_1': 10.0052, 'OPERATIONAL_SETTING_2': 0.25, 'OPERATIONAL_SETTING_3': 100.0}, {'FAULT': 'FD002', 'UNIT_NUMBER': 3, 'TIME_IN_CYCLES': 2, 'OPERATIONAL_SETTING_1': 0.0015, 'OPERATIONAL_SETTING_2': 0.0007, 'OPERATIONAL_SETTING_3': 100.0}, {'FAULT': 'FD002', 'UNIT_NUMBER': 3, 'TIME_IN_CYCLES': 3, 'OPERATIONAL_SETTING_1': 0.0025, 'OPERATIONAL_SETTING_2': 0.0015, 'OPERATIONAL_SETTING_3': 100.0}, {'FAULT': 'FD002', 'UNIT_NUMBER': 3, 'TIME_IN_CYCLES': 4, 'OPERATIONAL_SETTING_1': 35.0045, 'OPERATIONAL_SETTING_2': 0.8418, 'OPERATIONAL_SETTING_3': 100.0}, {'FAULT': 'FD002', 'UNIT_NUMBER': 3, 'TIME_IN_CYCLES': 5, 'OPERATIONAL_SETTING_1': 9.9984, 'OPERATIONAL_SETTING_2': 0.2513, 'OPERATIONAL_SETTING_3': 100.0}, {'FAULT': 'FD002', 'UNIT_NUMBER': 3, 'TIME_IN_CYCLES': 6, 'OPERATIONAL_SETTING_1': 34.9988, 'OPERATIONAL_SETTING_2': 0.84, 'OPERATIONAL_SETTING_3': 100.0}, {'FAULT': 'FD002', 'UNIT_NUMBER': 3, 'TIME_IN_CYCLES': 7, 'OPERATIONAL_SETTING_1': 41.9988, 'OPERATIONAL_SETTING_2': 0.8404, 'OPERATIONAL_SETTING_3': 100.0}, {'FAULT': 'FD002', 'UNIT_NUMBER': 3, 'TIME_IN_CYCLES': 8, 'OPERATIONAL_SETTING_1': 0.0023, 'OPERATIONAL_SETTING_2': 0.0011, 'OPERATIONAL_SETTING_3': 100.0}, {'FAULT': 'FD002', 'UNIT_NUMBER': 3, 'TIME_IN_CYCLES': 9, 'OPERATIONAL_SETTING_1': 0.0024, 'OPERATIONAL_SETTING_2': 0.0, 'OPERATIONAL_SETTING_3': 100.0}, {'FAULT': 'FD002', 'UNIT_NUMBER': 3, 'TIME_IN_CYCLES': 10, 'OPERATIONAL_SETTING_1': 0.0024, 'OPERATIONAL_SETTING_2': 0.0017, 'OPERATIONAL_SETTING_3': 100.0}, {'FAULT': 'FD002', 'UNIT_NUMBER': 3, 'TIME_IN_CYCLES': 11, 'OPERATIONAL_SETTING_1': 25.0078, 'OPERATIONAL_SETTING_2': 0.62, 'OPERATIONAL_SETTING_3': 60.0}, {'FAULT': 'FD002', 'UNIT_NUMBER': 3, 'TIME_IN_CYCLES': 12, 'OPERATIONAL_SETTING_1': 0.0006, 'OPERATIONAL_SETTING_2': 0.0019, 'OPERATIONAL_SETTING_3': 100.0}, {'FAULT': 'FD002', 'UNIT_NUMBER': 3, 'TIME_IN_CYCLES': 13, 'OPERATIONAL_SETTING_1': 20.0034, 'OPERATIONAL_SETTING_2': 0.7012, 'OPERATIONAL_SETTING_3': 100.0}, {'FAULT': 'FD002', 'UNIT_NUMBER': 3, 'TIME_IN_CYCLES': 14, 'OPERATIONAL_SETTING_1': 20.0007, 'OPERATIONAL_SETTING_2': 0.7, 'OPERATIONAL_SETTING_3': 100.0}, {'FAULT': 'FD002', 'UNIT_NUMBER': 3, 'TIME_IN_CYCLES': 15, 'OPERATIONAL_SETTING_1': 0.0028, 'OPERATIONAL_SETTING_2': 0.0, 'OPERATIONAL_SETTING_3': 100.0}, {'FAULT': 'FD002', 'UNIT_NUMBER': 3, 'TIME_IN_CYCLES': 16, 'OPERATIONAL_SETTING_1': 41.999, 'OPERATIONAL_SETTING_2': 0.8416, 'OPERATIONAL_SETTING_3': 100.0}, {'FAULT': 'FD002', 'UNIT_NUMBER': 3, 'TIME_IN_CYCLES': 17, 'OPERATIONAL_SETTING_1': 41.9988, 'OPERATIONAL_SETTING_2': 0.84, 'OPERATIONAL_SETTING_3': 100.0}, {'FAULT': 'FD002', 'UNIT_NUMBER': 3, 'TIME_IN_CYCLES': 18, 'OPERATIONAL_SETTING_1': 10.0052, 'OPERATIONAL_SETTING_2': 0.2503, 'OPERATIONAL_SETTING_3': 100.0}, {'FAULT': 'FD002', 'UNIT_NUMBER': 3, 'TIME_IN_CYCLES': 19, 'OPERATIONAL_SETTING_1': 9.9983, 'OPERATIONAL_SETTING_2': 0.25, 'OPERATIONAL_SETTING_3': 100.0}, {'FAULT': 'FD002', 'UNIT_NUMBER': 3, 'TIME_IN_CYCLES': 20, 'OPERATIONAL_SETTING_1': 42.0007, 'OPERATIONAL_SETTING_2': 0.8413, 'OPERATIONAL_SETTING_3': 100.0}, {'FAULT': 'FD002', 'UNIT_NUMBER': 3, 'TIME_IN_CYCLES': 21, 'OPERATIONAL_SETTING_1': 0.0021, 'OPERATIONAL_SETTING_2': 0.0, 'OPERATIONAL_SETTING_3': 100.0}, {'FAULT': 'FD002', 'UNIT_NUMBER': 3, 'TIME_IN_CYCLES': 22, 'OPERATIONAL_SETTING_1': 9.9989, 'OPERATIONAL_SETTING_2': 0.2509, 'OPERATIONAL_SETTING_3': 100.0}, {'FAULT': 'FD002', 'UNIT_NUMBER': 3, 'TIME_IN_CYCLES': 23, 'OPERATIONAL_SETTING_1': 10.005, 'OPERATIONAL_SETTING_2': 0.25, 'OPERATIONAL_SETTING_3': 100.0}, {'FAULT': 'FD002', 'UNIT_NUMBER': 3, 'TIME_IN_CYCLES': 24, 'OPERATIONAL_SETTING_1': 25.0067, 'OPERATIONAL_SETTING_2': 0.62, 'OPERATIONAL_SETTING_3': 60.0}, {'FAULT': 'FD002', 'UNIT_NUMBER': 3, 'TIME_IN_CYCLES': 25, 'OPERATIONAL_SETTING_1': 35.0042, 'OPERATIONAL_SETTING_2': 0.8416, 'OPERATIONAL_SETTING_3': 100.0}, {'FAULT': 'FD002', 'UNIT_NUMBER': 3, 'TIME_IN_CYCLES': 26, 'OPERATIONAL_SETTING_1': 0.0001, 'OPERATIONAL_SETTING_2': 0.0006, 'OPERATIONAL_SETTING_3': 100.0}, {'FAULT': 'FD002', 'UNIT_NUMBER': 3, 'TIME_IN_CYCLES': 27, 'OPERATIONAL_SETTING_1': 10.0055, 'OPERATIONAL_SETTING_2': 0.2502, 'OPERATIONAL_SETTING_3': 100.0}, {'FAULT': 'FD002', 'UNIT_NUMBER': 3, 'TIME_IN_CYCLES': 28, 'OPERATIONAL_SETTING_1': 35.0061, 'OPERATIONAL_SETTING_2': 0.84, 'OPERATIONAL_SETTING_3': 100.0}, {'FAULT': 'FD002', 'UNIT_NUMBER': 3, 'TIME_IN_CYCLES': 29, 'OPERATIONAL_SETTING_1': 20.0009, 'OPERATIONAL_SETTING_2': 0.7, 'OPERATIONAL_SETTING_3': 100.0}, {'FAULT': 'FD002', 'UNIT_NUMBER': 3, 'TIME_IN_CYCLES': 30, 'OPERATIONAL_SETTING_1': 35.0002, 'OPERATIONAL_SETTING_2': 0.84, 'OPERATIONAL_SETTING_3': 100.0}, {'FAULT': 'FD002', 'UNIT_NUMBER': 3, 'TIME_IN_CYCLES': 31, 'OPERATIONAL_SETTING_1': 10.006, 'OPERATIONAL_SETTING_2': 0.2516, 'OPERATIONAL_SETTING_3': 100.0}, {'FAULT': 'FD002', 'UNIT_NUMBER': 3, 'TIME_IN_CYCLES': 32, 'OPERATIONAL_SETTING_1': 24.9996, 'OPERATIONAL_SETTING_2': 0.6205, 'OPERATIONAL_SETTING_3': 60.0}, {'FAULT': 'FD002', 'UNIT_NUMBER': 3, 'TIME_IN_CYCLES': 33, 'OPERATIONAL_SETTING_1': 35.0038, 'OPERATIONAL_SETTING_2': 0.841, 'OPERATIONAL_SETTING_3': 100.0}, {'FAULT': 'FD002', 'UNIT_NUMBER': 3, 'TIME_IN_CYCLES': 34, 'OPERATIONAL_SETTING_1': 35.0009, 'OPERATIONAL_SETTING_2': 0.841, 'OPERATIONAL_SETTING_3': 100.0}, {'FAULT': 'FD002', 'UNIT_NUMBER': 3, 'TIME_IN_CYCLES': 35, 'OPERATIONAL_SETTING_1': 10.0008, 'OPERATIONAL_SETTING_2': 0.25, 'OPERATIONAL_SETTING_3': 100.0}, {'FAULT': 'FD002', 'UNIT_NUMBER': 3, 'TIME_IN_CYCLES': 36, 'OPERATIONAL_SETTING_1': 20.0062, 'OPERATIONAL_SETTING_2': 0.7, 'OPERATIONAL_SETTING_3': 100.0}, {'FAULT': 'FD002', 'UNIT_NUMBER': 3, 'TIME_IN_CYCLES': 37, 'OPERATIONAL_SETTING_1': 35.0034, 'OPERATIONAL_SETTING_2': 0.841, 'OPERATIONAL_SETTING_3': 100.0}, {'FAULT': 'FD002', 'UNIT_NUMBER': 3, 'TIME_IN_CYCLES': 38, 'OPERATIONAL_SETTING_1': 25.0075, 'OPERATIONAL_SETTING_2': 0.6204, 'OPERATIONAL_SETTING_3': 60.0}, {'FAULT': 'FD002', 'UNIT_NUMBER': 3, 'TIME_IN_CYCLES': 39, 'OPERATIONAL_SETTING_1': 35.0016, 'OPERATIONAL_SETTING_2': 0.8407, 'OPERATIONAL_SETTING_3': 100.0}, {'FAULT': 'FD002', 'UNIT_NUMBER': 3, 'TIME_IN_CYCLES': 40, 'OPERATIONAL_SETTING_1': 9.9982, 'OPERATIONAL_SETTING_2': 0.25, 'OPERATIONAL_SETTING_3': 100.0}, {'FAULT': 'FD002', 'UNIT_NUMBER': 3, 'TIME_IN_CYCLES': 41, 'OPERATIONAL_SETTING_1': 25.0043, 'OPERATIONAL_SETTING_2': 0.6205, 'OPERATIONAL_SETTING_3': 60.0}, {'FAULT': 'FD002', 'UNIT_NUMBER': 3, 'TIME_IN_CYCLES': 42, 'OPERATIONAL_SETTING_1': 42.0012, 'OPERATIONAL_SETTING_2': 0.84, 'OPERATIONAL_SETTING_3': 100.0}, {'FAULT': 'FD002', 'UNIT_NUMBER': 3, 'TIME_IN_CYCLES': 43, 'OPERATIONAL_SETTING_1': 19.9982, 'OPERATIONAL_SETTING_2': 0.7002, 'OPERATIONAL_SETTING_3': 100.0}, {'FAULT': 'FD002', 'UNIT_NUMBER': 3, 'TIME_IN_CYCLES': 44, 'OPERATIONAL_SETTING_1': 42.0033, 'OPERATIONAL_SETTING_2': 0.84, 'OPERATIONAL_SETTING_3': 100.0}, {'FAULT': 'FD002', 'UNIT_NUMBER': 3, 'TIME_IN_CYCLES': 45, 'OPERATIONAL_SETTING_1': 24.9981, 'OPERATIONAL_SETTING_2': 0.6202, 'OPERATIONAL_SETTING_3': 60.0}, {'FAULT': 'FD002', 'UNIT_NUMBER': 3, 'TIME_IN_CYCLES': 46, 'OPERATIONAL_SETTING_1': 0.0018, 'OPERATIONAL_SETTING_2': 0.0, 'OPERATIONAL_SETTING_3': 100.0}, {'FAULT': 'FD002', 'UNIT_NUMBER': 3, 'TIME_IN_CYCLES': 47, 'OPERATIONAL_SETTING_1': 34.9985, 'OPERATIONAL_SETTING_2': 0.84, 'OPERATIONAL_SETTING_3': 100.0}, {'FAULT': 'FD002', 'UNIT_NUMBER': 3, 'TIME_IN_CYCLES': 48, 'OPERATIONAL_SETTING_1': 24.9998, 'OPERATIONAL_SETTING_2': 0.62, 'OPERATIONAL_SETTING_3': 60.0}, {'FAULT': 'FD002', 'UNIT_NUMBER': 3, 'TIME_IN_CYCLES': 49, 'OPERATIONAL_SETTING_1': 25.0069, 'OPERATIONAL_SETTING_2': 0.6217, 'OPERATIONAL_SETTING_3': 60.0}, {'FAULT': 'FD002', 'UNIT_NUMBER': 3, 'TIME_IN_CYCLES': 50, 'OPERATIONAL_SETTING_1': 19.999, 'OPERATIONAL_SETTING_2': 0.7002, 'OPERATIONAL_SETTING_3': 100.0}, {'FAULT': 'FD002', 'UNIT_NUMBER': 3, 'TIME_IN_CYCLES': 51, 'OPERATIONAL_SETTING_1': 42.0031, 'OPERATIONAL_SETTING_2': 0.84, 'OPERATIONAL_SETTING_3': 100.0}, {'FAULT': 'FD002', 'UNIT_NUMBER': 3, 'TIME_IN_CYCLES': 52, 'OPERATIONAL_SETTING_1': 41.9996, 'OPERATIONAL_SETTING_2': 0.84, 'OPERATIONAL_SETTING_3': 100.0}, {'FAULT': 'FD002', 'UNIT_NUMBER': 3, 'TIME_IN_CYCLES': 53, 'OPERATIONAL_SETTING_1': 42.0023, 'OPERATIONAL_SETTING_2': 0.8405, 'OPERATIONAL_SETTING_3': 100.0}, {'FAULT': 'FD002', 'UNIT_NUMBER': 3, 'TIME_IN_CYCLES': 54, 'OPERATIONAL_SETTING_1': 0.0003, 'OPERATIONAL_SETTING_2': 0.0001, 'OPERATIONAL_SETTING_3': 100.0}, {'FAULT': 'FD002', 'UNIT_NUMBER': 3, 'TIME_IN_CYCLES': 55, 'OPERATIONAL_SETTING_1': 20.0049, 'OPERATIONAL_SETTING_2': 0.7007, 'OPERATIONAL_SETTING_3': 100.0}, {'FAULT': 'FD002', 'UNIT_NUMBER': 3, 'TIME_IN_CYCLES': 56, 'OPERATIONAL_SETTING_1': 41.9987, 'OPERATIONAL_SETTING_2': 0.84, 'OPERATIONAL_SETTING_3': 100.0}, {'FAULT': 'FD002', 'UNIT_NUMBER': 3, 'TIME_IN_CYCLES': 57, 'OPERATIONAL_SETTING_1': 42.0008, 'OPERATIONAL_SETTING_2': 0.84, 'OPERATIONAL_SETTING_3': 100.0}, {'FAULT': 'FD002', 'UNIT_NUMBER': 3, 'TIME_IN_CYCLES': 58, 'OPERATIONAL_SETTING_1': 19.999, 'OPERATIONAL_SETTING_2': 0.7007, 'OPERATIONAL_SETTING_3': 100.0}, {'FAULT': 'FD002', 'UNIT_NUMBER': 3, 'TIME_IN_CYCLES': 59, 'OPERATIONAL_SETTING_1': 10.0039, 'OPERATIONAL_SETTING_2': 0.25, 'OPERATIONAL_SETTING_3': 100.0}, {'FAULT': 'FD002', 'UNIT_NUMBER': 3, 'TIME_IN_CYCLES': 60, 'OPERATIONAL_SETTING_1': 25.0032, 'OPERATIONAL_SETTING_2': 0.62, 'OPERATIONAL_SETTING_3': 60.0}, {'FAULT': 'FD002', 'UNIT_NUMBER': 3, 'TIME_IN_CYCLES': 61, 'OPERATIONAL_SETTING_1': 0.0007, 'OPERATIONAL_SETTING_2': 0.0018, 'OPERATIONAL_SETTING_3': 100.0}, {'FAULT': 'FD002', 'UNIT_NUMBER': 3, 'TIME_IN_CYCLES': 62, 'OPERATIONAL_SETTING_1': 42.0035, 'OPERATIONAL_SETTING_2': 0.84, 'OPERATIONAL_SETTING_3': 100.0}, {'FAULT': 'FD002', 'UNIT_NUMBER': 3, 'TIME_IN_CYCLES': 63, 'OPERATIONAL_SETTING_1': 42.0047, 'OPERATIONAL_SETTING_2': 0.8408, 'OPERATIONAL_SETTING_3': 100.0}, {'FAULT': 'FD002', 'UNIT_NUMBER': 3, 'TIME_IN_CYCLES': 64, 'OPERATIONAL_SETTING_1': 35.0057, 'OPERATIONAL_SETTING_2': 0.84, 'OPERATIONAL_SETTING_3': 100.0}, {'FAULT': 'FD002', 'UNIT_NUMBER': 3, 'TIME_IN_CYCLES': 65, 'OPERATIONAL_SETTING_1': 0.0001, 'OPERATIONAL_SETTING_2': 0.0002, 'OPERATIONAL_SETTING_3': 100.0}, {'FAULT': 'FD002', 'UNIT_NUMBER': 3, 'TIME_IN_CYCLES': 66, 'OPERATIONAL_SETTING_1': 10.0029, 'OPERATIONAL_SETTING_2': 0.2506, 'OPERATIONAL_SETTING_3': 100.0}, {'FAULT': 'FD002', 'UNIT_NUMBER': 3, 'TIME_IN_CYCLES': 67, 'OPERATIONAL_SETTING_1': 42.0078, 'OPERATIONAL_SETTING_2': 0.8419, 'OPERATIONAL_SETTING_3': 100.0}, {'FAULT': 'FD002', 'UNIT_NUMBER': 3, 'TIME_IN_CYCLES': 68, 'OPERATIONAL_SETTING_1': 0.0024, 'OPERATIONAL_SETTING_2': 0.0, 'OPERATIONAL_SETTING_3': 100.0}, {'FAULT': 'FD002', 'UNIT_NUMBER': 3, 'TIME_IN_CYCLES': 69, 'OPERATIONAL_SETTING_1': 0.003, 'OPERATIONAL_SETTING_2': 0.0, 'OPERATIONAL_SETTING_3': 100.0}, {'FAULT': 'FD002', 'UNIT_NUMBER': 3, 'TIME_IN_CYCLES': 70, 'OPERATIONAL_SETTING_1': 0.0005, 'OPERATIONAL_SETTING_2': 0.0, 'OPERATIONAL_SETTING_3': 100.0}, {'FAULT': 'FD002', 'UNIT_NUMBER': 3, 'TIME_IN_CYCLES': 71, 'OPERATIONAL_SETTING_1': 42.003, 'OPERATIONAL_SETTING_2': 0.8412, 'OPERATIONAL_SETTING_3': 100.0}, {'FAULT': 'FD002', 'UNIT_NUMBER': 3, 'TIME_IN_CYCLES': 72, 'OPERATIONAL_SETTING_1': 34.9982, 'OPERATIONAL_SETTING_2': 0.8418, 'OPERATIONAL_SETTING_3': 100.0}, {'FAULT': 'FD002', 'UNIT_NUMBER': 3, 'TIME_IN_CYCLES': 73, 'OPERATIONAL_SETTING_1': 25.006, 'OPERATIONAL_SETTING_2': 0.6209, 'OPERATIONAL_SETTING_3': 60.0}, {'FAULT': 'FD002', 'UNIT_NUMBER': 3, 'TIME_IN_CYCLES': 74, 'OPERATIONAL_SETTING_1': 20.0004, 'OPERATIONAL_SETTING_2': 0.7005, 'OPERATIONAL_SETTING_3': 100.0}, {'FAULT': 'FD002', 'UNIT_NUMBER': 3, 'TIME_IN_CYCLES': 75, 'OPERATIONAL_SETTING_1': 10.0078, 'OPERATIONAL_SETTING_2': 0.2505, 'OPERATIONAL_SETTING_3': 100.0}, {'FAULT': 'FD002', 'UNIT_NUMBER': 3, 'TIME_IN_CYCLES': 76, 'OPERATIONAL_SETTING_1': 25.003, 'OPERATIONAL_SETTING_2': 0.6202, 'OPERATIONAL_SETTING_3': 60.0}, {'FAULT': 'FD002', 'UNIT_NUMBER': 3, 'TIME_IN_CYCLES': 77, 'OPERATIONAL_SETTING_1': 35.0001, 'OPERATIONAL_SETTING_2': 0.8405, 'OPERATIONAL_SETTING_3': 100.0}, {'FAULT': 'FD002', 'UNIT_NUMBER': 3, 'TIME_IN_CYCLES': 78, 'OPERATIONAL_SETTING_1': 35.0042, 'OPERATIONAL_SETTING_2': 0.84, 'OPERATIONAL_SETTING_3': 100.0}, {'FAULT': 'FD002', 'UNIT_NUMBER': 3, 'TIME_IN_CYCLES': 79, 'OPERATIONAL_SETTING_1': 35.0018, 'OPERATIONAL_SETTING_2': 0.84, 'OPERATIONAL_SETTING_3': 100.0}, {'FAULT': 'FD002', 'UNIT_NUMBER': 3, 'TIME_IN_CYCLES': 80, 'OPERATIONAL_SETTING_1': 42.0014, 'OPERATIONAL_SETTING_2': 0.84, 'OPERATIONAL_SETTING_3': 100.0}, {'FAULT': 'FD002', 'UNIT_NUMBER': 3, 'TIME_IN_CYCLES': 81, 'OPERATIONAL_SETTING_1': 0.0007, 'OPERATIONAL_SETTING_2': 0.0, 'OPERATIONAL_SETTING_3': 100.0}, {'FAULT': 'FD002', 'UNIT_NUMBER': 3, 'TIME_IN_CYCLES': 82, 'OPERATIONAL_SETTING_1': 35.0062, 'OPERATIONAL_SETTING_2': 0.84, 'OPERATIONAL_SETTING_3': 100.0}, {'FAULT': 'FD002', 'UNIT_NUMBER': 3, 'TIME_IN_CYCLES': 83, 'OPERATIONAL_SETTING_1': 35.0029, 'OPERATIONAL_SETTING_2': 0.8418, 'OPERATIONAL_SETTING_3': 100.0}, {'FAULT': 'FD002', 'UNIT_NUMBER': 3, 'TIME_IN_CYCLES': 84, 'OPERATIONAL_SETTING_1': 42.0059, 'OPERATIONAL_SETTING_2': 0.8418, 'OPERATIONAL_SETTING_3': 100.0}, {'FAULT': 'FD002', 'UNIT_NUMBER': 3, 'TIME_IN_CYCLES': 85, 'OPERATIONAL_SETTING_1': 25.007, 'OPERATIONAL_SETTING_2': 0.62, 'OPERATIONAL_SETTING_3': 60.0}, {'FAULT': 'FD002', 'UNIT_NUMBER': 3, 'TIME_IN_CYCLES': 86, 'OPERATIONAL_SETTING_1': 0.0022, 'OPERATIONAL_SETTING_2': 0.0011, 'OPERATIONAL_SETTING_3': 100.0}, {'FAULT': 'FD002', 'UNIT_NUMBER': 3, 'TIME_IN_CYCLES': 87, 'OPERATIONAL_SETTING_1': 20.0051, 'OPERATIONAL_SETTING_2': 0.7008, 'OPERATIONAL_SETTING_3': 100.0}, {'FAULT': 'FD002', 'UNIT_NUMBER': 3, 'TIME_IN_CYCLES': 88, 'OPERATIONAL_SETTING_1': 0.0014, 'OPERATIONAL_SETTING_2': 0.0, 'OPERATIONAL_SETTING_3': 100.0}, {'FAULT': 'FD002', 'UNIT_NUMBER': 3, 'TIME_IN_CYCLES': 89, 'OPERATIONAL_SETTING_1': 42.002, 'OPERATIONAL_SETTING_2': 0.841, 'OPERATIONAL_SETTING_3': 100.0}, {'FAULT': 'FD002', 'UNIT_NUMBER': 3, 'TIME_IN_CYCLES': 90, 'OPERATIONAL_SETTING_1': 0.0009, 'OPERATIONAL_SETTING_2': 0.0008, 'OPERATIONAL_SETTING_3': 100.0}, {'FAULT': 'FD002', 'UNIT_NUMBER': 3, 'TIME_IN_CYCLES': 91, 'OPERATIONAL_SETTING_1': 20.0066, 'OPERATIONAL_SETTING_2': 0.7, 'OPERATIONAL_SETTING_3': 100.0}, {'FAULT': 'FD002', 'UNIT_NUMBER': 3, 'TIME_IN_CYCLES': 92, 'OPERATIONAL_SETTING_1': 42.0035, 'OPERATIONAL_SETTING_2': 0.84, 'OPERATIONAL_SETTING_3': 100.0}, {'FAULT': 'FD002', 'UNIT_NUMBER': 3, 'TIME_IN_CYCLES': 93, 'OPERATIONAL_SETTING_1': 0.0019, 'OPERATIONAL_SETTING_2': 0.002, 'OPERATIONAL_SETTING_3': 100.0}, {'FAULT': 'FD002', 'UNIT_NUMBER': 3, 'TIME_IN_CYCLES': 94, 'OPERATIONAL_SETTING_1': 42.0047, 'OPERATIONAL_SETTING_2': 0.8407, 'OPERATIONAL_SETTING_3': 100.0}, {'FAULT': 'FD002', 'UNIT_NUMBER': 3, 'TIME_IN_CYCLES': 95, 'OPERATIONAL_SETTING_1': 10.0022, 'OPERATIONAL_SETTING_2': 0.2501, 'OPERATIONAL_SETTING_3': 100.0}, {'FAULT': 'FD002', 'UNIT_NUMBER': 3, 'TIME_IN_CYCLES': 96, 'OPERATIONAL_SETTING_1': 25.0015, 'OPERATIONAL_SETTING_2': 0.6215, 'OPERATIONAL_SETTING_3': 60.0}, {'FAULT': 'FD002', 'UNIT_NUMBER': 3, 'TIME_IN_CYCLES': 97, 'OPERATIONAL_SETTING_1': 20.0021, 'OPERATIONAL_SETTING_2': 0.7003, 'OPERATIONAL_SETTING_3': 100.0}, {'FAULT': 'FD002', 'UNIT_NUMBER': 3, 'TIME_IN_CYCLES': 98, 'OPERATIONAL_SETTING_1': 9.9991, 'OPERATIONAL_SETTING_2': 0.2507, 'OPERATIONAL_SETTING_3': 100.0}, {'FAULT': 'FD002', 'UNIT_NUMBER': 3, 'TIME_IN_CYCLES': 99, 'OPERATIONAL_SETTING_1': 19.9988, 'OPERATIONAL_SETTING_2': 0.701, 'OPERATIONAL_SETTING_3': 100.0}, {'FAULT': 'FD002', 'UNIT_NUMBER': 3, 'TIME_IN_CYCLES': 100, 'OPERATIONAL_SETTING_1': 0.0011, 'OPERATIONAL_SETTING_2': 0.0019, 'OPERATIONAL_SETTING_3': 100.0}, {'FAULT': 'FD002', 'UNIT_NUMBER': 3, 'TIME_IN_CYCLES': 101, 'OPERATIONAL_SETTING_1': 42.0008, 'OPERATIONAL_SETTING_2': 0.84, 'OPERATIONAL_SETTING_3': 100.0}, {'FAULT': 'FD002', 'UNIT_NUMBER': 3, 'TIME_IN_CYCLES': 102, 'OPERATIONAL_SETTING_1': 42.001, 'OPERATIONAL_SETTING_2': 0.84, 'OPERATIONAL_SETTING_3': 100.0}, {'FAULT': 'FD002', 'UNIT_NUMBER': 3, 'TIME_IN_CYCLES': 103, 'OPERATIONAL_SETTING_1': 10.007, 'OPERATIONAL_SETTING_2': 0.25, 'OPERATIONAL_SETTING_3': 100.0}, {'FAULT': 'FD002', 'UNIT_NUMBER': 3, 'TIME_IN_CYCLES': 104, 'OPERATIONAL_SETTING_1': 34.9986, 'OPERATIONAL_SETTING_2': 0.84, 'OPERATIONAL_SETTING_3': 100.0}, {'FAULT': 'FD002', 'UNIT_NUMBER': 3, 'TIME_IN_CYCLES': 105, 'OPERATIONAL_SETTING_1': 9.999, 'OPERATIONAL_SETTING_2': 0.25, 'OPERATIONAL_SETTING_3': 100.0}, {'FAULT': 'FD002', 'UNIT_NUMBER': 3, 'TIME_IN_CYCLES': 106, 'OPERATIONAL_SETTING_1': 10.0053, 'OPERATIONAL_SETTING_2': 0.2508, 'OPERATIONAL_SETTING_3': 100.0}, {'FAULT': 'FD002', 'UNIT_NUMBER': 3, 'TIME_IN_CYCLES': 107, 'OPERATIONAL_SETTING_1': 35.0025, 'OPERATIONAL_SETTING_2': 0.84, 'OPERATIONAL_SETTING_3': 100.0}, {'FAULT': 'FD002', 'UNIT_NUMBER': 3, 'TIME_IN_CYCLES': 108, 'OPERATIONAL_SETTING_1': 42.006, 'OPERATIONAL_SETTING_2': 0.84, 'OPERATIONAL_SETTING_3': 100.0}, {'FAULT': 'FD002', 'UNIT_NUMBER': 3, 'TIME_IN_CYCLES': 109, 'OPERATIONAL_SETTING_1': 35.0079, 'OPERATIONAL_SETTING_2': 0.8419, 'OPERATIONAL_SETTING_3': 100.0}, {'FAULT': 'FD002', 'UNIT_NUMBER': 3, 'TIME_IN_CYCLES': 110, 'OPERATIONAL_SETTING_1': 42.0016, 'OPERATIONAL_SETTING_2': 0.8403, 'OPERATIONAL_SETTING_3': 100.0}, {'FAULT': 'FD002', 'UNIT_NUMBER': 3, 'TIME_IN_CYCLES': 111, 'OPERATIONAL_SETTING_1': 41.9988, 'OPERATIONAL_SETTING_2': 0.84, 'OPERATIONAL_SETTING_3': 100.0}, {'FAULT': 'FD002', 'UNIT_NUMBER': 3, 'TIME_IN_CYCLES': 112, 'OPERATIONAL_SETTING_1': 0.0008, 'OPERATIONAL_SETTING_2': 0.0019, 'OPERATIONAL_SETTING_3': 100.0}, {'FAULT': 'FD002', 'UNIT_NUMBER': 3, 'TIME_IN_CYCLES': 113, 'OPERATIONAL_SETTING_1': 20.0061, 'OPERATIONAL_SETTING_2': 0.7012, 'OPERATIONAL_SETTING_3': 100.0}, {'FAULT': 'FD002', 'UNIT_NUMBER': 3, 'TIME_IN_CYCLES': 114, 'OPERATIONAL_SETTING_1': 0.0011, 'OPERATIONAL_SETTING_2': 0.0, 'OPERATIONAL_SETTING_3': 100.0}, {'FAULT': 'FD002', 'UNIT_NUMBER': 3, 'TIME_IN_CYCLES': 115, 'OPERATIONAL_SETTING_1': 42.0002, 'OPERATIONAL_SETTING_2': 0.8404, 'OPERATIONAL_SETTING_3': 100.0}, {'FAULT': 'FD002', 'UNIT_NUMBER': 3, 'TIME_IN_CYCLES': 116, 'OPERATIONAL_SETTING_1': 42.0058, 'OPERATIONAL_SETTING_2': 0.8411, 'OPERATIONAL_SETTING_3': 100.0}, {'FAULT': 'FD002', 'UNIT_NUMBER': 3, 'TIME_IN_CYCLES': 117, 'OPERATIONAL_SETTING_1': 42.0053, 'OPERATIONAL_SETTING_2': 0.84, 'OPERATIONAL_SETTING_3': 100.0}, {'FAULT': 'FD002', 'UNIT_NUMBER': 3, 'TIME_IN_CYCLES': 118, 'OPERATIONAL_SETTING_1': 42.0074, 'OPERATIONAL_SETTING_2': 0.8417, 'OPERATIONAL_SETTING_3': 100.0}, {'FAULT': 'FD002', 'UNIT_NUMBER': 3, 'TIME_IN_CYCLES': 119, 'OPERATIONAL_SETTING_1': 10.0079, 'OPERATIONAL_SETTING_2': 0.25, 'OPERATIONAL_SETTING_3': 100.0}, {'FAULT': 'FD002', 'UNIT_NUMBER': 3, 'TIME_IN_CYCLES': 120, 'OPERATIONAL_SETTING_1': 25.0045, 'OPERATIONAL_SETTING_2': 0.62, 'OPERATIONAL_SETTING_3': 60.0}, {'FAULT': 'FD002', 'UNIT_NUMBER': 3, 'TIME_IN_CYCLES': 121, 'OPERATIONAL_SETTING_1': 10.0026, 'OPERATIONAL_SETTING_2': 0.25, 'OPERATIONAL_SETTING_3': 100.0}, {'FAULT': 'FD002', 'UNIT_NUMBER': 3, 'TIME_IN_CYCLES': 122, 'OPERATIONAL_SETTING_1': 35.0001, 'OPERATIONAL_SETTING_2': 0.84, 'OPERATIONAL_SETTING_3': 100.0}, {'FAULT': 'FD002', 'UNIT_NUMBER': 3, 'TIME_IN_CYCLES': 123, 'OPERATIONAL_SETTING_1': 25.003, 'OPERATIONAL_SETTING_2': 0.6205, 'OPERATIONAL_SETTING_3': 60.0}, {'FAULT': 'FD002', 'UNIT_NUMBER': 3, 'TIME_IN_CYCLES': 124, 'OPERATIONAL_SETTING_1': 10.007, 'OPERATIONAL_SETTING_2': 0.2506, 'OPERATIONAL_SETTING_3': 100.0}, {'FAULT': 'FD002', 'UNIT_NUMBER': 3, 'TIME_IN_CYCLES': 125, 'OPERATIONAL_SETTING_1': 25.0028, 'OPERATIONAL_SETTING_2': 0.6205, 'OPERATIONAL_SETTING_3': 60.0}, {'FAULT': 'FD002', 'UNIT_NUMBER': 3, 'TIME_IN_CYCLES': 126, 'OPERATIONAL_SETTING_1': 10.0029, 'OPERATIONAL_SETTING_2': 0.2502, 'OPERATIONAL_SETTING_3': 100.0}, {'FAULT': 'FD002', 'UNIT_NUMBER': 3, 'TIME_IN_CYCLES': 127, 'OPERATIONAL_SETTING_1': 10.0074, 'OPERATIONAL_SETTING_2': 0.25, 'OPERATIONAL_SETTING_3': 100.0}, {'FAULT': 'FD002', 'UNIT_NUMBER': 3, 'TIME_IN_CYCLES': 128, 'OPERATIONAL_SETTING_1': 35.0041, 'OPERATIONAL_SETTING_2': 0.84, 'OPERATIONAL_SETTING_3': 100.0}, {'FAULT': 'FD002', 'UNIT_NUMBER': 3, 'TIME_IN_CYCLES': 129, 'OPERATIONAL_SETTING_1': 10.0062, 'OPERATIONAL_SETTING_2': 0.2518, 'OPERATIONAL_SETTING_3': 100.0}, {'FAULT': 'FD002', 'UNIT_NUMBER': 3, 'TIME_IN_CYCLES': 130, 'OPERATIONAL_SETTING_1': 20.0, 'OPERATIONAL_SETTING_2': 0.7, 'OPERATIONAL_SETTING_3': 100.0}, {'FAULT': 'FD002', 'UNIT_NUMBER': 3, 'TIME_IN_CYCLES': 131, 'OPERATIONAL_SETTING_1': 42.0028, 'OPERATIONAL_SETTING_2': 0.8418, 'OPERATIONAL_SETTING_3': 100.0}, {'FAULT': 'FD002', 'UNIT_NUMBER': 3, 'TIME_IN_CYCLES': 132, 'OPERATIONAL_SETTING_1': 20.008, 'OPERATIONAL_SETTING_2': 0.7014, 'OPERATIONAL_SETTING_3': 100.0}, {'FAULT': 'FD002', 'UNIT_NUMBER': 3, 'TIME_IN_CYCLES': 133, 'OPERATIONAL_SETTING_1': 0.0019, 'OPERATIONAL_SETTING_2': 0.0, 'OPERATIONAL_SETTING_3': 100.0}, {'FAULT': 'FD002', 'UNIT_NUMBER': 3, 'TIME_IN_CYCLES': 134, 'OPERATIONAL_SETTING_1': 10.0068, 'OPERATIONAL_SETTING_2': 0.25, 'OPERATIONAL_SETTING_3': 100.0}, {'FAULT': 'FD002', 'UNIT_NUMBER': 3, 'TIME_IN_CYCLES': 135, 'OPERATIONAL_SETTING_1': 42.0075, 'OPERATIONAL_SETTING_2': 0.84, 'OPERATIONAL_SETTING_3': 100.0}, {'FAULT': 'FD002', 'UNIT_NUMBER': 3, 'TIME_IN_CYCLES': 136, 'OPERATIONAL_SETTING_1': 10.0005, 'OPERATIONAL_SETTING_2': 0.2501, 'OPERATIONAL_SETTING_3': 100.0}, {'FAULT': 'FD002', 'UNIT_NUMBER': 3, 'TIME_IN_CYCLES': 137, 'OPERATIONAL_SETTING_1': 25.0064, 'OPERATIONAL_SETTING_2': 0.6204, 'OPERATIONAL_SETTING_3': 60.0}, {'FAULT': 'FD002', 'UNIT_NUMBER': 3, 'TIME_IN_CYCLES': 138, 'OPERATIONAL_SETTING_1': 20.0022, 'OPERATIONAL_SETTING_2': 0.7006, 'OPERATIONAL_SETTING_3': 100.0}, {'FAULT': 'FD002', 'UNIT_NUMBER': 3, 'TIME_IN_CYCLES': 139, 'OPERATIONAL_SETTING_1': 20.0059, 'OPERATIONAL_SETTING_2': 0.7016, 'OPERATIONAL_SETTING_3': 100.0}, {'FAULT': 'FD002', 'UNIT_NUMBER': 3, 'TIME_IN_CYCLES': 140, 'OPERATIONAL_SETTING_1': 25.0054, 'OPERATIONAL_SETTING_2': 0.6204, 'OPERATIONAL_SETTING_3': 60.0}, {'FAULT': 'FD002', 'UNIT_NUMBER': 3, 'TIME_IN_CYCLES': 141, 'OPERATIONAL_SETTING_1': 19.9994, 'OPERATIONAL_SETTING_2': 0.7008, 'OPERATIONAL_SETTING_3': 100.0}, {'FAULT': 'FD002', 'UNIT_NUMBER': 3, 'TIME_IN_CYCLES': 142, 'OPERATIONAL_SETTING_1': 25.0026, 'OPERATIONAL_SETTING_2': 0.62, 'OPERATIONAL_SETTING_3': 60.0}, {'FAULT': 'FD002', 'UNIT_NUMBER': 3, 'TIME_IN_CYCLES': 143, 'OPERATIONAL_SETTING_1': 42.0058, 'OPERATIONAL_SETTING_2': 0.842, 'OPERATIONAL_SETTING_3': 100.0}, {'FAULT': 'FD002', 'UNIT_NUMBER': 3, 'TIME_IN_CYCLES': 144, 'OPERATIONAL_SETTING_1': 35.0055, 'OPERATIONAL_SETTING_2': 0.8415, 'OPERATIONAL_SETTING_3': 100.0}, {'FAULT': 'FD002', 'UNIT_NUMBER': 3, 'TIME_IN_CYCLES': 145, 'OPERATIONAL_SETTING_1': 41.9982, 'OPERATIONAL_SETTING_2': 0.84, 'OPERATIONAL_SETTING_3': 100.0}, {'FAULT': 'FD002', 'UNIT_NUMBER': 3, 'TIME_IN_CYCLES': 146, 'OPERATIONAL_SETTING_1': 10.0029, 'OPERATIONAL_SETTING_2': 0.2512, 'OPERATIONAL_SETTING_3': 100.0}, {'FAULT': 'FD002', 'UNIT_NUMBER': 3, 'TIME_IN_CYCLES': 147, 'OPERATIONAL_SETTING_1': 42.0029, 'OPERATIONAL_SETTING_2': 0.8405, 'OPERATIONAL_SETTING_3': 100.0}, {'FAULT': 'FD002', 'UNIT_NUMBER': 3, 'TIME_IN_CYCLES': 148, 'OPERATIONAL_SETTING_1': 20.0029, 'OPERATIONAL_SETTING_2': 0.7017, 'OPERATIONAL_SETTING_3': 100.0}, {'FAULT': 'FD002', 'UNIT_NUMBER': 3, 'TIME_IN_CYCLES': 149, 'OPERATIONAL_SETTING_1': 0.0004, 'OPERATIONAL_SETTING_2': 0.0001, 'OPERATIONAL_SETTING_3': 100.0}, {'FAULT': 'FD002', 'UNIT_NUMBER': 3, 'TIME_IN_CYCLES': 150, 'OPERATIONAL_SETTING_1': 41.9994, 'OPERATIONAL_SETTING_2': 0.8409, 'OPERATIONAL_SETTING_3': 100.0}, {'FAULT': 'FD002', 'UNIT_NUMBER': 3, 'TIME_IN_CYCLES': 151, 'OPERATIONAL_SETTING_1': 0.0001, 'OPERATIONAL_SETTING_2': 0.0, 'OPERATIONAL_SETTING_3': 100.0}, {'FAULT': 'FD002', 'UNIT_NUMBER': 3, 'TIME_IN_CYCLES': 152, 'OPERATIONAL_SETTING_1': 20.0042, 'OPERATIONAL_SETTING_2': 0.7, 'OPERATIONAL_SETTING_3': 100.0}, {'FAULT': 'FD002', 'UNIT_NUMBER': 3, 'TIME_IN_CYCLES': 153, 'OPERATIONAL_SETTING_1': 42.0017, 'OPERATIONAL_SETTING_2': 0.8418, 'OPERATIONAL_SETTING_3': 100.0}, {'FAULT': 'FD002', 'UNIT_NUMBER': 3, 'TIME_IN_CYCLES': 154, 'OPERATIONAL_SETTING_1': 0.0007, 'OPERATIONAL_SETTING_2': 0.0, 'OPERATIONAL_SETTING_3': 100.0}, {'FAULT': 'FD002', 'UNIT_NUMBER': 3, 'TIME_IN_CYCLES': 155, 'OPERATIONAL_SETTING_1': 20.0076, 'OPERATIONAL_SETTING_2': 0.7016, 'OPERATIONAL_SETTING_3': 100.0}, {'FAULT': 'FD002', 'UNIT_NUMBER': 3, 'TIME_IN_CYCLES': 156, 'OPERATIONAL_SETTING_1': 9.9991, 'OPERATIONAL_SETTING_2': 0.2518, 'OPERATIONAL_SETTING_3': 100.0}, {'FAULT': 'FD002', 'UNIT_NUMBER': 3, 'TIME_IN_CYCLES': 157, 'OPERATIONAL_SETTING_1': 0.0017, 'OPERATIONAL_SETTING_2': 0.0019, 'OPERATIONAL_SETTING_3': 100.0}, {'FAULT': 'FD002', 'UNIT_NUMBER': 3, 'TIME_IN_CYCLES': 158, 'OPERATIONAL_SETTING_1': 20.0031, 'OPERATIONAL_SETTING_2': 0.7001, 'OPERATIONAL_SETTING_3': 100.0}, {'FAULT': 'FD002', 'UNIT_NUMBER': 3, 'TIME_IN_CYCLES': 159, 'OPERATIONAL_SETTING_1': 10.0008, 'OPERATIONAL_SETTING_2': 0.2516, 'OPERATIONAL_SETTING_3': 100.0}, {'FAULT': 'FD002', 'UNIT_NUMBER': 3, 'TIME_IN_CYCLES': 160, 'OPERATIONAL_SETTING_1': 34.9988, 'OPERATIONAL_SETTING_2': 0.84, 'OPERATIONAL_SETTING_3': 100.0}, {'FAULT': 'FD002', 'UNIT_NUMBER': 3, 'TIME_IN_CYCLES': 161, 'OPERATIONAL_SETTING_1': 42.0013, 'OPERATIONAL_SETTING_2': 0.84, 'OPERATIONAL_SETTING_3': 100.0}, {'FAULT': 'FD002', 'UNIT_NUMBER': 3, 'TIME_IN_CYCLES': 162, 'OPERATIONAL_SETTING_1': 25.0062, 'OPERATIONAL_SETTING_2': 0.6219, 'OPERATIONAL_SETTING_3': 60.0}, {'FAULT': 'FD002', 'UNIT_NUMBER': 3, 'TIME_IN_CYCLES': 163, 'OPERATIONAL_SETTING_1': 25.0004, 'OPERATIONAL_SETTING_2': 0.62, 'OPERATIONAL_SETTING_3': 60.0}, {'FAULT': 'FD002', 'UNIT_NUMBER': 3, 'TIME_IN_CYCLES': 164, 'OPERATIONAL_SETTING_1': 35.0016, 'OPERATIONAL_SETTING_2': 0.84, 'OPERATIONAL_SETTING_3': 100.0}, {'FAULT': 'FD002', 'UNIT_NUMBER': 3, 'TIME_IN_CYCLES': 165, 'OPERATIONAL_SETTING_1': 35.0015, 'OPERATIONAL_SETTING_2': 0.8412, 'OPERATIONAL_SETTING_3': 100.0}]\n"
     ]
    }
   ],
   "source": [
    "response=requests.get(\"http://127.0.0.1:8000/engine/operational_data?unit_number=3&fault=FD002&dataset_type=test&access_token={}\".format(key))\n",
    "print(response.json())"
   ]
  },
  {
   "cell_type": "markdown",
   "metadata": {},
   "source": [
    "Snowflake"
   ]
  },
  {
   "cell_type": "code",
   "execution_count": 33,
   "metadata": {},
   "outputs": [
    {
     "data": {
      "text/html": [
       "<div>\n",
       "<style scoped>\n",
       "    .dataframe tbody tr th:only-of-type {\n",
       "        vertical-align: middle;\n",
       "    }\n",
       "\n",
       "    .dataframe tbody tr th {\n",
       "        vertical-align: top;\n",
       "    }\n",
       "\n",
       "    .dataframe thead th {\n",
       "        text-align: right;\n",
       "    }\n",
       "</style>\n",
       "<table border=\"1\" class=\"dataframe\">\n",
       "  <thead>\n",
       "    <tr style=\"text-align: right;\">\n",
       "      <th></th>\n",
       "      <th>FAULT</th>\n",
       "      <th>UNIT_NUMBER</th>\n",
       "      <th>TIME_IN_CYCLES</th>\n",
       "      <th>OPERATIONAL_SETTING_1</th>\n",
       "      <th>OPERATIONAL_SETTING_2</th>\n",
       "      <th>OPERATIONAL_SETTING_3</th>\n",
       "    </tr>\n",
       "  </thead>\n",
       "  <tbody>\n",
       "    <tr>\n",
       "      <th>0</th>\n",
       "      <td>FD002</td>\n",
       "      <td>3</td>\n",
       "      <td>1</td>\n",
       "      <td>10.0052</td>\n",
       "      <td>0.2500</td>\n",
       "      <td>100.0</td>\n",
       "    </tr>\n",
       "    <tr>\n",
       "      <th>1</th>\n",
       "      <td>FD002</td>\n",
       "      <td>3</td>\n",
       "      <td>2</td>\n",
       "      <td>0.0015</td>\n",
       "      <td>0.0007</td>\n",
       "      <td>100.0</td>\n",
       "    </tr>\n",
       "    <tr>\n",
       "      <th>2</th>\n",
       "      <td>FD002</td>\n",
       "      <td>3</td>\n",
       "      <td>3</td>\n",
       "      <td>0.0025</td>\n",
       "      <td>0.0015</td>\n",
       "      <td>100.0</td>\n",
       "    </tr>\n",
       "    <tr>\n",
       "      <th>3</th>\n",
       "      <td>FD002</td>\n",
       "      <td>3</td>\n",
       "      <td>4</td>\n",
       "      <td>35.0045</td>\n",
       "      <td>0.8418</td>\n",
       "      <td>100.0</td>\n",
       "    </tr>\n",
       "    <tr>\n",
       "      <th>4</th>\n",
       "      <td>FD002</td>\n",
       "      <td>3</td>\n",
       "      <td>5</td>\n",
       "      <td>9.9984</td>\n",
       "      <td>0.2513</td>\n",
       "      <td>100.0</td>\n",
       "    </tr>\n",
       "    <tr>\n",
       "      <th>...</th>\n",
       "      <td>...</td>\n",
       "      <td>...</td>\n",
       "      <td>...</td>\n",
       "      <td>...</td>\n",
       "      <td>...</td>\n",
       "      <td>...</td>\n",
       "    </tr>\n",
       "    <tr>\n",
       "      <th>160</th>\n",
       "      <td>FD002</td>\n",
       "      <td>3</td>\n",
       "      <td>161</td>\n",
       "      <td>42.0013</td>\n",
       "      <td>0.8400</td>\n",
       "      <td>100.0</td>\n",
       "    </tr>\n",
       "    <tr>\n",
       "      <th>161</th>\n",
       "      <td>FD002</td>\n",
       "      <td>3</td>\n",
       "      <td>162</td>\n",
       "      <td>25.0062</td>\n",
       "      <td>0.6219</td>\n",
       "      <td>60.0</td>\n",
       "    </tr>\n",
       "    <tr>\n",
       "      <th>162</th>\n",
       "      <td>FD002</td>\n",
       "      <td>3</td>\n",
       "      <td>163</td>\n",
       "      <td>25.0004</td>\n",
       "      <td>0.6200</td>\n",
       "      <td>60.0</td>\n",
       "    </tr>\n",
       "    <tr>\n",
       "      <th>163</th>\n",
       "      <td>FD002</td>\n",
       "      <td>3</td>\n",
       "      <td>164</td>\n",
       "      <td>35.0016</td>\n",
       "      <td>0.8400</td>\n",
       "      <td>100.0</td>\n",
       "    </tr>\n",
       "    <tr>\n",
       "      <th>164</th>\n",
       "      <td>FD002</td>\n",
       "      <td>3</td>\n",
       "      <td>165</td>\n",
       "      <td>35.0015</td>\n",
       "      <td>0.8412</td>\n",
       "      <td>100.0</td>\n",
       "    </tr>\n",
       "  </tbody>\n",
       "</table>\n",
       "<p>165 rows × 6 columns</p>\n",
       "</div>"
      ],
      "text/plain": [
       "     FAULT  UNIT_NUMBER  TIME_IN_CYCLES  OPERATIONAL_SETTING_1  \\\n",
       "0    FD002            3               1                10.0052   \n",
       "1    FD002            3               2                 0.0015   \n",
       "2    FD002            3               3                 0.0025   \n",
       "3    FD002            3               4                35.0045   \n",
       "4    FD002            3               5                 9.9984   \n",
       "..     ...          ...             ...                    ...   \n",
       "160  FD002            3             161                42.0013   \n",
       "161  FD002            3             162                25.0062   \n",
       "162  FD002            3             163                25.0004   \n",
       "163  FD002            3             164                35.0016   \n",
       "164  FD002            3             165                35.0015   \n",
       "\n",
       "     OPERATIONAL_SETTING_2  OPERATIONAL_SETTING_3  \n",
       "0                   0.2500                  100.0  \n",
       "1                   0.0007                  100.0  \n",
       "2                   0.0015                  100.0  \n",
       "3                   0.8418                  100.0  \n",
       "4                   0.2513                  100.0  \n",
       "..                     ...                    ...  \n",
       "160                 0.8400                  100.0  \n",
       "161                 0.6219                   60.0  \n",
       "162                 0.6200                   60.0  \n",
       "163                 0.8400                  100.0  \n",
       "164                 0.8412                  100.0  \n",
       "\n",
       "[165 rows x 6 columns]"
      ]
     },
     "execution_count": 33,
     "metadata": {},
     "output_type": "execute_result"
    }
   ],
   "source": [
    "fault='FD002'\n",
    "unit_number=3\n",
    "dataset_type='test'\n",
    "if fault:\n",
    "        sql= \"SELECT fault,unit_number,time_in_cycles,operational_setting_1, operational_setting_2, operational_setting_3 FROM TRAIN_TEST where unit_number='{}' and fault='{}' and dataset_type='{}'\".format(unit_number,fault,dataset_type)\n",
    "        df = snowflake_query(sql)\n",
    "else:\n",
    "        sql=\"SELECT fault,unit_number,time_in_cycles,operational_setting_1, operational_setting_2, operational_setting_3 FROM TRAIN_TEST where unit_number='{}' and dataset_type='{}'\".format(unit_number,dataset_type)\n",
    "        df=snowflake_query(sql)\n",
    "df"
   ]
  },
  {
   "cell_type": "markdown",
   "metadata": {},
   "source": [
    "### Get Sensor data"
   ]
  },
  {
   "cell_type": "markdown",
   "metadata": {},
   "source": [
    "API Response"
   ]
  },
  {
   "cell_type": "code",
   "execution_count": 35,
   "metadata": {},
   "outputs": [
    {
     "name": "stdout",
     "output_type": "stream",
     "text": [
      "[{'FAULT': 'FD002', 'UNIT_NUMBER': 3, 'TIME_IN_CYCLES': 1, 'SENSOR_MEASUREMENT_1': 489.05, 'SENSOR_MEASUREMENT_2': 604.79, 'SENSOR_MEASUREMENT_3': 1494.58, 'SENSOR_MEASUREMENT_4': 1307.35, 'SENSOR_MEASUREMENT_5': 10.52, 'SENSOR_MEASUREMENT_6': 15.49, 'SENSOR_MEASUREMENT_7': 394.33, 'SENSOR_MEASUREMENT_8': 2318.94, 'SENSOR_MEASUREMENT_9': 8764.2, 'SENSOR_MEASUREMENT_10': 1.26, 'SENSOR_MEASUREMENT_11': 45.4, 'SENSOR_MEASUREMENT_12': 372.02, 'SENSOR_MEASUREMENT_13': 2388.09, 'SENSOR_MEASUREMENT_14': 8125.12, 'SENSOR_MEASUREMENT_15': 8.72, 'SENSOR_MEASUREMENT_16': 0.03, 'SENSOR_MEASUREMENT_17': 369.0, 'SENSOR_MEASUREMENT_18': 2319.0, 'SENSOR_MEASUREMENT_19': 100.0, 'SENSOR_MEASUREMENT_20': 28.78, 'SENSOR_MEASUREMENT_21': 17.1895}, {'FAULT': 'FD002', 'UNIT_NUMBER': 3, 'TIME_IN_CYCLES': 2, 'SENSOR_MEASUREMENT_1': 518.67, 'SENSOR_MEASUREMENT_2': 642.48, 'SENSOR_MEASUREMENT_3': 1585.51, 'SENSOR_MEASUREMENT_4': 1402.98, 'SENSOR_MEASUREMENT_5': 14.62, 'SENSOR_MEASUREMENT_6': 21.61, 'SENSOR_MEASUREMENT_7': 553.72, 'SENSOR_MEASUREMENT_8': 2388.1, 'SENSOR_MEASUREMENT_9': 9040.34, 'SENSOR_MEASUREMENT_10': 1.3, 'SENSOR_MEASUREMENT_11': 47.34, 'SENSOR_MEASUREMENT_12': 521.89, 'SENSOR_MEASUREMENT_13': 2388.08, 'SENSOR_MEASUREMENT_14': 8124.46, 'SENSOR_MEASUREMENT_15': 8.4388, 'SENSOR_MEASUREMENT_16': 0.03, 'SENSOR_MEASUREMENT_17': 392.0, 'SENSOR_MEASUREMENT_18': 2388.0, 'SENSOR_MEASUREMENT_19': 100.0, 'SENSOR_MEASUREMENT_20': 38.82, 'SENSOR_MEASUREMENT_21': 23.3408}, {'FAULT': 'FD002', 'UNIT_NUMBER': 3, 'TIME_IN_CYCLES': 3, 'SENSOR_MEASUREMENT_1': 518.67, 'SENSOR_MEASUREMENT_2': 642.71, 'SENSOR_MEASUREMENT_3': 1592.87, 'SENSOR_MEASUREMENT_4': 1407.35, 'SENSOR_MEASUREMENT_5': 14.62, 'SENSOR_MEASUREMENT_6': 21.61, 'SENSOR_MEASUREMENT_7': 553.51, 'SENSOR_MEASUREMENT_8': 2388.1, 'SENSOR_MEASUREMENT_9': 9047.34, 'SENSOR_MEASUREMENT_10': 1.3, 'SENSOR_MEASUREMENT_11': 47.35, 'SENSOR_MEASUREMENT_12': 521.4, 'SENSOR_MEASUREMENT_13': 2388.13, 'SENSOR_MEASUREMENT_14': 8127.67, 'SENSOR_MEASUREMENT_15': 8.4404, 'SENSOR_MEASUREMENT_16': 0.03, 'SENSOR_MEASUREMENT_17': 394.0, 'SENSOR_MEASUREMENT_18': 2388.0, 'SENSOR_MEASUREMENT_19': 100.0, 'SENSOR_MEASUREMENT_20': 38.85, 'SENSOR_MEASUREMENT_21': 23.289}, {'FAULT': 'FD002', 'UNIT_NUMBER': 3, 'TIME_IN_CYCLES': 4, 'SENSOR_MEASUREMENT_1': 449.44, 'SENSOR_MEASUREMENT_2': 554.61, 'SENSOR_MEASUREMENT_3': 1364.51, 'SENSOR_MEASUREMENT_4': 1125.47, 'SENSOR_MEASUREMENT_5': 5.48, 'SENSOR_MEASUREMENT_6': 8.0, 'SENSOR_MEASUREMENT_7': 194.48, 'SENSOR_MEASUREMENT_8': 2222.81, 'SENSOR_MEASUREMENT_9': 8346.79, 'SENSOR_MEASUREMENT_10': 1.02, 'SENSOR_MEASUREMENT_11': 42.04, 'SENSOR_MEASUREMENT_12': 183.08, 'SENSOR_MEASUREMENT_13': 2387.91, 'SENSOR_MEASUREMENT_14': 8057.16, 'SENSOR_MEASUREMENT_15': 9.3164, 'SENSOR_MEASUREMENT_16': 0.02, 'SENSOR_MEASUREMENT_17': 334.0, 'SENSOR_MEASUREMENT_18': 2223.0, 'SENSOR_MEASUREMENT_19': 100.0, 'SENSOR_MEASUREMENT_20': 14.89, 'SENSOR_MEASUREMENT_21': 8.9109}, {'FAULT': 'FD002', 'UNIT_NUMBER': 3, 'TIME_IN_CYCLES': 5, 'SENSOR_MEASUREMENT_1': 489.05, 'SENSOR_MEASUREMENT_2': 605.0, 'SENSOR_MEASUREMENT_3': 1499.69, 'SENSOR_MEASUREMENT_4': 1307.33, 'SENSOR_MEASUREMENT_5': 10.52, 'SENSOR_MEASUREMENT_6': 15.49, 'SENSOR_MEASUREMENT_7': 394.33, 'SENSOR_MEASUREMENT_8': 2318.94, 'SENSOR_MEASUREMENT_9': 8763.76, 'SENSOR_MEASUREMENT_10': 1.26, 'SENSOR_MEASUREMENT_11': 45.2, 'SENSOR_MEASUREMENT_12': 371.48, 'SENSOR_MEASUREMENT_13': 2388.14, 'SENSOR_MEASUREMENT_14': 8119.35, 'SENSOR_MEASUREMENT_15': 8.6301, 'SENSOR_MEASUREMENT_16': 0.03, 'SENSOR_MEASUREMENT_17': 367.0, 'SENSOR_MEASUREMENT_18': 2319.0, 'SENSOR_MEASUREMENT_19': 100.0, 'SENSOR_MEASUREMENT_20': 28.48, 'SENSOR_MEASUREMENT_21': 17.1142}, {'FAULT': 'FD002', 'UNIT_NUMBER': 3, 'TIME_IN_CYCLES': 6, 'SENSOR_MEASUREMENT_1': 449.44, 'SENSOR_MEASUREMENT_2': 555.92, 'SENSOR_MEASUREMENT_3': 1360.59, 'SENSOR_MEASUREMENT_4': 1119.31, 'SENSOR_MEASUREMENT_5': 5.48, 'SENSOR_MEASUREMENT_6': 8.0, 'SENSOR_MEASUREMENT_7': 195.15, 'SENSOR_MEASUREMENT_8': 2222.72, 'SENSOR_MEASUREMENT_9': 8345.14, 'SENSOR_MEASUREMENT_10': 1.02, 'SENSOR_MEASUREMENT_11': 41.92, 'SENSOR_MEASUREMENT_12': 182.97, 'SENSOR_MEASUREMENT_13': 2387.88, 'SENSOR_MEASUREMENT_14': 8059.14, 'SENSOR_MEASUREMENT_15': 9.321, 'SENSOR_MEASUREMENT_16': 0.02, 'SENSOR_MEASUREMENT_17': 333.0, 'SENSOR_MEASUREMENT_18': 2223.0, 'SENSOR_MEASUREMENT_19': 100.0, 'SENSOR_MEASUREMENT_20': 14.84, 'SENSOR_MEASUREMENT_21': 8.9248}, {'FAULT': 'FD002', 'UNIT_NUMBER': 3, 'TIME_IN_CYCLES': 7, 'SENSOR_MEASUREMENT_1': 445.0, 'SENSOR_MEASUREMENT_2': 549.32, 'SENSOR_MEASUREMENT_3': 1350.91, 'SENSOR_MEASUREMENT_4': 1121.72, 'SENSOR_MEASUREMENT_5': 3.91, 'SENSOR_MEASUREMENT_6': 5.71, 'SENSOR_MEASUREMENT_7': 138.99, 'SENSOR_MEASUREMENT_8': 2211.68, 'SENSOR_MEASUREMENT_9': 8312.29, 'SENSOR_MEASUREMENT_10': 1.02, 'SENSOR_MEASUREMENT_11': 42.0, 'SENSOR_MEASUREMENT_12': 130.37, 'SENSOR_MEASUREMENT_13': 2387.77, 'SENSOR_MEASUREMENT_14': 8070.0, 'SENSOR_MEASUREMENT_15': 9.3394, 'SENSOR_MEASUREMENT_16': 0.02, 'SENSOR_MEASUREMENT_17': 330.0, 'SENSOR_MEASUREMENT_18': 2212.0, 'SENSOR_MEASUREMENT_19': 100.0, 'SENSOR_MEASUREMENT_20': 10.83, 'SENSOR_MEASUREMENT_21': 6.3625}, {'FAULT': 'FD002', 'UNIT_NUMBER': 3, 'TIME_IN_CYCLES': 8, 'SENSOR_MEASUREMENT_1': 518.67, 'SENSOR_MEASUREMENT_2': 642.68, 'SENSOR_MEASUREMENT_3': 1588.12, 'SENSOR_MEASUREMENT_4': 1399.49, 'SENSOR_MEASUREMENT_5': 14.62, 'SENSOR_MEASUREMENT_6': 21.61, 'SENSOR_MEASUREMENT_7': 553.39, 'SENSOR_MEASUREMENT_8': 2388.06, 'SENSOR_MEASUREMENT_9': 9044.1, 'SENSOR_MEASUREMENT_10': 1.3, 'SENSOR_MEASUREMENT_11': 47.49, 'SENSOR_MEASUREMENT_12': 521.95, 'SENSOR_MEASUREMENT_13': 2388.11, 'SENSOR_MEASUREMENT_14': 8128.41, 'SENSOR_MEASUREMENT_15': 8.412, 'SENSOR_MEASUREMENT_16': 0.03, 'SENSOR_MEASUREMENT_17': 393.0, 'SENSOR_MEASUREMENT_18': 2388.0, 'SENSOR_MEASUREMENT_19': 100.0, 'SENSOR_MEASUREMENT_20': 38.89, 'SENSOR_MEASUREMENT_21': 23.3645}, {'FAULT': 'FD002', 'UNIT_NUMBER': 3, 'TIME_IN_CYCLES': 9, 'SENSOR_MEASUREMENT_1': 518.67, 'SENSOR_MEASUREMENT_2': 642.33, 'SENSOR_MEASUREMENT_3': 1589.16, 'SENSOR_MEASUREMENT_4': 1402.52, 'SENSOR_MEASUREMENT_5': 14.62, 'SENSOR_MEASUREMENT_6': 21.61, 'SENSOR_MEASUREMENT_7': 553.44, 'SENSOR_MEASUREMENT_8': 2388.1, 'SENSOR_MEASUREMENT_9': 9052.5, 'SENSOR_MEASUREMENT_10': 1.3, 'SENSOR_MEASUREMENT_11': 47.35, 'SENSOR_MEASUREMENT_12': 521.38, 'SENSOR_MEASUREMENT_13': 2388.08, 'SENSOR_MEASUREMENT_14': 8129.57, 'SENSOR_MEASUREMENT_15': 8.4196, 'SENSOR_MEASUREMENT_16': 0.03, 'SENSOR_MEASUREMENT_17': 392.0, 'SENSOR_MEASUREMENT_18': 2388.0, 'SENSOR_MEASUREMENT_19': 100.0, 'SENSOR_MEASUREMENT_20': 39.04, 'SENSOR_MEASUREMENT_21': 23.3458}, {'FAULT': 'FD002', 'UNIT_NUMBER': 3, 'TIME_IN_CYCLES': 10, 'SENSOR_MEASUREMENT_1': 518.67, 'SENSOR_MEASUREMENT_2': 642.62, 'SENSOR_MEASUREMENT_3': 1591.26, 'SENSOR_MEASUREMENT_4': 1404.79, 'SENSOR_MEASUREMENT_5': 14.62, 'SENSOR_MEASUREMENT_6': 21.61, 'SENSOR_MEASUREMENT_7': 553.94, 'SENSOR_MEASUREMENT_8': 2388.15, 'SENSOR_MEASUREMENT_9': 9047.26, 'SENSOR_MEASUREMENT_10': 1.3, 'SENSOR_MEASUREMENT_11': 47.4, 'SENSOR_MEASUREMENT_12': 522.16, 'SENSOR_MEASUREMENT_13': 2388.12, 'SENSOR_MEASUREMENT_14': 8127.98, 'SENSOR_MEASUREMENT_15': 8.4469, 'SENSOR_MEASUREMENT_16': 0.03, 'SENSOR_MEASUREMENT_17': 391.0, 'SENSOR_MEASUREMENT_18': 2388.0, 'SENSOR_MEASUREMENT_19': 100.0, 'SENSOR_MEASUREMENT_20': 38.77, 'SENSOR_MEASUREMENT_21': 23.3933}, {'FAULT': 'FD002', 'UNIT_NUMBER': 3, 'TIME_IN_CYCLES': 11, 'SENSOR_MEASUREMENT_1': 462.54, 'SENSOR_MEASUREMENT_2': 536.85, 'SENSOR_MEASUREMENT_3': 1264.96, 'SENSOR_MEASUREMENT_4': 1040.95, 'SENSOR_MEASUREMENT_5': 7.05, 'SENSOR_MEASUREMENT_6': 9.02, 'SENSOR_MEASUREMENT_7': 175.98, 'SENSOR_MEASUREMENT_8': 1915.15, 'SENSOR_MEASUREMENT_9': 7998.79, 'SENSOR_MEASUREMENT_10': 0.94, 'SENSOR_MEASUREMENT_11': 36.81, 'SENSOR_MEASUREMENT_12': 165.28, 'SENSOR_MEASUREMENT_13': 2028.09, 'SENSOR_MEASUREMENT_14': 7862.27, 'SENSOR_MEASUREMENT_15': 10.8791, 'SENSOR_MEASUREMENT_16': 0.02, 'SENSOR_MEASUREMENT_17': 308.0, 'SENSOR_MEASUREMENT_18': 1915.0, 'SENSOR_MEASUREMENT_19': 84.93, 'SENSOR_MEASUREMENT_20': 14.33, 'SENSOR_MEASUREMENT_21': 8.6276}, {'FAULT': 'FD002', 'UNIT_NUMBER': 3, 'TIME_IN_CYCLES': 12, 'SENSOR_MEASUREMENT_1': 518.67, 'SENSOR_MEASUREMENT_2': 642.41, 'SENSOR_MEASUREMENT_3': 1600.77, 'SENSOR_MEASUREMENT_4': 1400.66, 'SENSOR_MEASUREMENT_5': 14.62, 'SENSOR_MEASUREMENT_6': 21.61, 'SENSOR_MEASUREMENT_7': 554.07, 'SENSOR_MEASUREMENT_8': 2388.07, 'SENSOR_MEASUREMENT_9': 9041.87, 'SENSOR_MEASUREMENT_10': 1.3, 'SENSOR_MEASUREMENT_11': 47.43, 'SENSOR_MEASUREMENT_12': 522.1, 'SENSOR_MEASUREMENT_13': 2388.15, 'SENSOR_MEASUREMENT_14': 8129.87, 'SENSOR_MEASUREMENT_15': 8.4153, 'SENSOR_MEASUREMENT_16': 0.03, 'SENSOR_MEASUREMENT_17': 393.0, 'SENSOR_MEASUREMENT_18': 2388.0, 'SENSOR_MEASUREMENT_19': 100.0, 'SENSOR_MEASUREMENT_20': 38.99, 'SENSOR_MEASUREMENT_21': 23.3281}, {'FAULT': 'FD002', 'UNIT_NUMBER': 3, 'TIME_IN_CYCLES': 13, 'SENSOR_MEASUREMENT_1': 491.19, 'SENSOR_MEASUREMENT_2': 606.81, 'SENSOR_MEASUREMENT_3': 1480.73, 'SENSOR_MEASUREMENT_4': 1248.17, 'SENSOR_MEASUREMENT_5': 9.35, 'SENSOR_MEASUREMENT_6': 13.65, 'SENSOR_MEASUREMENT_7': 334.47, 'SENSOR_MEASUREMENT_8': 2323.86, 'SENSOR_MEASUREMENT_9': 8712.71, 'SENSOR_MEASUREMENT_10': 1.08, 'SENSOR_MEASUREMENT_11': 44.4, 'SENSOR_MEASUREMENT_12': 315.14, 'SENSOR_MEASUREMENT_13': 2388.05, 'SENSOR_MEASUREMENT_14': 8051.82, 'SENSOR_MEASUREMENT_15': 9.1973, 'SENSOR_MEASUREMENT_16': 0.02, 'SENSOR_MEASUREMENT_17': 365.0, 'SENSOR_MEASUREMENT_18': 2324.0, 'SENSOR_MEASUREMENT_19': 100.0, 'SENSOR_MEASUREMENT_20': 24.19, 'SENSOR_MEASUREMENT_21': 14.6751}, {'FAULT': 'FD002', 'UNIT_NUMBER': 3, 'TIME_IN_CYCLES': 14, 'SENSOR_MEASUREMENT_1': 491.19, 'SENSOR_MEASUREMENT_2': 607.41, 'SENSOR_MEASUREMENT_3': 1487.09, 'SENSOR_MEASUREMENT_4': 1251.55, 'SENSOR_MEASUREMENT_5': 9.35, 'SENSOR_MEASUREMENT_6': 13.65, 'SENSOR_MEASUREMENT_7': 335.1, 'SENSOR_MEASUREMENT_8': 2323.96, 'SENSOR_MEASUREMENT_9': 8713.06, 'SENSOR_MEASUREMENT_10': 1.08, 'SENSOR_MEASUREMENT_11': 44.37, 'SENSOR_MEASUREMENT_12': 315.67, 'SENSOR_MEASUREMENT_13': 2388.02, 'SENSOR_MEASUREMENT_14': 8053.08, 'SENSOR_MEASUREMENT_15': 9.2109, 'SENSOR_MEASUREMENT_16': 0.02, 'SENSOR_MEASUREMENT_17': 365.0, 'SENSOR_MEASUREMENT_18': 2324.0, 'SENSOR_MEASUREMENT_19': 100.0, 'SENSOR_MEASUREMENT_20': 24.47, 'SENSOR_MEASUREMENT_21': 14.695}, {'FAULT': 'FD002', 'UNIT_NUMBER': 3, 'TIME_IN_CYCLES': 15, 'SENSOR_MEASUREMENT_1': 518.67, 'SENSOR_MEASUREMENT_2': 642.71, 'SENSOR_MEASUREMENT_3': 1581.09, 'SENSOR_MEASUREMENT_4': 1406.54, 'SENSOR_MEASUREMENT_5': 14.62, 'SENSOR_MEASUREMENT_6': 21.61, 'SENSOR_MEASUREMENT_7': 553.24, 'SENSOR_MEASUREMENT_8': 2388.06, 'SENSOR_MEASUREMENT_9': 9047.29, 'SENSOR_MEASUREMENT_10': 1.3, 'SENSOR_MEASUREMENT_11': 47.36, 'SENSOR_MEASUREMENT_12': 521.64, 'SENSOR_MEASUREMENT_13': 2388.1, 'SENSOR_MEASUREMENT_14': 8128.6, 'SENSOR_MEASUREMENT_15': 8.4025, 'SENSOR_MEASUREMENT_16': 0.03, 'SENSOR_MEASUREMENT_17': 391.0, 'SENSOR_MEASUREMENT_18': 2388.0, 'SENSOR_MEASUREMENT_19': 100.0, 'SENSOR_MEASUREMENT_20': 39.07, 'SENSOR_MEASUREMENT_21': 23.3553}, {'FAULT': 'FD002', 'UNIT_NUMBER': 3, 'TIME_IN_CYCLES': 16, 'SENSOR_MEASUREMENT_1': 445.0, 'SENSOR_MEASUREMENT_2': 549.17, 'SENSOR_MEASUREMENT_3': 1350.87, 'SENSOR_MEASUREMENT_4': 1127.06, 'SENSOR_MEASUREMENT_5': 3.91, 'SENSOR_MEASUREMENT_6': 5.71, 'SENSOR_MEASUREMENT_7': 138.45, 'SENSOR_MEASUREMENT_8': 2211.69, 'SENSOR_MEASUREMENT_9': 8316.75, 'SENSOR_MEASUREMENT_10': 1.02, 'SENSOR_MEASUREMENT_11': 41.88, 'SENSOR_MEASUREMENT_12': 129.99, 'SENSOR_MEASUREMENT_13': 2387.8, 'SENSOR_MEASUREMENT_14': 8072.04, 'SENSOR_MEASUREMENT_15': 9.3822, 'SENSOR_MEASUREMENT_16': 0.02, 'SENSOR_MEASUREMENT_17': 331.0, 'SENSOR_MEASUREMENT_18': 2212.0, 'SENSOR_MEASUREMENT_19': 100.0, 'SENSOR_MEASUREMENT_20': 10.37, 'SENSOR_MEASUREMENT_21': 6.3519}, {'FAULT': 'FD002', 'UNIT_NUMBER': 3, 'TIME_IN_CYCLES': 17, 'SENSOR_MEASUREMENT_1': 445.0, 'SENSOR_MEASUREMENT_2': 549.77, 'SENSOR_MEASUREMENT_3': 1350.1, 'SENSOR_MEASUREMENT_4': 1125.66, 'SENSOR_MEASUREMENT_5': 3.91, 'SENSOR_MEASUREMENT_6': 5.72, 'SENSOR_MEASUREMENT_7': 139.01, 'SENSOR_MEASUREMENT_8': 2211.66, 'SENSOR_MEASUREMENT_9': 8311.84, 'SENSOR_MEASUREMENT_10': 1.02, 'SENSOR_MEASUREMENT_11': 42.16, 'SENSOR_MEASUREMENT_12': 130.43, 'SENSOR_MEASUREMENT_13': 2387.73, 'SENSOR_MEASUREMENT_14': 8071.72, 'SENSOR_MEASUREMENT_15': 9.3766, 'SENSOR_MEASUREMENT_16': 0.02, 'SENSOR_MEASUREMENT_17': 332.0, 'SENSOR_MEASUREMENT_18': 2212.0, 'SENSOR_MEASUREMENT_19': 100.0, 'SENSOR_MEASUREMENT_20': 10.7, 'SENSOR_MEASUREMENT_21': 6.3437}, {'FAULT': 'FD002', 'UNIT_NUMBER': 3, 'TIME_IN_CYCLES': 18, 'SENSOR_MEASUREMENT_1': 489.05, 'SENSOR_MEASUREMENT_2': 604.48, 'SENSOR_MEASUREMENT_3': 1502.08, 'SENSOR_MEASUREMENT_4': 1302.14, 'SENSOR_MEASUREMENT_5': 10.52, 'SENSOR_MEASUREMENT_6': 15.49, 'SENSOR_MEASUREMENT_7': 394.56, 'SENSOR_MEASUREMENT_8': 2318.92, 'SENSOR_MEASUREMENT_9': 8772.74, 'SENSOR_MEASUREMENT_10': 1.26, 'SENSOR_MEASUREMENT_11': 45.44, 'SENSOR_MEASUREMENT_12': 371.77, 'SENSOR_MEASUREMENT_13': 2388.14, 'SENSOR_MEASUREMENT_14': 8122.15, 'SENSOR_MEASUREMENT_15': 8.615, 'SENSOR_MEASUREMENT_16': 0.03, 'SENSOR_MEASUREMENT_17': 369.0, 'SENSOR_MEASUREMENT_18': 2319.0, 'SENSOR_MEASUREMENT_19': 100.0, 'SENSOR_MEASUREMENT_20': 28.68, 'SENSOR_MEASUREMENT_21': 17.1896}, {'FAULT': 'FD002', 'UNIT_NUMBER': 3, 'TIME_IN_CYCLES': 19, 'SENSOR_MEASUREMENT_1': 489.05, 'SENSOR_MEASUREMENT_2': 605.22, 'SENSOR_MEASUREMENT_3': 1488.52, 'SENSOR_MEASUREMENT_4': 1308.39, 'SENSOR_MEASUREMENT_5': 10.52, 'SENSOR_MEASUREMENT_6': 15.49, 'SENSOR_MEASUREMENT_7': 394.65, 'SENSOR_MEASUREMENT_8': 2318.85, 'SENSOR_MEASUREMENT_9': 8770.77, 'SENSOR_MEASUREMENT_10': 1.26, 'SENSOR_MEASUREMENT_11': 45.32, 'SENSOR_MEASUREMENT_12': 371.61, 'SENSOR_MEASUREMENT_13': 2388.12, 'SENSOR_MEASUREMENT_14': 8122.01, 'SENSOR_MEASUREMENT_15': 8.6437, 'SENSOR_MEASUREMENT_16': 0.03, 'SENSOR_MEASUREMENT_17': 371.0, 'SENSOR_MEASUREMENT_18': 2319.0, 'SENSOR_MEASUREMENT_19': 100.0, 'SENSOR_MEASUREMENT_20': 28.6, 'SENSOR_MEASUREMENT_21': 17.1427}, {'FAULT': 'FD002', 'UNIT_NUMBER': 3, 'TIME_IN_CYCLES': 20, 'SENSOR_MEASUREMENT_1': 445.0, 'SENSOR_MEASUREMENT_2': 549.56, 'SENSOR_MEASUREMENT_3': 1344.83, 'SENSOR_MEASUREMENT_4': 1120.32, 'SENSOR_MEASUREMENT_5': 3.91, 'SENSOR_MEASUREMENT_6': 5.71, 'SENSOR_MEASUREMENT_7': 138.27, 'SENSOR_MEASUREMENT_8': 2211.7, 'SENSOR_MEASUREMENT_9': 8315.88, 'SENSOR_MEASUREMENT_10': 1.02, 'SENSOR_MEASUREMENT_11': 42.06, 'SENSOR_MEASUREMENT_12': 130.02, 'SENSOR_MEASUREMENT_13': 2387.78, 'SENSOR_MEASUREMENT_14': 8081.4, 'SENSOR_MEASUREMENT_15': 9.3947, 'SENSOR_MEASUREMENT_16': 0.02, 'SENSOR_MEASUREMENT_17': 331.0, 'SENSOR_MEASUREMENT_18': 2212.0, 'SENSOR_MEASUREMENT_19': 100.0, 'SENSOR_MEASUREMENT_20': 10.48, 'SENSOR_MEASUREMENT_21': 6.2533}, {'FAULT': 'FD002', 'UNIT_NUMBER': 3, 'TIME_IN_CYCLES': 21, 'SENSOR_MEASUREMENT_1': 518.67, 'SENSOR_MEASUREMENT_2': 642.48, 'SENSOR_MEASUREMENT_3': 1598.78, 'SENSOR_MEASUREMENT_4': 1397.15, 'SENSOR_MEASUREMENT_5': 14.62, 'SENSOR_MEASUREMENT_6': 21.61, 'SENSOR_MEASUREMENT_7': 553.8, 'SENSOR_MEASUREMENT_8': 2388.1, 'SENSOR_MEASUREMENT_9': 9052.08, 'SENSOR_MEASUREMENT_10': 1.3, 'SENSOR_MEASUREMENT_11': 47.29, 'SENSOR_MEASUREMENT_12': 522.1, 'SENSOR_MEASUREMENT_13': 2388.09, 'SENSOR_MEASUREMENT_14': 8125.67, 'SENSOR_MEASUREMENT_15': 8.415, 'SENSOR_MEASUREMENT_16': 0.03, 'SENSOR_MEASUREMENT_17': 393.0, 'SENSOR_MEASUREMENT_18': 2388.0, 'SENSOR_MEASUREMENT_19': 100.0, 'SENSOR_MEASUREMENT_20': 38.82, 'SENSOR_MEASUREMENT_21': 23.2384}, {'FAULT': 'FD002', 'UNIT_NUMBER': 3, 'TIME_IN_CYCLES': 22, 'SENSOR_MEASUREMENT_1': 489.05, 'SENSOR_MEASUREMENT_2': 604.28, 'SENSOR_MEASUREMENT_3': 1495.44, 'SENSOR_MEASUREMENT_4': 1305.89, 'SENSOR_MEASUREMENT_5': 10.52, 'SENSOR_MEASUREMENT_6': 15.49, 'SENSOR_MEASUREMENT_7': 394.62, 'SENSOR_MEASUREMENT_8': 2318.89, 'SENSOR_MEASUREMENT_9': 8765.32, 'SENSOR_MEASUREMENT_10': 1.26, 'SENSOR_MEASUREMENT_11': 45.57, 'SENSOR_MEASUREMENT_12': 371.48, 'SENSOR_MEASUREMENT_13': 2388.12, 'SENSOR_MEASUREMENT_14': 8125.56, 'SENSOR_MEASUREMENT_15': 8.6314, 'SENSOR_MEASUREMENT_16': 0.03, 'SENSOR_MEASUREMENT_17': 371.0, 'SENSOR_MEASUREMENT_18': 2319.0, 'SENSOR_MEASUREMENT_19': 100.0, 'SENSOR_MEASUREMENT_20': 28.5, 'SENSOR_MEASUREMENT_21': 17.1874}, {'FAULT': 'FD002', 'UNIT_NUMBER': 3, 'TIME_IN_CYCLES': 23, 'SENSOR_MEASUREMENT_1': 489.05, 'SENSOR_MEASUREMENT_2': 604.32, 'SENSOR_MEASUREMENT_3': 1496.47, 'SENSOR_MEASUREMENT_4': 1306.93, 'SENSOR_MEASUREMENT_5': 10.52, 'SENSOR_MEASUREMENT_6': 15.49, 'SENSOR_MEASUREMENT_7': 394.47, 'SENSOR_MEASUREMENT_8': 2318.92, 'SENSOR_MEASUREMENT_9': 8768.26, 'SENSOR_MEASUREMENT_10': 1.26, 'SENSOR_MEASUREMENT_11': 45.64, 'SENSOR_MEASUREMENT_12': 371.57, 'SENSOR_MEASUREMENT_13': 2388.08, 'SENSOR_MEASUREMENT_14': 8124.55, 'SENSOR_MEASUREMENT_15': 8.6515, 'SENSOR_MEASUREMENT_16': 0.03, 'SENSOR_MEASUREMENT_17': 370.0, 'SENSOR_MEASUREMENT_18': 2319.0, 'SENSOR_MEASUREMENT_19': 100.0, 'SENSOR_MEASUREMENT_20': 28.51, 'SENSOR_MEASUREMENT_21': 17.1597}, {'FAULT': 'FD002', 'UNIT_NUMBER': 3, 'TIME_IN_CYCLES': 24, 'SENSOR_MEASUREMENT_1': 462.54, 'SENSOR_MEASUREMENT_2': 536.85, 'SENSOR_MEASUREMENT_3': 1261.5, 'SENSOR_MEASUREMENT_4': 1046.11, 'SENSOR_MEASUREMENT_5': 7.05, 'SENSOR_MEASUREMENT_6': 9.03, 'SENSOR_MEASUREMENT_7': 175.25, 'SENSOR_MEASUREMENT_8': 1915.21, 'SENSOR_MEASUREMENT_9': 8001.39, 'SENSOR_MEASUREMENT_10': 0.94, 'SENSOR_MEASUREMENT_11': 36.65, 'SENSOR_MEASUREMENT_12': 164.87, 'SENSOR_MEASUREMENT_13': 2028.1, 'SENSOR_MEASUREMENT_14': 7864.22, 'SENSOR_MEASUREMENT_15': 10.9042, 'SENSOR_MEASUREMENT_16': 0.02, 'SENSOR_MEASUREMENT_17': 307.0, 'SENSOR_MEASUREMENT_18': 1915.0, 'SENSOR_MEASUREMENT_19': 84.93, 'SENSOR_MEASUREMENT_20': 14.19, 'SENSOR_MEASUREMENT_21': 8.6115}, {'FAULT': 'FD002', 'UNIT_NUMBER': 3, 'TIME_IN_CYCLES': 25, 'SENSOR_MEASUREMENT_1': 449.44, 'SENSOR_MEASUREMENT_2': 555.83, 'SENSOR_MEASUREMENT_3': 1366.18, 'SENSOR_MEASUREMENT_4': 1127.08, 'SENSOR_MEASUREMENT_5': 5.48, 'SENSOR_MEASUREMENT_6': 8.0, 'SENSOR_MEASUREMENT_7': 194.69, 'SENSOR_MEASUREMENT_8': 2222.78, 'SENSOR_MEASUREMENT_9': 8343.01, 'SENSOR_MEASUREMENT_10': 1.02, 'SENSOR_MEASUREMENT_11': 41.87, 'SENSOR_MEASUREMENT_12': 183.32, 'SENSOR_MEASUREMENT_13': 2387.9, 'SENSOR_MEASUREMENT_14': 8066.09, 'SENSOR_MEASUREMENT_15': 9.2932, 'SENSOR_MEASUREMENT_16': 0.02, 'SENSOR_MEASUREMENT_17': 334.0, 'SENSOR_MEASUREMENT_18': 2223.0, 'SENSOR_MEASUREMENT_19': 100.0, 'SENSOR_MEASUREMENT_20': 14.91, 'SENSOR_MEASUREMENT_21': 8.97}, {'FAULT': 'FD002', 'UNIT_NUMBER': 3, 'TIME_IN_CYCLES': 26, 'SENSOR_MEASUREMENT_1': 518.67, 'SENSOR_MEASUREMENT_2': 642.24, 'SENSOR_MEASUREMENT_3': 1587.64, 'SENSOR_MEASUREMENT_4': 1407.44, 'SENSOR_MEASUREMENT_5': 14.62, 'SENSOR_MEASUREMENT_6': 21.61, 'SENSOR_MEASUREMENT_7': 554.27, 'SENSOR_MEASUREMENT_8': 2388.09, 'SENSOR_MEASUREMENT_9': 9043.55, 'SENSOR_MEASUREMENT_10': 1.3, 'SENSOR_MEASUREMENT_11': 47.52, 'SENSOR_MEASUREMENT_12': 521.66, 'SENSOR_MEASUREMENT_13': 2388.09, 'SENSOR_MEASUREMENT_14': 8122.64, 'SENSOR_MEASUREMENT_15': 8.4122, 'SENSOR_MEASUREMENT_16': 0.03, 'SENSOR_MEASUREMENT_17': 393.0, 'SENSOR_MEASUREMENT_18': 2388.0, 'SENSOR_MEASUREMENT_19': 100.0, 'SENSOR_MEASUREMENT_20': 38.97, 'SENSOR_MEASUREMENT_21': 23.2384}, {'FAULT': 'FD002', 'UNIT_NUMBER': 3, 'TIME_IN_CYCLES': 27, 'SENSOR_MEASUREMENT_1': 489.05, 'SENSOR_MEASUREMENT_2': 604.91, 'SENSOR_MEASUREMENT_3': 1496.68, 'SENSOR_MEASUREMENT_4': 1310.81, 'SENSOR_MEASUREMENT_5': 10.52, 'SENSOR_MEASUREMENT_6': 15.49, 'SENSOR_MEASUREMENT_7': 394.13, 'SENSOR_MEASUREMENT_8': 2318.91, 'SENSOR_MEASUREMENT_9': 8771.49, 'SENSOR_MEASUREMENT_10': 1.26, 'SENSOR_MEASUREMENT_11': 45.38, 'SENSOR_MEASUREMENT_12': 372.24, 'SENSOR_MEASUREMENT_13': 2388.11, 'SENSOR_MEASUREMENT_14': 8128.84, 'SENSOR_MEASUREMENT_15': 8.6295, 'SENSOR_MEASUREMENT_16': 0.03, 'SENSOR_MEASUREMENT_17': 368.0, 'SENSOR_MEASUREMENT_18': 2319.0, 'SENSOR_MEASUREMENT_19': 100.0, 'SENSOR_MEASUREMENT_20': 28.41, 'SENSOR_MEASUREMENT_21': 17.1284}, {'FAULT': 'FD002', 'UNIT_NUMBER': 3, 'TIME_IN_CYCLES': 28, 'SENSOR_MEASUREMENT_1': 449.44, 'SENSOR_MEASUREMENT_2': 556.25, 'SENSOR_MEASUREMENT_3': 1375.13, 'SENSOR_MEASUREMENT_4': 1128.99, 'SENSOR_MEASUREMENT_5': 5.48, 'SENSOR_MEASUREMENT_6': 8.0, 'SENSOR_MEASUREMENT_7': 194.37, 'SENSOR_MEASUREMENT_8': 2222.82, 'SENSOR_MEASUREMENT_9': 8340.66, 'SENSOR_MEASUREMENT_10': 1.02, 'SENSOR_MEASUREMENT_11': 41.85, 'SENSOR_MEASUREMENT_12': 182.45, 'SENSOR_MEASUREMENT_13': 2387.85, 'SENSOR_MEASUREMENT_14': 8059.26, 'SENSOR_MEASUREMENT_15': 9.3036, 'SENSOR_MEASUREMENT_16': 0.02, 'SENSOR_MEASUREMENT_17': 334.0, 'SENSOR_MEASUREMENT_18': 2223.0, 'SENSOR_MEASUREMENT_19': 100.0, 'SENSOR_MEASUREMENT_20': 14.84, 'SENSOR_MEASUREMENT_21': 8.9329}, {'FAULT': 'FD002', 'UNIT_NUMBER': 3, 'TIME_IN_CYCLES': 29, 'SENSOR_MEASUREMENT_1': 491.19, 'SENSOR_MEASUREMENT_2': 607.12, 'SENSOR_MEASUREMENT_3': 1487.33, 'SENSOR_MEASUREMENT_4': 1247.78, 'SENSOR_MEASUREMENT_5': 9.35, 'SENSOR_MEASUREMENT_6': 13.65, 'SENSOR_MEASUREMENT_7': 334.1, 'SENSOR_MEASUREMENT_8': 2323.91, 'SENSOR_MEASUREMENT_9': 8710.32, 'SENSOR_MEASUREMENT_10': 1.08, 'SENSOR_MEASUREMENT_11': 44.36, 'SENSOR_MEASUREMENT_12': 314.96, 'SENSOR_MEASUREMENT_13': 2388.08, 'SENSOR_MEASUREMENT_14': 8046.49, 'SENSOR_MEASUREMENT_15': 9.2325, 'SENSOR_MEASUREMENT_16': 0.02, 'SENSOR_MEASUREMENT_17': 365.0, 'SENSOR_MEASUREMENT_18': 2324.0, 'SENSOR_MEASUREMENT_19': 100.0, 'SENSOR_MEASUREMENT_20': 24.52, 'SENSOR_MEASUREMENT_21': 14.7178}, {'FAULT': 'FD002', 'UNIT_NUMBER': 3, 'TIME_IN_CYCLES': 30, 'SENSOR_MEASUREMENT_1': 449.44, 'SENSOR_MEASUREMENT_2': 555.69, 'SENSOR_MEASUREMENT_3': 1366.01, 'SENSOR_MEASUREMENT_4': 1119.25, 'SENSOR_MEASUREMENT_5': 5.48, 'SENSOR_MEASUREMENT_6': 8.0, 'SENSOR_MEASUREMENT_7': 193.64, 'SENSOR_MEASUREMENT_8': 2222.81, 'SENSOR_MEASUREMENT_9': 8346.03, 'SENSOR_MEASUREMENT_10': 1.02, 'SENSOR_MEASUREMENT_11': 41.99, 'SENSOR_MEASUREMENT_12': 183.24, 'SENSOR_MEASUREMENT_13': 2387.92, 'SENSOR_MEASUREMENT_14': 8064.06, 'SENSOR_MEASUREMENT_15': 9.3305, 'SENSOR_MEASUREMENT_16': 0.02, 'SENSOR_MEASUREMENT_17': 333.0, 'SENSOR_MEASUREMENT_18': 2223.0, 'SENSOR_MEASUREMENT_19': 100.0, 'SENSOR_MEASUREMENT_20': 14.76, 'SENSOR_MEASUREMENT_21': 8.8609}, {'FAULT': 'FD002', 'UNIT_NUMBER': 3, 'TIME_IN_CYCLES': 31, 'SENSOR_MEASUREMENT_1': 489.05, 'SENSOR_MEASUREMENT_2': 604.45, 'SENSOR_MEASUREMENT_3': 1501.86, 'SENSOR_MEASUREMENT_4': 1310.87, 'SENSOR_MEASUREMENT_5': 10.52, 'SENSOR_MEASUREMENT_6': 15.49, 'SENSOR_MEASUREMENT_7': 394.8, 'SENSOR_MEASUREMENT_8': 2318.91, 'SENSOR_MEASUREMENT_9': 8767.82, 'SENSOR_MEASUREMENT_10': 1.26, 'SENSOR_MEASUREMENT_11': 45.28, 'SENSOR_MEASUREMENT_12': 371.17, 'SENSOR_MEASUREMENT_13': 2388.14, 'SENSOR_MEASUREMENT_14': 8128.35, 'SENSOR_MEASUREMENT_15': 8.6176, 'SENSOR_MEASUREMENT_16': 0.03, 'SENSOR_MEASUREMENT_17': 369.0, 'SENSOR_MEASUREMENT_18': 2319.0, 'SENSOR_MEASUREMENT_19': 100.0, 'SENSOR_MEASUREMENT_20': 28.52, 'SENSOR_MEASUREMENT_21': 17.0491}, {'FAULT': 'FD002', 'UNIT_NUMBER': 3, 'TIME_IN_CYCLES': 32, 'SENSOR_MEASUREMENT_1': 462.54, 'SENSOR_MEASUREMENT_2': 536.86, 'SENSOR_MEASUREMENT_3': 1262.46, 'SENSOR_MEASUREMENT_4': 1048.29, 'SENSOR_MEASUREMENT_5': 7.05, 'SENSOR_MEASUREMENT_6': 9.03, 'SENSOR_MEASUREMENT_7': 175.29, 'SENSOR_MEASUREMENT_8': 1915.26, 'SENSOR_MEASUREMENT_9': 7998.75, 'SENSOR_MEASUREMENT_10': 0.94, 'SENSOR_MEASUREMENT_11': 36.7, 'SENSOR_MEASUREMENT_12': 164.65, 'SENSOR_MEASUREMENT_13': 2028.09, 'SENSOR_MEASUREMENT_14': 7870.0, 'SENSOR_MEASUREMENT_15': 10.8587, 'SENSOR_MEASUREMENT_16': 0.02, 'SENSOR_MEASUREMENT_17': 307.0, 'SENSOR_MEASUREMENT_18': 1915.0, 'SENSOR_MEASUREMENT_19': 84.93, 'SENSOR_MEASUREMENT_20': 14.41, 'SENSOR_MEASUREMENT_21': 8.5871}, {'FAULT': 'FD002', 'UNIT_NUMBER': 3, 'TIME_IN_CYCLES': 33, 'SENSOR_MEASUREMENT_1': 449.44, 'SENSOR_MEASUREMENT_2': 555.34, 'SENSOR_MEASUREMENT_3': 1356.36, 'SENSOR_MEASUREMENT_4': 1129.06, 'SENSOR_MEASUREMENT_5': 5.48, 'SENSOR_MEASUREMENT_6': 8.0, 'SENSOR_MEASUREMENT_7': 194.61, 'SENSOR_MEASUREMENT_8': 2222.78, 'SENSOR_MEASUREMENT_9': 8343.23, 'SENSOR_MEASUREMENT_10': 1.02, 'SENSOR_MEASUREMENT_11': 42.07, 'SENSOR_MEASUREMENT_12': 182.86, 'SENSOR_MEASUREMENT_13': 2387.87, 'SENSOR_MEASUREMENT_14': 8058.5, 'SENSOR_MEASUREMENT_15': 9.322, 'SENSOR_MEASUREMENT_16': 0.02, 'SENSOR_MEASUREMENT_17': 335.0, 'SENSOR_MEASUREMENT_18': 2223.0, 'SENSOR_MEASUREMENT_19': 100.0, 'SENSOR_MEASUREMENT_20': 14.83, 'SENSOR_MEASUREMENT_21': 8.9461}, {'FAULT': 'FD002', 'UNIT_NUMBER': 3, 'TIME_IN_CYCLES': 34, 'SENSOR_MEASUREMENT_1': 449.44, 'SENSOR_MEASUREMENT_2': 554.95, 'SENSOR_MEASUREMENT_3': 1362.09, 'SENSOR_MEASUREMENT_4': 1130.66, 'SENSOR_MEASUREMENT_5': 5.48, 'SENSOR_MEASUREMENT_6': 8.0, 'SENSOR_MEASUREMENT_7': 194.56, 'SENSOR_MEASUREMENT_8': 2222.8, 'SENSOR_MEASUREMENT_9': 8337.66, 'SENSOR_MEASUREMENT_10': 1.02, 'SENSOR_MEASUREMENT_11': 41.96, 'SENSOR_MEASUREMENT_12': 183.57, 'SENSOR_MEASUREMENT_13': 2387.86, 'SENSOR_MEASUREMENT_14': 8059.59, 'SENSOR_MEASUREMENT_15': 9.3062, 'SENSOR_MEASUREMENT_16': 0.02, 'SENSOR_MEASUREMENT_17': 332.0, 'SENSOR_MEASUREMENT_18': 2223.0, 'SENSOR_MEASUREMENT_19': 100.0, 'SENSOR_MEASUREMENT_20': 15.06, 'SENSOR_MEASUREMENT_21': 8.863}, {'FAULT': 'FD002', 'UNIT_NUMBER': 3, 'TIME_IN_CYCLES': 35, 'SENSOR_MEASUREMENT_1': 489.05, 'SENSOR_MEASUREMENT_2': 604.48, 'SENSOR_MEASUREMENT_3': 1500.46, 'SENSOR_MEASUREMENT_4': 1307.89, 'SENSOR_MEASUREMENT_5': 10.52, 'SENSOR_MEASUREMENT_6': 15.5, 'SENSOR_MEASUREMENT_7': 395.03, 'SENSOR_MEASUREMENT_8': 2318.89, 'SENSOR_MEASUREMENT_9': 8772.89, 'SENSOR_MEASUREMENT_10': 1.26, 'SENSOR_MEASUREMENT_11': 45.21, 'SENSOR_MEASUREMENT_12': 371.77, 'SENSOR_MEASUREMENT_13': 2388.12, 'SENSOR_MEASUREMENT_14': 8126.91, 'SENSOR_MEASUREMENT_15': 8.6485, 'SENSOR_MEASUREMENT_16': 0.03, 'SENSOR_MEASUREMENT_17': 371.0, 'SENSOR_MEASUREMENT_18': 2319.0, 'SENSOR_MEASUREMENT_19': 100.0, 'SENSOR_MEASUREMENT_20': 28.66, 'SENSOR_MEASUREMENT_21': 17.1275}, {'FAULT': 'FD002', 'UNIT_NUMBER': 3, 'TIME_IN_CYCLES': 36, 'SENSOR_MEASUREMENT_1': 491.19, 'SENSOR_MEASUREMENT_2': 607.49, 'SENSOR_MEASUREMENT_3': 1479.24, 'SENSOR_MEASUREMENT_4': 1249.03, 'SENSOR_MEASUREMENT_5': 9.35, 'SENSOR_MEASUREMENT_6': 13.65, 'SENSOR_MEASUREMENT_7': 334.71, 'SENSOR_MEASUREMENT_8': 2323.91, 'SENSOR_MEASUREMENT_9': 8711.91, 'SENSOR_MEASUREMENT_10': 1.08, 'SENSOR_MEASUREMENT_11': 44.31, 'SENSOR_MEASUREMENT_12': 315.08, 'SENSOR_MEASUREMENT_13': 2388.07, 'SENSOR_MEASUREMENT_14': 8052.04, 'SENSOR_MEASUREMENT_15': 9.2127, 'SENSOR_MEASUREMENT_16': 0.02, 'SENSOR_MEASUREMENT_17': 365.0, 'SENSOR_MEASUREMENT_18': 2324.0, 'SENSOR_MEASUREMENT_19': 100.0, 'SENSOR_MEASUREMENT_20': 24.52, 'SENSOR_MEASUREMENT_21': 14.6829}, {'FAULT': 'FD002', 'UNIT_NUMBER': 3, 'TIME_IN_CYCLES': 37, 'SENSOR_MEASUREMENT_1': 449.44, 'SENSOR_MEASUREMENT_2': 555.83, 'SENSOR_MEASUREMENT_3': 1362.95, 'SENSOR_MEASUREMENT_4': 1129.96, 'SENSOR_MEASUREMENT_5': 5.48, 'SENSOR_MEASUREMENT_6': 8.0, 'SENSOR_MEASUREMENT_7': 194.87, 'SENSOR_MEASUREMENT_8': 2222.81, 'SENSOR_MEASUREMENT_9': 8341.54, 'SENSOR_MEASUREMENT_10': 1.02, 'SENSOR_MEASUREMENT_11': 41.85, 'SENSOR_MEASUREMENT_12': 183.92, 'SENSOR_MEASUREMENT_13': 2387.9, 'SENSOR_MEASUREMENT_14': 8062.53, 'SENSOR_MEASUREMENT_15': 9.3198, 'SENSOR_MEASUREMENT_16': 0.02, 'SENSOR_MEASUREMENT_17': 334.0, 'SENSOR_MEASUREMENT_18': 2223.0, 'SENSOR_MEASUREMENT_19': 100.0, 'SENSOR_MEASUREMENT_20': 14.84, 'SENSOR_MEASUREMENT_21': 8.9407}, {'FAULT': 'FD002', 'UNIT_NUMBER': 3, 'TIME_IN_CYCLES': 38, 'SENSOR_MEASUREMENT_1': 462.54, 'SENSOR_MEASUREMENT_2': 536.74, 'SENSOR_MEASUREMENT_3': 1260.0, 'SENSOR_MEASUREMENT_4': 1041.53, 'SENSOR_MEASUREMENT_5': 7.05, 'SENSOR_MEASUREMENT_6': 9.02, 'SENSOR_MEASUREMENT_7': 175.67, 'SENSOR_MEASUREMENT_8': 1915.24, 'SENSOR_MEASUREMENT_9': 8007.27, 'SENSOR_MEASUREMENT_10': 0.94, 'SENSOR_MEASUREMENT_11': 36.69, 'SENSOR_MEASUREMENT_12': 164.69, 'SENSOR_MEASUREMENT_13': 2028.13, 'SENSOR_MEASUREMENT_14': 7866.44, 'SENSOR_MEASUREMENT_15': 10.9135, 'SENSOR_MEASUREMENT_16': 0.02, 'SENSOR_MEASUREMENT_17': 307.0, 'SENSOR_MEASUREMENT_18': 1915.0, 'SENSOR_MEASUREMENT_19': 84.93, 'SENSOR_MEASUREMENT_20': 14.23, 'SENSOR_MEASUREMENT_21': 8.5898}, {'FAULT': 'FD002', 'UNIT_NUMBER': 3, 'TIME_IN_CYCLES': 39, 'SENSOR_MEASUREMENT_1': 449.44, 'SENSOR_MEASUREMENT_2': 555.76, 'SENSOR_MEASUREMENT_3': 1362.53, 'SENSOR_MEASUREMENT_4': 1123.85, 'SENSOR_MEASUREMENT_5': 5.48, 'SENSOR_MEASUREMENT_6': 8.0, 'SENSOR_MEASUREMENT_7': 194.11, 'SENSOR_MEASUREMENT_8': 2222.8, 'SENSOR_MEASUREMENT_9': 8339.9, 'SENSOR_MEASUREMENT_10': 1.03, 'SENSOR_MEASUREMENT_11': 41.73, 'SENSOR_MEASUREMENT_12': 183.14, 'SENSOR_MEASUREMENT_13': 2387.9, 'SENSOR_MEASUREMENT_14': 8060.5, 'SENSOR_MEASUREMENT_15': 9.2922, 'SENSOR_MEASUREMENT_16': 0.02, 'SENSOR_MEASUREMENT_17': 334.0, 'SENSOR_MEASUREMENT_18': 2223.0, 'SENSOR_MEASUREMENT_19': 100.0, 'SENSOR_MEASUREMENT_20': 15.19, 'SENSOR_MEASUREMENT_21': 8.9598}, {'FAULT': 'FD002', 'UNIT_NUMBER': 3, 'TIME_IN_CYCLES': 40, 'SENSOR_MEASUREMENT_1': 489.05, 'SENSOR_MEASUREMENT_2': 604.79, 'SENSOR_MEASUREMENT_3': 1494.69, 'SENSOR_MEASUREMENT_4': 1303.22, 'SENSOR_MEASUREMENT_5': 10.52, 'SENSOR_MEASUREMENT_6': 15.49, 'SENSOR_MEASUREMENT_7': 394.37, 'SENSOR_MEASUREMENT_8': 2318.89, 'SENSOR_MEASUREMENT_9': 8771.28, 'SENSOR_MEASUREMENT_10': 1.26, 'SENSOR_MEASUREMENT_11': 45.37, 'SENSOR_MEASUREMENT_12': 371.49, 'SENSOR_MEASUREMENT_13': 2388.1, 'SENSOR_MEASUREMENT_14': 8122.1, 'SENSOR_MEASUREMENT_15': 8.6531, 'SENSOR_MEASUREMENT_16': 0.03, 'SENSOR_MEASUREMENT_17': 370.0, 'SENSOR_MEASUREMENT_18': 2319.0, 'SENSOR_MEASUREMENT_19': 100.0, 'SENSOR_MEASUREMENT_20': 28.52, 'SENSOR_MEASUREMENT_21': 17.1476}, {'FAULT': 'FD002', 'UNIT_NUMBER': 3, 'TIME_IN_CYCLES': 41, 'SENSOR_MEASUREMENT_1': 462.54, 'SENSOR_MEASUREMENT_2': 536.83, 'SENSOR_MEASUREMENT_3': 1266.43, 'SENSOR_MEASUREMENT_4': 1048.56, 'SENSOR_MEASUREMENT_5': 7.05, 'SENSOR_MEASUREMENT_6': 9.03, 'SENSOR_MEASUREMENT_7': 175.05, 'SENSOR_MEASUREMENT_8': 1915.19, 'SENSOR_MEASUREMENT_9': 8004.03, 'SENSOR_MEASUREMENT_10': 0.94, 'SENSOR_MEASUREMENT_11': 36.64, 'SENSOR_MEASUREMENT_12': 164.85, 'SENSOR_MEASUREMENT_13': 2028.06, 'SENSOR_MEASUREMENT_14': 7867.28, 'SENSOR_MEASUREMENT_15': 10.8564, 'SENSOR_MEASUREMENT_16': 0.02, 'SENSOR_MEASUREMENT_17': 308.0, 'SENSOR_MEASUREMENT_18': 1915.0, 'SENSOR_MEASUREMENT_19': 84.93, 'SENSOR_MEASUREMENT_20': 14.31, 'SENSOR_MEASUREMENT_21': 8.5163}, {'FAULT': 'FD002', 'UNIT_NUMBER': 3, 'TIME_IN_CYCLES': 42, 'SENSOR_MEASUREMENT_1': 445.0, 'SENSOR_MEASUREMENT_2': 549.09, 'SENSOR_MEASUREMENT_3': 1352.13, 'SENSOR_MEASUREMENT_4': 1112.78, 'SENSOR_MEASUREMENT_5': 3.91, 'SENSOR_MEASUREMENT_6': 5.71, 'SENSOR_MEASUREMENT_7': 138.76, 'SENSOR_MEASUREMENT_8': 2211.72, 'SENSOR_MEASUREMENT_9': 8313.04, 'SENSOR_MEASUREMENT_10': 1.02, 'SENSOR_MEASUREMENT_11': 42.05, 'SENSOR_MEASUREMENT_12': 130.71, 'SENSOR_MEASUREMENT_13': 2387.8, 'SENSOR_MEASUREMENT_14': 8077.01, 'SENSOR_MEASUREMENT_15': 9.3789, 'SENSOR_MEASUREMENT_16': 0.02, 'SENSOR_MEASUREMENT_17': 330.0, 'SENSOR_MEASUREMENT_18': 2212.0, 'SENSOR_MEASUREMENT_19': 100.0, 'SENSOR_MEASUREMENT_20': 10.61, 'SENSOR_MEASUREMENT_21': 6.2987}, {'FAULT': 'FD002', 'UNIT_NUMBER': 3, 'TIME_IN_CYCLES': 43, 'SENSOR_MEASUREMENT_1': 491.19, 'SENSOR_MEASUREMENT_2': 607.19, 'SENSOR_MEASUREMENT_3': 1482.52, 'SENSOR_MEASUREMENT_4': 1249.68, 'SENSOR_MEASUREMENT_5': 9.35, 'SENSOR_MEASUREMENT_6': 13.65, 'SENSOR_MEASUREMENT_7': 334.52, 'SENSOR_MEASUREMENT_8': 2323.92, 'SENSOR_MEASUREMENT_9': 8713.53, 'SENSOR_MEASUREMENT_10': 1.08, 'SENSOR_MEASUREMENT_11': 44.32, 'SENSOR_MEASUREMENT_12': 314.82, 'SENSOR_MEASUREMENT_13': 2388.05, 'SENSOR_MEASUREMENT_14': 8054.71, 'SENSOR_MEASUREMENT_15': 9.2107, 'SENSOR_MEASUREMENT_16': 0.02, 'SENSOR_MEASUREMENT_17': 364.0, 'SENSOR_MEASUREMENT_18': 2324.0, 'SENSOR_MEASUREMENT_19': 100.0, 'SENSOR_MEASUREMENT_20': 24.54, 'SENSOR_MEASUREMENT_21': 14.6393}, {'FAULT': 'FD002', 'UNIT_NUMBER': 3, 'TIME_IN_CYCLES': 44, 'SENSOR_MEASUREMENT_1': 445.0, 'SENSOR_MEASUREMENT_2': 549.2, 'SENSOR_MEASUREMENT_3': 1353.21, 'SENSOR_MEASUREMENT_4': 1120.39, 'SENSOR_MEASUREMENT_5': 3.91, 'SENSOR_MEASUREMENT_6': 5.72, 'SENSOR_MEASUREMENT_7': 139.32, 'SENSOR_MEASUREMENT_8': 2211.71, 'SENSOR_MEASUREMENT_9': 8305.27, 'SENSOR_MEASUREMENT_10': 1.02, 'SENSOR_MEASUREMENT_11': 41.94, 'SENSOR_MEASUREMENT_12': 130.1, 'SENSOR_MEASUREMENT_13': 2387.76, 'SENSOR_MEASUREMENT_14': 8072.22, 'SENSOR_MEASUREMENT_15': 9.3683, 'SENSOR_MEASUREMENT_16': 0.02, 'SENSOR_MEASUREMENT_17': 330.0, 'SENSOR_MEASUREMENT_18': 2212.0, 'SENSOR_MEASUREMENT_19': 100.0, 'SENSOR_MEASUREMENT_20': 10.69, 'SENSOR_MEASUREMENT_21': 6.3022}, {'FAULT': 'FD002', 'UNIT_NUMBER': 3, 'TIME_IN_CYCLES': 45, 'SENSOR_MEASUREMENT_1': 462.54, 'SENSOR_MEASUREMENT_2': 537.07, 'SENSOR_MEASUREMENT_3': 1266.47, 'SENSOR_MEASUREMENT_4': 1049.31, 'SENSOR_MEASUREMENT_5': 7.05, 'SENSOR_MEASUREMENT_6': 9.02, 'SENSOR_MEASUREMENT_7': 175.87, 'SENSOR_MEASUREMENT_8': 1915.18, 'SENSOR_MEASUREMENT_9': 8003.28, 'SENSOR_MEASUREMENT_10': 0.94, 'SENSOR_MEASUREMENT_11': 36.7, 'SENSOR_MEASUREMENT_12': 164.77, 'SENSOR_MEASUREMENT_13': 2028.1, 'SENSOR_MEASUREMENT_14': 7870.0, 'SENSOR_MEASUREMENT_15': 10.8725, 'SENSOR_MEASUREMENT_16': 0.02, 'SENSOR_MEASUREMENT_17': 308.0, 'SENSOR_MEASUREMENT_18': 1915.0, 'SENSOR_MEASUREMENT_19': 84.93, 'SENSOR_MEASUREMENT_20': 14.19, 'SENSOR_MEASUREMENT_21': 8.5471}, {'FAULT': 'FD002', 'UNIT_NUMBER': 3, 'TIME_IN_CYCLES': 46, 'SENSOR_MEASUREMENT_1': 518.67, 'SENSOR_MEASUREMENT_2': 642.87, 'SENSOR_MEASUREMENT_3': 1588.03, 'SENSOR_MEASUREMENT_4': 1405.63, 'SENSOR_MEASUREMENT_5': 14.62, 'SENSOR_MEASUREMENT_6': 21.61, 'SENSOR_MEASUREMENT_7': 553.79, 'SENSOR_MEASUREMENT_8': 2388.12, 'SENSOR_MEASUREMENT_9': 9044.52, 'SENSOR_MEASUREMENT_10': 1.3, 'SENSOR_MEASUREMENT_11': 47.48, 'SENSOR_MEASUREMENT_12': 522.2, 'SENSOR_MEASUREMENT_13': 2388.08, 'SENSOR_MEASUREMENT_14': 8128.17, 'SENSOR_MEASUREMENT_15': 8.409, 'SENSOR_MEASUREMENT_16': 0.03, 'SENSOR_MEASUREMENT_17': 393.0, 'SENSOR_MEASUREMENT_18': 2388.0, 'SENSOR_MEASUREMENT_19': 100.0, 'SENSOR_MEASUREMENT_20': 38.78, 'SENSOR_MEASUREMENT_21': 23.3288}, {'FAULT': 'FD002', 'UNIT_NUMBER': 3, 'TIME_IN_CYCLES': 47, 'SENSOR_MEASUREMENT_1': 449.44, 'SENSOR_MEASUREMENT_2': 555.46, 'SENSOR_MEASUREMENT_3': 1366.41, 'SENSOR_MEASUREMENT_4': 1126.92, 'SENSOR_MEASUREMENT_5': 5.48, 'SENSOR_MEASUREMENT_6': 8.0, 'SENSOR_MEASUREMENT_7': 194.89, 'SENSOR_MEASUREMENT_8': 2222.79, 'SENSOR_MEASUREMENT_9': 8339.23, 'SENSOR_MEASUREMENT_10': 1.02, 'SENSOR_MEASUREMENT_11': 41.88, 'SENSOR_MEASUREMENT_12': 183.42, 'SENSOR_MEASUREMENT_13': 2387.85, 'SENSOR_MEASUREMENT_14': 8055.96, 'SENSOR_MEASUREMENT_15': 9.3066, 'SENSOR_MEASUREMENT_16': 0.02, 'SENSOR_MEASUREMENT_17': 333.0, 'SENSOR_MEASUREMENT_18': 2223.0, 'SENSOR_MEASUREMENT_19': 100.0, 'SENSOR_MEASUREMENT_20': 14.8, 'SENSOR_MEASUREMENT_21': 8.9528}, {'FAULT': 'FD002', 'UNIT_NUMBER': 3, 'TIME_IN_CYCLES': 48, 'SENSOR_MEASUREMENT_1': 462.54, 'SENSOR_MEASUREMENT_2': 536.41, 'SENSOR_MEASUREMENT_3': 1259.23, 'SENSOR_MEASUREMENT_4': 1047.15, 'SENSOR_MEASUREMENT_5': 7.05, 'SENSOR_MEASUREMENT_6': 9.02, 'SENSOR_MEASUREMENT_7': 175.19, 'SENSOR_MEASUREMENT_8': 1915.23, 'SENSOR_MEASUREMENT_9': 8006.68, 'SENSOR_MEASUREMENT_10': 0.94, 'SENSOR_MEASUREMENT_11': 36.6, 'SENSOR_MEASUREMENT_12': 164.9, 'SENSOR_MEASUREMENT_13': 2028.11, 'SENSOR_MEASUREMENT_14': 7871.42, 'SENSOR_MEASUREMENT_15': 10.8687, 'SENSOR_MEASUREMENT_16': 0.02, 'SENSOR_MEASUREMENT_17': 307.0, 'SENSOR_MEASUREMENT_18': 1915.0, 'SENSOR_MEASUREMENT_19': 84.93, 'SENSOR_MEASUREMENT_20': 14.18, 'SENSOR_MEASUREMENT_21': 8.4818}, {'FAULT': 'FD002', 'UNIT_NUMBER': 3, 'TIME_IN_CYCLES': 49, 'SENSOR_MEASUREMENT_1': 462.54, 'SENSOR_MEASUREMENT_2': 536.93, 'SENSOR_MEASUREMENT_3': 1263.82, 'SENSOR_MEASUREMENT_4': 1045.11, 'SENSOR_MEASUREMENT_5': 7.05, 'SENSOR_MEASUREMENT_6': 9.03, 'SENSOR_MEASUREMENT_7': 175.9, 'SENSOR_MEASUREMENT_8': 1915.24, 'SENSOR_MEASUREMENT_9': 8003.11, 'SENSOR_MEASUREMENT_10': 0.94, 'SENSOR_MEASUREMENT_11': 36.64, 'SENSOR_MEASUREMENT_12': 164.12, 'SENSOR_MEASUREMENT_13': 2028.09, 'SENSOR_MEASUREMENT_14': 7864.49, 'SENSOR_MEASUREMENT_15': 10.8986, 'SENSOR_MEASUREMENT_16': 0.02, 'SENSOR_MEASUREMENT_17': 307.0, 'SENSOR_MEASUREMENT_18': 1915.0, 'SENSOR_MEASUREMENT_19': 84.93, 'SENSOR_MEASUREMENT_20': 14.22, 'SENSOR_MEASUREMENT_21': 8.6398}, {'FAULT': 'FD002', 'UNIT_NUMBER': 3, 'TIME_IN_CYCLES': 50, 'SENSOR_MEASUREMENT_1': 491.19, 'SENSOR_MEASUREMENT_2': 607.41, 'SENSOR_MEASUREMENT_3': 1488.7, 'SENSOR_MEASUREMENT_4': 1254.29, 'SENSOR_MEASUREMENT_5': 9.35, 'SENSOR_MEASUREMENT_6': 13.66, 'SENSOR_MEASUREMENT_7': 335.06, 'SENSOR_MEASUREMENT_8': 2323.96, 'SENSOR_MEASUREMENT_9': 8722.64, 'SENSOR_MEASUREMENT_10': 1.08, 'SENSOR_MEASUREMENT_11': 44.47, 'SENSOR_MEASUREMENT_12': 313.93, 'SENSOR_MEASUREMENT_13': 2388.03, 'SENSOR_MEASUREMENT_14': 8053.81, 'SENSOR_MEASUREMENT_15': 9.2006, 'SENSOR_MEASUREMENT_16': 0.02, 'SENSOR_MEASUREMENT_17': 364.0, 'SENSOR_MEASUREMENT_18': 2324.0, 'SENSOR_MEASUREMENT_19': 100.0, 'SENSOR_MEASUREMENT_20': 24.52, 'SENSOR_MEASUREMENT_21': 14.7332}, {'FAULT': 'FD002', 'UNIT_NUMBER': 3, 'TIME_IN_CYCLES': 51, 'SENSOR_MEASUREMENT_1': 445.0, 'SENSOR_MEASUREMENT_2': 549.47, 'SENSOR_MEASUREMENT_3': 1354.27, 'SENSOR_MEASUREMENT_4': 1118.0, 'SENSOR_MEASUREMENT_5': 3.91, 'SENSOR_MEASUREMENT_6': 5.71, 'SENSOR_MEASUREMENT_7': 138.38, 'SENSOR_MEASUREMENT_8': 2211.82, 'SENSOR_MEASUREMENT_9': 8320.07, 'SENSOR_MEASUREMENT_10': 1.02, 'SENSOR_MEASUREMENT_11': 42.06, 'SENSOR_MEASUREMENT_12': 130.61, 'SENSOR_MEASUREMENT_13': 2387.78, 'SENSOR_MEASUREMENT_14': 8072.4, 'SENSOR_MEASUREMENT_15': 9.3535, 'SENSOR_MEASUREMENT_16': 0.02, 'SENSOR_MEASUREMENT_17': 330.0, 'SENSOR_MEASUREMENT_18': 2212.0, 'SENSOR_MEASUREMENT_19': 100.0, 'SENSOR_MEASUREMENT_20': 10.53, 'SENSOR_MEASUREMENT_21': 6.4726}, {'FAULT': 'FD002', 'UNIT_NUMBER': 3, 'TIME_IN_CYCLES': 52, 'SENSOR_MEASUREMENT_1': 445.0, 'SENSOR_MEASUREMENT_2': 549.35, 'SENSOR_MEASUREMENT_3': 1350.46, 'SENSOR_MEASUREMENT_4': 1124.85, 'SENSOR_MEASUREMENT_5': 3.91, 'SENSOR_MEASUREMENT_6': 5.72, 'SENSOR_MEASUREMENT_7': 138.38, 'SENSOR_MEASUREMENT_8': 2211.79, 'SENSOR_MEASUREMENT_9': 8310.62, 'SENSOR_MEASUREMENT_10': 1.02, 'SENSOR_MEASUREMENT_11': 42.09, 'SENSOR_MEASUREMENT_12': 130.88, 'SENSOR_MEASUREMENT_13': 2387.86, 'SENSOR_MEASUREMENT_14': 8074.46, 'SENSOR_MEASUREMENT_15': 9.3645, 'SENSOR_MEASUREMENT_16': 0.02, 'SENSOR_MEASUREMENT_17': 330.0, 'SENSOR_MEASUREMENT_18': 2212.0, 'SENSOR_MEASUREMENT_19': 100.0, 'SENSOR_MEASUREMENT_20': 10.72, 'SENSOR_MEASUREMENT_21': 6.4408}, {'FAULT': 'FD002', 'UNIT_NUMBER': 3, 'TIME_IN_CYCLES': 53, 'SENSOR_MEASUREMENT_1': 445.0, 'SENSOR_MEASUREMENT_2': 549.07, 'SENSOR_MEASUREMENT_3': 1357.74, 'SENSOR_MEASUREMENT_4': 1119.12, 'SENSOR_MEASUREMENT_5': 3.91, 'SENSOR_MEASUREMENT_6': 5.72, 'SENSOR_MEASUREMENT_7': 138.13, 'SENSOR_MEASUREMENT_8': 2211.74, 'SENSOR_MEASUREMENT_9': 8313.09, 'SENSOR_MEASUREMENT_10': 1.02, 'SENSOR_MEASUREMENT_11': 42.14, 'SENSOR_MEASUREMENT_12': 130.4, 'SENSOR_MEASUREMENT_13': 2387.83, 'SENSOR_MEASUREMENT_14': 8071.96, 'SENSOR_MEASUREMENT_15': 9.3669, 'SENSOR_MEASUREMENT_16': 0.02, 'SENSOR_MEASUREMENT_17': 330.0, 'SENSOR_MEASUREMENT_18': 2212.0, 'SENSOR_MEASUREMENT_19': 100.0, 'SENSOR_MEASUREMENT_20': 10.57, 'SENSOR_MEASUREMENT_21': 6.3761}, {'FAULT': 'FD002', 'UNIT_NUMBER': 3, 'TIME_IN_CYCLES': 54, 'SENSOR_MEASUREMENT_1': 518.67, 'SENSOR_MEASUREMENT_2': 641.89, 'SENSOR_MEASUREMENT_3': 1587.7, 'SENSOR_MEASUREMENT_4': 1411.53, 'SENSOR_MEASUREMENT_5': 14.62, 'SENSOR_MEASUREMENT_6': 21.61, 'SENSOR_MEASUREMENT_7': 553.72, 'SENSOR_MEASUREMENT_8': 2388.06, 'SENSOR_MEASUREMENT_9': 9046.38, 'SENSOR_MEASUREMENT_10': 1.3, 'SENSOR_MEASUREMENT_11': 47.34, 'SENSOR_MEASUREMENT_12': 521.79, 'SENSOR_MEASUREMENT_13': 2388.11, 'SENSOR_MEASUREMENT_14': 8137.36, 'SENSOR_MEASUREMENT_15': 8.436, 'SENSOR_MEASUREMENT_16': 0.03, 'SENSOR_MEASUREMENT_17': 392.0, 'SENSOR_MEASUREMENT_18': 2388.0, 'SENSOR_MEASUREMENT_19': 100.0, 'SENSOR_MEASUREMENT_20': 38.92, 'SENSOR_MEASUREMENT_21': 23.2351}, {'FAULT': 'FD002', 'UNIT_NUMBER': 3, 'TIME_IN_CYCLES': 55, 'SENSOR_MEASUREMENT_1': 491.19, 'SENSOR_MEASUREMENT_2': 607.2, 'SENSOR_MEASUREMENT_3': 1485.71, 'SENSOR_MEASUREMENT_4': 1248.65, 'SENSOR_MEASUREMENT_5': 9.35, 'SENSOR_MEASUREMENT_6': 13.66, 'SENSOR_MEASUREMENT_7': 334.56, 'SENSOR_MEASUREMENT_8': 2323.97, 'SENSOR_MEASUREMENT_9': 8717.37, 'SENSOR_MEASUREMENT_10': 1.08, 'SENSOR_MEASUREMENT_11': 44.44, 'SENSOR_MEASUREMENT_12': 315.07, 'SENSOR_MEASUREMENT_13': 2388.1, 'SENSOR_MEASUREMENT_14': 8051.13, 'SENSOR_MEASUREMENT_15': 9.2195, 'SENSOR_MEASUREMENT_16': 0.02, 'SENSOR_MEASUREMENT_17': 365.0, 'SENSOR_MEASUREMENT_18': 2324.0, 'SENSOR_MEASUREMENT_19': 100.0, 'SENSOR_MEASUREMENT_20': 24.4, 'SENSOR_MEASUREMENT_21': 14.6305}, {'FAULT': 'FD002', 'UNIT_NUMBER': 3, 'TIME_IN_CYCLES': 56, 'SENSOR_MEASUREMENT_1': 445.0, 'SENSOR_MEASUREMENT_2': 549.58, 'SENSOR_MEASUREMENT_3': 1353.62, 'SENSOR_MEASUREMENT_4': 1128.51, 'SENSOR_MEASUREMENT_5': 3.91, 'SENSOR_MEASUREMENT_6': 5.71, 'SENSOR_MEASUREMENT_7': 138.92, 'SENSOR_MEASUREMENT_8': 2211.81, 'SENSOR_MEASUREMENT_9': 8322.76, 'SENSOR_MEASUREMENT_10': 1.02, 'SENSOR_MEASUREMENT_11': 42.17, 'SENSOR_MEASUREMENT_12': 130.45, 'SENSOR_MEASUREMENT_13': 2387.84, 'SENSOR_MEASUREMENT_14': 8083.89, 'SENSOR_MEASUREMENT_15': 9.387, 'SENSOR_MEASUREMENT_16': 0.02, 'SENSOR_MEASUREMENT_17': 331.0, 'SENSOR_MEASUREMENT_18': 2212.0, 'SENSOR_MEASUREMENT_19': 100.0, 'SENSOR_MEASUREMENT_20': 10.66, 'SENSOR_MEASUREMENT_21': 6.2673}, {'FAULT': 'FD002', 'UNIT_NUMBER': 3, 'TIME_IN_CYCLES': 57, 'SENSOR_MEASUREMENT_1': 445.0, 'SENSOR_MEASUREMENT_2': 549.9, 'SENSOR_MEASUREMENT_3': 1359.7, 'SENSOR_MEASUREMENT_4': 1122.65, 'SENSOR_MEASUREMENT_5': 3.91, 'SENSOR_MEASUREMENT_6': 5.71, 'SENSOR_MEASUREMENT_7': 138.19, 'SENSOR_MEASUREMENT_8': 2211.75, 'SENSOR_MEASUREMENT_9': 8310.64, 'SENSOR_MEASUREMENT_10': 1.02, 'SENSOR_MEASUREMENT_11': 42.1, 'SENSOR_MEASUREMENT_12': 130.99, 'SENSOR_MEASUREMENT_13': 2387.81, 'SENSOR_MEASUREMENT_14': 8073.63, 'SENSOR_MEASUREMENT_15': 9.3586, 'SENSOR_MEASUREMENT_16': 0.02, 'SENSOR_MEASUREMENT_17': 330.0, 'SENSOR_MEASUREMENT_18': 2212.0, 'SENSOR_MEASUREMENT_19': 100.0, 'SENSOR_MEASUREMENT_20': 10.54, 'SENSOR_MEASUREMENT_21': 6.3236}, {'FAULT': 'FD002', 'UNIT_NUMBER': 3, 'TIME_IN_CYCLES': 58, 'SENSOR_MEASUREMENT_1': 491.19, 'SENSOR_MEASUREMENT_2': 607.44, 'SENSOR_MEASUREMENT_3': 1481.45, 'SENSOR_MEASUREMENT_4': 1248.99, 'SENSOR_MEASUREMENT_5': 9.35, 'SENSOR_MEASUREMENT_6': 13.66, 'SENSOR_MEASUREMENT_7': 334.93, 'SENSOR_MEASUREMENT_8': 2323.9, 'SENSOR_MEASUREMENT_9': 8716.16, 'SENSOR_MEASUREMENT_10': 1.08, 'SENSOR_MEASUREMENT_11': 44.44, 'SENSOR_MEASUREMENT_12': 315.4, 'SENSOR_MEASUREMENT_13': 2388.04, 'SENSOR_MEASUREMENT_14': 8055.87, 'SENSOR_MEASUREMENT_15': 9.2198, 'SENSOR_MEASUREMENT_16': 0.02, 'SENSOR_MEASUREMENT_17': 365.0, 'SENSOR_MEASUREMENT_18': 2324.0, 'SENSOR_MEASUREMENT_19': 100.0, 'SENSOR_MEASUREMENT_20': 24.43, 'SENSOR_MEASUREMENT_21': 14.7665}, {'FAULT': 'FD002', 'UNIT_NUMBER': 3, 'TIME_IN_CYCLES': 59, 'SENSOR_MEASUREMENT_1': 489.05, 'SENSOR_MEASUREMENT_2': 604.4, 'SENSOR_MEASUREMENT_3': 1498.92, 'SENSOR_MEASUREMENT_4': 1308.77, 'SENSOR_MEASUREMENT_5': 10.52, 'SENSOR_MEASUREMENT_6': 15.49, 'SENSOR_MEASUREMENT_7': 394.47, 'SENSOR_MEASUREMENT_8': 2318.95, 'SENSOR_MEASUREMENT_9': 8770.24, 'SENSOR_MEASUREMENT_10': 1.26, 'SENSOR_MEASUREMENT_11': 45.39, 'SENSOR_MEASUREMENT_12': 372.02, 'SENSOR_MEASUREMENT_13': 2388.12, 'SENSOR_MEASUREMENT_14': 8123.39, 'SENSOR_MEASUREMENT_15': 8.6432, 'SENSOR_MEASUREMENT_16': 0.03, 'SENSOR_MEASUREMENT_17': 369.0, 'SENSOR_MEASUREMENT_18': 2319.0, 'SENSOR_MEASUREMENT_19': 100.0, 'SENSOR_MEASUREMENT_20': 28.67, 'SENSOR_MEASUREMENT_21': 17.1473}, {'FAULT': 'FD002', 'UNIT_NUMBER': 3, 'TIME_IN_CYCLES': 60, 'SENSOR_MEASUREMENT_1': 462.54, 'SENSOR_MEASUREMENT_2': 537.03, 'SENSOR_MEASUREMENT_3': 1262.74, 'SENSOR_MEASUREMENT_4': 1037.08, 'SENSOR_MEASUREMENT_5': 7.05, 'SENSOR_MEASUREMENT_6': 9.03, 'SENSOR_MEASUREMENT_7': 175.51, 'SENSOR_MEASUREMENT_8': 1915.26, 'SENSOR_MEASUREMENT_9': 8006.23, 'SENSOR_MEASUREMENT_10': 0.94, 'SENSOR_MEASUREMENT_11': 36.8, 'SENSOR_MEASUREMENT_12': 164.52, 'SENSOR_MEASUREMENT_13': 2028.13, 'SENSOR_MEASUREMENT_14': 7874.33, 'SENSOR_MEASUREMENT_15': 10.8912, 'SENSOR_MEASUREMENT_16': 0.02, 'SENSOR_MEASUREMENT_17': 306.0, 'SENSOR_MEASUREMENT_18': 1915.0, 'SENSOR_MEASUREMENT_19': 84.93, 'SENSOR_MEASUREMENT_20': 14.32, 'SENSOR_MEASUREMENT_21': 8.5458}, {'FAULT': 'FD002', 'UNIT_NUMBER': 3, 'TIME_IN_CYCLES': 61, 'SENSOR_MEASUREMENT_1': 518.67, 'SENSOR_MEASUREMENT_2': 643.01, 'SENSOR_MEASUREMENT_3': 1585.63, 'SENSOR_MEASUREMENT_4': 1404.67, 'SENSOR_MEASUREMENT_5': 14.62, 'SENSOR_MEASUREMENT_6': 21.61, 'SENSOR_MEASUREMENT_7': 554.17, 'SENSOR_MEASUREMENT_8': 2388.12, 'SENSOR_MEASUREMENT_9': 9043.4, 'SENSOR_MEASUREMENT_10': 1.3, 'SENSOR_MEASUREMENT_11': 47.63, 'SENSOR_MEASUREMENT_12': 521.24, 'SENSOR_MEASUREMENT_13': 2388.09, 'SENSOR_MEASUREMENT_14': 8129.25, 'SENSOR_MEASUREMENT_15': 8.4419, 'SENSOR_MEASUREMENT_16': 0.03, 'SENSOR_MEASUREMENT_17': 392.0, 'SENSOR_MEASUREMENT_18': 2388.0, 'SENSOR_MEASUREMENT_19': 100.0, 'SENSOR_MEASUREMENT_20': 38.76, 'SENSOR_MEASUREMENT_21': 23.3902}, {'FAULT': 'FD002', 'UNIT_NUMBER': 3, 'TIME_IN_CYCLES': 62, 'SENSOR_MEASUREMENT_1': 445.0, 'SENSOR_MEASUREMENT_2': 549.64, 'SENSOR_MEASUREMENT_3': 1352.83, 'SENSOR_MEASUREMENT_4': 1125.38, 'SENSOR_MEASUREMENT_5': 3.91, 'SENSOR_MEASUREMENT_6': 5.71, 'SENSOR_MEASUREMENT_7': 138.61, 'SENSOR_MEASUREMENT_8': 2211.7, 'SENSOR_MEASUREMENT_9': 8313.28, 'SENSOR_MEASUREMENT_10': 1.02, 'SENSOR_MEASUREMENT_11': 41.79, 'SENSOR_MEASUREMENT_12': 130.34, 'SENSOR_MEASUREMENT_13': 2387.76, 'SENSOR_MEASUREMENT_14': 8066.93, 'SENSOR_MEASUREMENT_15': 9.3785, 'SENSOR_MEASUREMENT_16': 0.02, 'SENSOR_MEASUREMENT_17': 331.0, 'SENSOR_MEASUREMENT_18': 2212.0, 'SENSOR_MEASUREMENT_19': 100.0, 'SENSOR_MEASUREMENT_20': 10.65, 'SENSOR_MEASUREMENT_21': 6.3393}, {'FAULT': 'FD002', 'UNIT_NUMBER': 3, 'TIME_IN_CYCLES': 63, 'SENSOR_MEASUREMENT_1': 445.0, 'SENSOR_MEASUREMENT_2': 549.42, 'SENSOR_MEASUREMENT_3': 1353.42, 'SENSOR_MEASUREMENT_4': 1125.68, 'SENSOR_MEASUREMENT_5': 3.91, 'SENSOR_MEASUREMENT_6': 5.72, 'SENSOR_MEASUREMENT_7': 138.31, 'SENSOR_MEASUREMENT_8': 2211.73, 'SENSOR_MEASUREMENT_9': 8314.49, 'SENSOR_MEASUREMENT_10': 1.02, 'SENSOR_MEASUREMENT_11': 42.22, 'SENSOR_MEASUREMENT_12': 130.71, 'SENSOR_MEASUREMENT_13': 2387.74, 'SENSOR_MEASUREMENT_14': 8074.91, 'SENSOR_MEASUREMENT_15': 9.3874, 'SENSOR_MEASUREMENT_16': 0.02, 'SENSOR_MEASUREMENT_17': 329.0, 'SENSOR_MEASUREMENT_18': 2212.0, 'SENSOR_MEASUREMENT_19': 100.0, 'SENSOR_MEASUREMENT_20': 10.9, 'SENSOR_MEASUREMENT_21': 6.358}, {'FAULT': 'FD002', 'UNIT_NUMBER': 3, 'TIME_IN_CYCLES': 64, 'SENSOR_MEASUREMENT_1': 449.44, 'SENSOR_MEASUREMENT_2': 555.61, 'SENSOR_MEASUREMENT_3': 1364.42, 'SENSOR_MEASUREMENT_4': 1129.12, 'SENSOR_MEASUREMENT_5': 5.48, 'SENSOR_MEASUREMENT_6': 8.0, 'SENSOR_MEASUREMENT_7': 194.64, 'SENSOR_MEASUREMENT_8': 2222.77, 'SENSOR_MEASUREMENT_9': 8341.76, 'SENSOR_MEASUREMENT_10': 1.02, 'SENSOR_MEASUREMENT_11': 41.99, 'SENSOR_MEASUREMENT_12': 183.05, 'SENSOR_MEASUREMENT_13': 2387.89, 'SENSOR_MEASUREMENT_14': 8056.5, 'SENSOR_MEASUREMENT_15': 9.3308, 'SENSOR_MEASUREMENT_16': 0.02, 'SENSOR_MEASUREMENT_17': 333.0, 'SENSOR_MEASUREMENT_18': 2223.0, 'SENSOR_MEASUREMENT_19': 100.0, 'SENSOR_MEASUREMENT_20': 14.99, 'SENSOR_MEASUREMENT_21': 8.938}, {'FAULT': 'FD002', 'UNIT_NUMBER': 3, 'TIME_IN_CYCLES': 65, 'SENSOR_MEASUREMENT_1': 518.67, 'SENSOR_MEASUREMENT_2': 642.34, 'SENSOR_MEASUREMENT_3': 1589.03, 'SENSOR_MEASUREMENT_4': 1403.37, 'SENSOR_MEASUREMENT_5': 14.62, 'SENSOR_MEASUREMENT_6': 21.61, 'SENSOR_MEASUREMENT_7': 554.14, 'SENSOR_MEASUREMENT_8': 2388.17, 'SENSOR_MEASUREMENT_9': 9050.15, 'SENSOR_MEASUREMENT_10': 1.3, 'SENSOR_MEASUREMENT_11': 47.44, 'SENSOR_MEASUREMENT_12': 521.83, 'SENSOR_MEASUREMENT_13': 2388.12, 'SENSOR_MEASUREMENT_14': 8124.8, 'SENSOR_MEASUREMENT_15': 8.4278, 'SENSOR_MEASUREMENT_16': 0.03, 'SENSOR_MEASUREMENT_17': 394.0, 'SENSOR_MEASUREMENT_18': 2388.0, 'SENSOR_MEASUREMENT_19': 100.0, 'SENSOR_MEASUREMENT_20': 39.05, 'SENSOR_MEASUREMENT_21': 23.4011}, {'FAULT': 'FD002', 'UNIT_NUMBER': 3, 'TIME_IN_CYCLES': 66, 'SENSOR_MEASUREMENT_1': 489.05, 'SENSOR_MEASUREMENT_2': 604.36, 'SENSOR_MEASUREMENT_3': 1503.63, 'SENSOR_MEASUREMENT_4': 1308.53, 'SENSOR_MEASUREMENT_5': 10.52, 'SENSOR_MEASUREMENT_6': 15.49, 'SENSOR_MEASUREMENT_7': 393.87, 'SENSOR_MEASUREMENT_8': 2318.91, 'SENSOR_MEASUREMENT_9': 8766.05, 'SENSOR_MEASUREMENT_10': 1.26, 'SENSOR_MEASUREMENT_11': 45.41, 'SENSOR_MEASUREMENT_12': 371.48, 'SENSOR_MEASUREMENT_13': 2388.12, 'SENSOR_MEASUREMENT_14': 8125.19, 'SENSOR_MEASUREMENT_15': 8.6681, 'SENSOR_MEASUREMENT_16': 0.03, 'SENSOR_MEASUREMENT_17': 368.0, 'SENSOR_MEASUREMENT_18': 2319.0, 'SENSOR_MEASUREMENT_19': 100.0, 'SENSOR_MEASUREMENT_20': 28.41, 'SENSOR_MEASUREMENT_21': 17.1397}, {'FAULT': 'FD002', 'UNIT_NUMBER': 3, 'TIME_IN_CYCLES': 67, 'SENSOR_MEASUREMENT_1': 445.0, 'SENSOR_MEASUREMENT_2': 549.8, 'SENSOR_MEASUREMENT_3': 1342.93, 'SENSOR_MEASUREMENT_4': 1129.12, 'SENSOR_MEASUREMENT_5': 3.91, 'SENSOR_MEASUREMENT_6': 5.72, 'SENSOR_MEASUREMENT_7': 138.34, 'SENSOR_MEASUREMENT_8': 2211.72, 'SENSOR_MEASUREMENT_9': 8308.55, 'SENSOR_MEASUREMENT_10': 1.02, 'SENSOR_MEASUREMENT_11': 41.89, 'SENSOR_MEASUREMENT_12': 130.23, 'SENSOR_MEASUREMENT_13': 2387.87, 'SENSOR_MEASUREMENT_14': 8080.47, 'SENSOR_MEASUREMENT_15': 9.3508, 'SENSOR_MEASUREMENT_16': 0.02, 'SENSOR_MEASUREMENT_17': 330.0, 'SENSOR_MEASUREMENT_18': 2212.0, 'SENSOR_MEASUREMENT_19': 100.0, 'SENSOR_MEASUREMENT_20': 10.63, 'SENSOR_MEASUREMENT_21': 6.27}, {'FAULT': 'FD002', 'UNIT_NUMBER': 3, 'TIME_IN_CYCLES': 68, 'SENSOR_MEASUREMENT_1': 518.67, 'SENSOR_MEASUREMENT_2': 642.34, 'SENSOR_MEASUREMENT_3': 1585.33, 'SENSOR_MEASUREMENT_4': 1406.39, 'SENSOR_MEASUREMENT_5': 14.62, 'SENSOR_MEASUREMENT_6': 21.61, 'SENSOR_MEASUREMENT_7': 553.78, 'SENSOR_MEASUREMENT_8': 2388.11, 'SENSOR_MEASUREMENT_9': 9048.18, 'SENSOR_MEASUREMENT_10': 1.3, 'SENSOR_MEASUREMENT_11': 47.44, 'SENSOR_MEASUREMENT_12': 521.97, 'SENSOR_MEASUREMENT_13': 2388.1, 'SENSOR_MEASUREMENT_14': 8133.21, 'SENSOR_MEASUREMENT_15': 8.4192, 'SENSOR_MEASUREMENT_16': 0.03, 'SENSOR_MEASUREMENT_17': 392.0, 'SENSOR_MEASUREMENT_18': 2388.0, 'SENSOR_MEASUREMENT_19': 100.0, 'SENSOR_MEASUREMENT_20': 38.75, 'SENSOR_MEASUREMENT_21': 23.4011}, {'FAULT': 'FD002', 'UNIT_NUMBER': 3, 'TIME_IN_CYCLES': 69, 'SENSOR_MEASUREMENT_1': 518.67, 'SENSOR_MEASUREMENT_2': 642.29, 'SENSOR_MEASUREMENT_3': 1581.98, 'SENSOR_MEASUREMENT_4': 1408.13, 'SENSOR_MEASUREMENT_5': 14.62, 'SENSOR_MEASUREMENT_6': 21.61, 'SENSOR_MEASUREMENT_7': 553.13, 'SENSOR_MEASUREMENT_8': 2388.1, 'SENSOR_MEASUREMENT_9': 9050.73, 'SENSOR_MEASUREMENT_10': 1.3, 'SENSOR_MEASUREMENT_11': 47.3, 'SENSOR_MEASUREMENT_12': 521.86, 'SENSOR_MEASUREMENT_13': 2388.05, 'SENSOR_MEASUREMENT_14': 8131.95, 'SENSOR_MEASUREMENT_15': 8.4399, 'SENSOR_MEASUREMENT_16': 0.03, 'SENSOR_MEASUREMENT_17': 394.0, 'SENSOR_MEASUREMENT_18': 2388.0, 'SENSOR_MEASUREMENT_19': 100.0, 'SENSOR_MEASUREMENT_20': 38.91, 'SENSOR_MEASUREMENT_21': 23.3191}, {'FAULT': 'FD002', 'UNIT_NUMBER': 3, 'TIME_IN_CYCLES': 70, 'SENSOR_MEASUREMENT_1': 518.67, 'SENSOR_MEASUREMENT_2': 642.25, 'SENSOR_MEASUREMENT_3': 1588.36, 'SENSOR_MEASUREMENT_4': 1404.23, 'SENSOR_MEASUREMENT_5': 14.62, 'SENSOR_MEASUREMENT_6': 21.61, 'SENSOR_MEASUREMENT_7': 553.49, 'SENSOR_MEASUREMENT_8': 2388.12, 'SENSOR_MEASUREMENT_9': 9050.21, 'SENSOR_MEASUREMENT_10': 1.3, 'SENSOR_MEASUREMENT_11': 47.28, 'SENSOR_MEASUREMENT_12': 521.89, 'SENSOR_MEASUREMENT_13': 2388.06, 'SENSOR_MEASUREMENT_14': 8129.59, 'SENSOR_MEASUREMENT_15': 8.4475, 'SENSOR_MEASUREMENT_16': 0.03, 'SENSOR_MEASUREMENT_17': 392.0, 'SENSOR_MEASUREMENT_18': 2388.0, 'SENSOR_MEASUREMENT_19': 100.0, 'SENSOR_MEASUREMENT_20': 38.93, 'SENSOR_MEASUREMENT_21': 23.1983}, {'FAULT': 'FD002', 'UNIT_NUMBER': 3, 'TIME_IN_CYCLES': 71, 'SENSOR_MEASUREMENT_1': 445.0, 'SENSOR_MEASUREMENT_2': 549.67, 'SENSOR_MEASUREMENT_3': 1360.97, 'SENSOR_MEASUREMENT_4': 1124.05, 'SENSOR_MEASUREMENT_5': 3.91, 'SENSOR_MEASUREMENT_6': 5.71, 'SENSOR_MEASUREMENT_7': 139.06, 'SENSOR_MEASUREMENT_8': 2211.74, 'SENSOR_MEASUREMENT_9': 8313.78, 'SENSOR_MEASUREMENT_10': 1.02, 'SENSOR_MEASUREMENT_11': 41.87, 'SENSOR_MEASUREMENT_12': 130.77, 'SENSOR_MEASUREMENT_13': 2387.83, 'SENSOR_MEASUREMENT_14': 8077.15, 'SENSOR_MEASUREMENT_15': 9.2978, 'SENSOR_MEASUREMENT_16': 0.02, 'SENSOR_MEASUREMENT_17': 331.0, 'SENSOR_MEASUREMENT_18': 2212.0, 'SENSOR_MEASUREMENT_19': 100.0, 'SENSOR_MEASUREMENT_20': 10.44, 'SENSOR_MEASUREMENT_21': 6.3695}, {'FAULT': 'FD002', 'UNIT_NUMBER': 3, 'TIME_IN_CYCLES': 72, 'SENSOR_MEASUREMENT_1': 449.44, 'SENSOR_MEASUREMENT_2': 555.98, 'SENSOR_MEASUREMENT_3': 1366.53, 'SENSOR_MEASUREMENT_4': 1123.84, 'SENSOR_MEASUREMENT_5': 5.48, 'SENSOR_MEASUREMENT_6': 8.0, 'SENSOR_MEASUREMENT_7': 194.29, 'SENSOR_MEASUREMENT_8': 2222.87, 'SENSOR_MEASUREMENT_9': 8339.15, 'SENSOR_MEASUREMENT_10': 1.02, 'SENSOR_MEASUREMENT_11': 41.9, 'SENSOR_MEASUREMENT_12': 183.53, 'SENSOR_MEASUREMENT_13': 2387.84, 'SENSOR_MEASUREMENT_14': 8054.43, 'SENSOR_MEASUREMENT_15': 9.302, 'SENSOR_MEASUREMENT_16': 0.02, 'SENSOR_MEASUREMENT_17': 336.0, 'SENSOR_MEASUREMENT_18': 2223.0, 'SENSOR_MEASUREMENT_19': 100.0, 'SENSOR_MEASUREMENT_20': 14.82, 'SENSOR_MEASUREMENT_21': 8.9494}, {'FAULT': 'FD002', 'UNIT_NUMBER': 3, 'TIME_IN_CYCLES': 73, 'SENSOR_MEASUREMENT_1': 462.54, 'SENSOR_MEASUREMENT_2': 536.68, 'SENSOR_MEASUREMENT_3': 1258.38, 'SENSOR_MEASUREMENT_4': 1042.37, 'SENSOR_MEASUREMENT_5': 7.05, 'SENSOR_MEASUREMENT_6': 9.02, 'SENSOR_MEASUREMENT_7': 175.46, 'SENSOR_MEASUREMENT_8': 1915.23, 'SENSOR_MEASUREMENT_9': 8005.97, 'SENSOR_MEASUREMENT_10': 0.94, 'SENSOR_MEASUREMENT_11': 36.59, 'SENSOR_MEASUREMENT_12': 164.71, 'SENSOR_MEASUREMENT_13': 2028.11, 'SENSOR_MEASUREMENT_14': 7867.71, 'SENSOR_MEASUREMENT_15': 10.8884, 'SENSOR_MEASUREMENT_16': 0.02, 'SENSOR_MEASUREMENT_17': 307.0, 'SENSOR_MEASUREMENT_18': 1915.0, 'SENSOR_MEASUREMENT_19': 84.93, 'SENSOR_MEASUREMENT_20': 14.33, 'SENSOR_MEASUREMENT_21': 8.6082}, {'FAULT': 'FD002', 'UNIT_NUMBER': 3, 'TIME_IN_CYCLES': 74, 'SENSOR_MEASUREMENT_1': 491.19, 'SENSOR_MEASUREMENT_2': 607.63, 'SENSOR_MEASUREMENT_3': 1482.38, 'SENSOR_MEASUREMENT_4': 1246.87, 'SENSOR_MEASUREMENT_5': 9.35, 'SENSOR_MEASUREMENT_6': 13.65, 'SENSOR_MEASUREMENT_7': 334.75, 'SENSOR_MEASUREMENT_8': 2323.95, 'SENSOR_MEASUREMENT_9': 8713.89, 'SENSOR_MEASUREMENT_10': 1.08, 'SENSOR_MEASUREMENT_11': 44.39, 'SENSOR_MEASUREMENT_12': 314.93, 'SENSOR_MEASUREMENT_13': 2388.06, 'SENSOR_MEASUREMENT_14': 8056.56, 'SENSOR_MEASUREMENT_15': 9.2508, 'SENSOR_MEASUREMENT_16': 0.02, 'SENSOR_MEASUREMENT_17': 366.0, 'SENSOR_MEASUREMENT_18': 2324.0, 'SENSOR_MEASUREMENT_19': 100.0, 'SENSOR_MEASUREMENT_20': 24.33, 'SENSOR_MEASUREMENT_21': 14.7726}, {'FAULT': 'FD002', 'UNIT_NUMBER': 3, 'TIME_IN_CYCLES': 75, 'SENSOR_MEASUREMENT_1': 489.05, 'SENSOR_MEASUREMENT_2': 604.63, 'SENSOR_MEASUREMENT_3': 1503.14, 'SENSOR_MEASUREMENT_4': 1310.5, 'SENSOR_MEASUREMENT_5': 10.52, 'SENSOR_MEASUREMENT_6': 15.49, 'SENSOR_MEASUREMENT_7': 394.69, 'SENSOR_MEASUREMENT_8': 2318.96, 'SENSOR_MEASUREMENT_9': 8770.14, 'SENSOR_MEASUREMENT_10': 1.26, 'SENSOR_MEASUREMENT_11': 45.28, 'SENSOR_MEASUREMENT_12': 371.51, 'SENSOR_MEASUREMENT_13': 2388.18, 'SENSOR_MEASUREMENT_14': 8120.18, 'SENSOR_MEASUREMENT_15': 8.6447, 'SENSOR_MEASUREMENT_16': 0.03, 'SENSOR_MEASUREMENT_17': 369.0, 'SENSOR_MEASUREMENT_18': 2319.0, 'SENSOR_MEASUREMENT_19': 100.0, 'SENSOR_MEASUREMENT_20': 28.66, 'SENSOR_MEASUREMENT_21': 17.1226}, {'FAULT': 'FD002', 'UNIT_NUMBER': 3, 'TIME_IN_CYCLES': 76, 'SENSOR_MEASUREMENT_1': 462.54, 'SENSOR_MEASUREMENT_2': 536.79, 'SENSOR_MEASUREMENT_3': 1259.81, 'SENSOR_MEASUREMENT_4': 1051.5, 'SENSOR_MEASUREMENT_5': 7.05, 'SENSOR_MEASUREMENT_6': 9.02, 'SENSOR_MEASUREMENT_7': 174.53, 'SENSOR_MEASUREMENT_8': 1915.18, 'SENSOR_MEASUREMENT_9': 8003.17, 'SENSOR_MEASUREMENT_10': 0.94, 'SENSOR_MEASUREMENT_11': 36.77, 'SENSOR_MEASUREMENT_12': 164.22, 'SENSOR_MEASUREMENT_13': 2028.09, 'SENSOR_MEASUREMENT_14': 7869.91, 'SENSOR_MEASUREMENT_15': 10.9337, 'SENSOR_MEASUREMENT_16': 0.02, 'SENSOR_MEASUREMENT_17': 306.0, 'SENSOR_MEASUREMENT_18': 1915.0, 'SENSOR_MEASUREMENT_19': 84.93, 'SENSOR_MEASUREMENT_20': 14.48, 'SENSOR_MEASUREMENT_21': 8.4771}, {'FAULT': 'FD002', 'UNIT_NUMBER': 3, 'TIME_IN_CYCLES': 77, 'SENSOR_MEASUREMENT_1': 449.44, 'SENSOR_MEASUREMENT_2': 555.32, 'SENSOR_MEASUREMENT_3': 1359.45, 'SENSOR_MEASUREMENT_4': 1128.09, 'SENSOR_MEASUREMENT_5': 5.48, 'SENSOR_MEASUREMENT_6': 8.0, 'SENSOR_MEASUREMENT_7': 194.58, 'SENSOR_MEASUREMENT_8': 2222.86, 'SENSOR_MEASUREMENT_9': 8347.8, 'SENSOR_MEASUREMENT_10': 1.02, 'SENSOR_MEASUREMENT_11': 41.88, 'SENSOR_MEASUREMENT_12': 183.39, 'SENSOR_MEASUREMENT_13': 2387.84, 'SENSOR_MEASUREMENT_14': 8063.62, 'SENSOR_MEASUREMENT_15': 9.37, 'SENSOR_MEASUREMENT_16': 0.02, 'SENSOR_MEASUREMENT_17': 333.0, 'SENSOR_MEASUREMENT_18': 2223.0, 'SENSOR_MEASUREMENT_19': 100.0, 'SENSOR_MEASUREMENT_20': 14.8, 'SENSOR_MEASUREMENT_21': 8.8909}, {'FAULT': 'FD002', 'UNIT_NUMBER': 3, 'TIME_IN_CYCLES': 78, 'SENSOR_MEASUREMENT_1': 449.44, 'SENSOR_MEASUREMENT_2': 555.44, 'SENSOR_MEASUREMENT_3': 1367.19, 'SENSOR_MEASUREMENT_4': 1135.37, 'SENSOR_MEASUREMENT_5': 5.48, 'SENSOR_MEASUREMENT_6': 8.0, 'SENSOR_MEASUREMENT_7': 194.53, 'SENSOR_MEASUREMENT_8': 2222.85, 'SENSOR_MEASUREMENT_9': 8344.09, 'SENSOR_MEASUREMENT_10': 1.02, 'SENSOR_MEASUREMENT_11': 41.79, 'SENSOR_MEASUREMENT_12': 183.31, 'SENSOR_MEASUREMENT_13': 2387.96, 'SENSOR_MEASUREMENT_14': 8060.61, 'SENSOR_MEASUREMENT_15': 9.3202, 'SENSOR_MEASUREMENT_16': 0.02, 'SENSOR_MEASUREMENT_17': 334.0, 'SENSOR_MEASUREMENT_18': 2223.0, 'SENSOR_MEASUREMENT_19': 100.0, 'SENSOR_MEASUREMENT_20': 14.83, 'SENSOR_MEASUREMENT_21': 8.9414}, {'FAULT': 'FD002', 'UNIT_NUMBER': 3, 'TIME_IN_CYCLES': 79, 'SENSOR_MEASUREMENT_1': 449.44, 'SENSOR_MEASUREMENT_2': 555.64, 'SENSOR_MEASUREMENT_3': 1365.42, 'SENSOR_MEASUREMENT_4': 1127.94, 'SENSOR_MEASUREMENT_5': 5.48, 'SENSOR_MEASUREMENT_6': 8.0, 'SENSOR_MEASUREMENT_7': 194.06, 'SENSOR_MEASUREMENT_8': 2222.77, 'SENSOR_MEASUREMENT_9': 8330.61, 'SENSOR_MEASUREMENT_10': 1.02, 'SENSOR_MEASUREMENT_11': 41.98, 'SENSOR_MEASUREMENT_12': 183.23, 'SENSOR_MEASUREMENT_13': 2387.88, 'SENSOR_MEASUREMENT_14': 8059.82, 'SENSOR_MEASUREMENT_15': 9.3233, 'SENSOR_MEASUREMENT_16': 0.02, 'SENSOR_MEASUREMENT_17': 332.0, 'SENSOR_MEASUREMENT_18': 2223.0, 'SENSOR_MEASUREMENT_19': 100.0, 'SENSOR_MEASUREMENT_20': 14.96, 'SENSOR_MEASUREMENT_21': 8.8635}, {'FAULT': 'FD002', 'UNIT_NUMBER': 3, 'TIME_IN_CYCLES': 80, 'SENSOR_MEASUREMENT_1': 445.0, 'SENSOR_MEASUREMENT_2': 549.05, 'SENSOR_MEASUREMENT_3': 1356.53, 'SENSOR_MEASUREMENT_4': 1124.44, 'SENSOR_MEASUREMENT_5': 3.91, 'SENSOR_MEASUREMENT_6': 5.71, 'SENSOR_MEASUREMENT_7': 138.51, 'SENSOR_MEASUREMENT_8': 2211.81, 'SENSOR_MEASUREMENT_9': 8315.35, 'SENSOR_MEASUREMENT_10': 1.02, 'SENSOR_MEASUREMENT_11': 41.89, 'SENSOR_MEASUREMENT_12': 130.57, 'SENSOR_MEASUREMENT_13': 2387.87, 'SENSOR_MEASUREMENT_14': 8079.61, 'SENSOR_MEASUREMENT_15': 9.3749, 'SENSOR_MEASUREMENT_16': 0.02, 'SENSOR_MEASUREMENT_17': 332.0, 'SENSOR_MEASUREMENT_18': 2212.0, 'SENSOR_MEASUREMENT_19': 100.0, 'SENSOR_MEASUREMENT_20': 10.65, 'SENSOR_MEASUREMENT_21': 6.4262}, {'FAULT': 'FD002', 'UNIT_NUMBER': 3, 'TIME_IN_CYCLES': 81, 'SENSOR_MEASUREMENT_1': 518.67, 'SENSOR_MEASUREMENT_2': 642.44, 'SENSOR_MEASUREMENT_3': 1587.63, 'SENSOR_MEASUREMENT_4': 1408.06, 'SENSOR_MEASUREMENT_5': 14.62, 'SENSOR_MEASUREMENT_6': 21.61, 'SENSOR_MEASUREMENT_7': 553.47, 'SENSOR_MEASUREMENT_8': 2388.1, 'SENSOR_MEASUREMENT_9': 9053.97, 'SENSOR_MEASUREMENT_10': 1.3, 'SENSOR_MEASUREMENT_11': 47.24, 'SENSOR_MEASUREMENT_12': 521.68, 'SENSOR_MEASUREMENT_13': 2388.06, 'SENSOR_MEASUREMENT_14': 8126.51, 'SENSOR_MEASUREMENT_15': 8.4278, 'SENSOR_MEASUREMENT_16': 0.03, 'SENSOR_MEASUREMENT_17': 394.0, 'SENSOR_MEASUREMENT_18': 2388.0, 'SENSOR_MEASUREMENT_19': 100.0, 'SENSOR_MEASUREMENT_20': 38.97, 'SENSOR_MEASUREMENT_21': 23.3903}, {'FAULT': 'FD002', 'UNIT_NUMBER': 3, 'TIME_IN_CYCLES': 82, 'SENSOR_MEASUREMENT_1': 449.44, 'SENSOR_MEASUREMENT_2': 555.31, 'SENSOR_MEASUREMENT_3': 1362.1, 'SENSOR_MEASUREMENT_4': 1140.97, 'SENSOR_MEASUREMENT_5': 5.48, 'SENSOR_MEASUREMENT_6': 8.0, 'SENSOR_MEASUREMENT_7': 194.94, 'SENSOR_MEASUREMENT_8': 2222.78, 'SENSOR_MEASUREMENT_9': 8347.45, 'SENSOR_MEASUREMENT_10': 1.02, 'SENSOR_MEASUREMENT_11': 41.87, 'SENSOR_MEASUREMENT_12': 183.57, 'SENSOR_MEASUREMENT_13': 2387.88, 'SENSOR_MEASUREMENT_14': 8062.22, 'SENSOR_MEASUREMENT_15': 9.3148, 'SENSOR_MEASUREMENT_16': 0.02, 'SENSOR_MEASUREMENT_17': 333.0, 'SENSOR_MEASUREMENT_18': 2223.0, 'SENSOR_MEASUREMENT_19': 100.0, 'SENSOR_MEASUREMENT_20': 14.84, 'SENSOR_MEASUREMENT_21': 8.8389}, {'FAULT': 'FD002', 'UNIT_NUMBER': 3, 'TIME_IN_CYCLES': 83, 'SENSOR_MEASUREMENT_1': 449.44, 'SENSOR_MEASUREMENT_2': 555.52, 'SENSOR_MEASUREMENT_3': 1358.24, 'SENSOR_MEASUREMENT_4': 1125.54, 'SENSOR_MEASUREMENT_5': 5.48, 'SENSOR_MEASUREMENT_6': 8.0, 'SENSOR_MEASUREMENT_7': 194.76, 'SENSOR_MEASUREMENT_8': 2222.82, 'SENSOR_MEASUREMENT_9': 8347.02, 'SENSOR_MEASUREMENT_10': 1.02, 'SENSOR_MEASUREMENT_11': 41.86, 'SENSOR_MEASUREMENT_12': 183.3, 'SENSOR_MEASUREMENT_13': 2387.98, 'SENSOR_MEASUREMENT_14': 8061.26, 'SENSOR_MEASUREMENT_15': 9.3312, 'SENSOR_MEASUREMENT_16': 0.02, 'SENSOR_MEASUREMENT_17': 335.0, 'SENSOR_MEASUREMENT_18': 2223.0, 'SENSOR_MEASUREMENT_19': 100.0, 'SENSOR_MEASUREMENT_20': 14.88, 'SENSOR_MEASUREMENT_21': 8.9691}, {'FAULT': 'FD002', 'UNIT_NUMBER': 3, 'TIME_IN_CYCLES': 84, 'SENSOR_MEASUREMENT_1': 445.0, 'SENSOR_MEASUREMENT_2': 549.32, 'SENSOR_MEASUREMENT_3': 1350.99, 'SENSOR_MEASUREMENT_4': 1124.55, 'SENSOR_MEASUREMENT_5': 3.91, 'SENSOR_MEASUREMENT_6': 5.72, 'SENSOR_MEASUREMENT_7': 138.39, 'SENSOR_MEASUREMENT_8': 2211.71, 'SENSOR_MEASUREMENT_9': 8312.24, 'SENSOR_MEASUREMENT_10': 1.02, 'SENSOR_MEASUREMENT_11': 42.11, 'SENSOR_MEASUREMENT_12': 130.8, 'SENSOR_MEASUREMENT_13': 2387.8, 'SENSOR_MEASUREMENT_14': 8075.16, 'SENSOR_MEASUREMENT_15': 9.3459, 'SENSOR_MEASUREMENT_16': 0.02, 'SENSOR_MEASUREMENT_17': 331.0, 'SENSOR_MEASUREMENT_18': 2212.0, 'SENSOR_MEASUREMENT_19': 100.0, 'SENSOR_MEASUREMENT_20': 10.5, 'SENSOR_MEASUREMENT_21': 6.258}, {'FAULT': 'FD002', 'UNIT_NUMBER': 3, 'TIME_IN_CYCLES': 85, 'SENSOR_MEASUREMENT_1': 462.54, 'SENSOR_MEASUREMENT_2': 536.76, 'SENSOR_MEASUREMENT_3': 1258.09, 'SENSOR_MEASUREMENT_4': 1047.7, 'SENSOR_MEASUREMENT_5': 7.05, 'SENSOR_MEASUREMENT_6': 9.02, 'SENSOR_MEASUREMENT_7': 175.57, 'SENSOR_MEASUREMENT_8': 1915.18, 'SENSOR_MEASUREMENT_9': 7999.51, 'SENSOR_MEASUREMENT_10': 0.94, 'SENSOR_MEASUREMENT_11': 36.75, 'SENSOR_MEASUREMENT_12': 164.32, 'SENSOR_MEASUREMENT_13': 2028.13, 'SENSOR_MEASUREMENT_14': 7870.12, 'SENSOR_MEASUREMENT_15': 10.8906, 'SENSOR_MEASUREMENT_16': 0.02, 'SENSOR_MEASUREMENT_17': 305.0, 'SENSOR_MEASUREMENT_18': 1915.0, 'SENSOR_MEASUREMENT_19': 84.93, 'SENSOR_MEASUREMENT_20': 14.34, 'SENSOR_MEASUREMENT_21': 8.5592}, {'FAULT': 'FD002', 'UNIT_NUMBER': 3, 'TIME_IN_CYCLES': 86, 'SENSOR_MEASUREMENT_1': 518.67, 'SENSOR_MEASUREMENT_2': 642.53, 'SENSOR_MEASUREMENT_3': 1591.42, 'SENSOR_MEASUREMENT_4': 1404.37, 'SENSOR_MEASUREMENT_5': 14.62, 'SENSOR_MEASUREMENT_6': 21.61, 'SENSOR_MEASUREMENT_7': 553.7, 'SENSOR_MEASUREMENT_8': 2388.1, 'SENSOR_MEASUREMENT_9': 9052.9, 'SENSOR_MEASUREMENT_10': 1.3, 'SENSOR_MEASUREMENT_11': 47.35, 'SENSOR_MEASUREMENT_12': 521.74, 'SENSOR_MEASUREMENT_13': 2388.16, 'SENSOR_MEASUREMENT_14': 8129.27, 'SENSOR_MEASUREMENT_15': 8.4424, 'SENSOR_MEASUREMENT_16': 0.03, 'SENSOR_MEASUREMENT_17': 392.0, 'SENSOR_MEASUREMENT_18': 2388.0, 'SENSOR_MEASUREMENT_19': 100.0, 'SENSOR_MEASUREMENT_20': 38.97, 'SENSOR_MEASUREMENT_21': 23.4204}, {'FAULT': 'FD002', 'UNIT_NUMBER': 3, 'TIME_IN_CYCLES': 87, 'SENSOR_MEASUREMENT_1': 491.19, 'SENSOR_MEASUREMENT_2': 607.91, 'SENSOR_MEASUREMENT_3': 1481.63, 'SENSOR_MEASUREMENT_4': 1249.33, 'SENSOR_MEASUREMENT_5': 9.35, 'SENSOR_MEASUREMENT_6': 13.66, 'SENSOR_MEASUREMENT_7': 333.93, 'SENSOR_MEASUREMENT_8': 2323.94, 'SENSOR_MEASUREMENT_9': 8723.45, 'SENSOR_MEASUREMENT_10': 1.08, 'SENSOR_MEASUREMENT_11': 44.47, 'SENSOR_MEASUREMENT_12': 315.2, 'SENSOR_MEASUREMENT_13': 2388.08, 'SENSOR_MEASUREMENT_14': 8053.62, 'SENSOR_MEASUREMENT_15': 9.2219, 'SENSOR_MEASUREMENT_16': 0.02, 'SENSOR_MEASUREMENT_17': 367.0, 'SENSOR_MEASUREMENT_18': 2324.0, 'SENSOR_MEASUREMENT_19': 100.0, 'SENSOR_MEASUREMENT_20': 24.52, 'SENSOR_MEASUREMENT_21': 14.6769}, {'FAULT': 'FD002', 'UNIT_NUMBER': 3, 'TIME_IN_CYCLES': 88, 'SENSOR_MEASUREMENT_1': 518.67, 'SENSOR_MEASUREMENT_2': 642.54, 'SENSOR_MEASUREMENT_3': 1590.07, 'SENSOR_MEASUREMENT_4': 1407.26, 'SENSOR_MEASUREMENT_5': 14.62, 'SENSOR_MEASUREMENT_6': 21.61, 'SENSOR_MEASUREMENT_7': 553.53, 'SENSOR_MEASUREMENT_8': 2388.13, 'SENSOR_MEASUREMENT_9': 9044.83, 'SENSOR_MEASUREMENT_10': 1.3, 'SENSOR_MEASUREMENT_11': 47.42, 'SENSOR_MEASUREMENT_12': 521.59, 'SENSOR_MEASUREMENT_13': 2388.11, 'SENSOR_MEASUREMENT_14': 8127.96, 'SENSOR_MEASUREMENT_15': 8.422, 'SENSOR_MEASUREMENT_16': 0.03, 'SENSOR_MEASUREMENT_17': 393.0, 'SENSOR_MEASUREMENT_18': 2388.0, 'SENSOR_MEASUREMENT_19': 100.0, 'SENSOR_MEASUREMENT_20': 38.92, 'SENSOR_MEASUREMENT_21': 23.1845}, {'FAULT': 'FD002', 'UNIT_NUMBER': 3, 'TIME_IN_CYCLES': 89, 'SENSOR_MEASUREMENT_1': 445.0, 'SENSOR_MEASUREMENT_2': 549.58, 'SENSOR_MEASUREMENT_3': 1353.99, 'SENSOR_MEASUREMENT_4': 1125.88, 'SENSOR_MEASUREMENT_5': 3.91, 'SENSOR_MEASUREMENT_6': 5.72, 'SENSOR_MEASUREMENT_7': 137.92, 'SENSOR_MEASUREMENT_8': 2211.77, 'SENSOR_MEASUREMENT_9': 8312.07, 'SENSOR_MEASUREMENT_10': 1.02, 'SENSOR_MEASUREMENT_11': 41.94, 'SENSOR_MEASUREMENT_12': 130.75, 'SENSOR_MEASUREMENT_13': 2387.85, 'SENSOR_MEASUREMENT_14': 8079.57, 'SENSOR_MEASUREMENT_15': 9.313, 'SENSOR_MEASUREMENT_16': 0.02, 'SENSOR_MEASUREMENT_17': 331.0, 'SENSOR_MEASUREMENT_18': 2212.0, 'SENSOR_MEASUREMENT_19': 100.0, 'SENSOR_MEASUREMENT_20': 10.59, 'SENSOR_MEASUREMENT_21': 6.3526}, {'FAULT': 'FD002', 'UNIT_NUMBER': 3, 'TIME_IN_CYCLES': 90, 'SENSOR_MEASUREMENT_1': 518.67, 'SENSOR_MEASUREMENT_2': 642.04, 'SENSOR_MEASUREMENT_3': 1594.61, 'SENSOR_MEASUREMENT_4': 1404.07, 'SENSOR_MEASUREMENT_5': 14.62, 'SENSOR_MEASUREMENT_6': 21.61, 'SENSOR_MEASUREMENT_7': 554.02, 'SENSOR_MEASUREMENT_8': 2388.14, 'SENSOR_MEASUREMENT_9': 9049.09, 'SENSOR_MEASUREMENT_10': 1.3, 'SENSOR_MEASUREMENT_11': 47.72, 'SENSOR_MEASUREMENT_12': 521.44, 'SENSOR_MEASUREMENT_13': 2388.13, 'SENSOR_MEASUREMENT_14': 8129.39, 'SENSOR_MEASUREMENT_15': 8.4357, 'SENSOR_MEASUREMENT_16': 0.03, 'SENSOR_MEASUREMENT_17': 393.0, 'SENSOR_MEASUREMENT_18': 2388.0, 'SENSOR_MEASUREMENT_19': 100.0, 'SENSOR_MEASUREMENT_20': 39.02, 'SENSOR_MEASUREMENT_21': 23.3339}, {'FAULT': 'FD002', 'UNIT_NUMBER': 3, 'TIME_IN_CYCLES': 91, 'SENSOR_MEASUREMENT_1': 491.19, 'SENSOR_MEASUREMENT_2': 606.87, 'SENSOR_MEASUREMENT_3': 1485.15, 'SENSOR_MEASUREMENT_4': 1246.0, 'SENSOR_MEASUREMENT_5': 9.35, 'SENSOR_MEASUREMENT_6': 13.65, 'SENSOR_MEASUREMENT_7': 335.18, 'SENSOR_MEASUREMENT_8': 2323.97, 'SENSOR_MEASUREMENT_9': 8717.98, 'SENSOR_MEASUREMENT_10': 1.08, 'SENSOR_MEASUREMENT_11': 44.47, 'SENSOR_MEASUREMENT_12': 314.9, 'SENSOR_MEASUREMENT_13': 2388.08, 'SENSOR_MEASUREMENT_14': 8049.69, 'SENSOR_MEASUREMENT_15': 9.1959, 'SENSOR_MEASUREMENT_16': 0.02, 'SENSOR_MEASUREMENT_17': 365.0, 'SENSOR_MEASUREMENT_18': 2324.0, 'SENSOR_MEASUREMENT_19': 100.0, 'SENSOR_MEASUREMENT_20': 24.44, 'SENSOR_MEASUREMENT_21': 14.7393}, {'FAULT': 'FD002', 'UNIT_NUMBER': 3, 'TIME_IN_CYCLES': 92, 'SENSOR_MEASUREMENT_1': 445.0, 'SENSOR_MEASUREMENT_2': 550.06, 'SENSOR_MEASUREMENT_3': 1357.12, 'SENSOR_MEASUREMENT_4': 1125.45, 'SENSOR_MEASUREMENT_5': 3.91, 'SENSOR_MEASUREMENT_6': 5.71, 'SENSOR_MEASUREMENT_7': 139.47, 'SENSOR_MEASUREMENT_8': 2211.73, 'SENSOR_MEASUREMENT_9': 8314.41, 'SENSOR_MEASUREMENT_10': 1.02, 'SENSOR_MEASUREMENT_11': 41.96, 'SENSOR_MEASUREMENT_12': 130.41, 'SENSOR_MEASUREMENT_13': 2387.83, 'SENSOR_MEASUREMENT_14': 8078.03, 'SENSOR_MEASUREMENT_15': 9.3564, 'SENSOR_MEASUREMENT_16': 0.02, 'SENSOR_MEASUREMENT_17': 331.0, 'SENSOR_MEASUREMENT_18': 2212.0, 'SENSOR_MEASUREMENT_19': 100.0, 'SENSOR_MEASUREMENT_20': 10.67, 'SENSOR_MEASUREMENT_21': 6.4127}, {'FAULT': 'FD002', 'UNIT_NUMBER': 3, 'TIME_IN_CYCLES': 93, 'SENSOR_MEASUREMENT_1': 518.67, 'SENSOR_MEASUREMENT_2': 642.83, 'SENSOR_MEASUREMENT_3': 1598.21, 'SENSOR_MEASUREMENT_4': 1411.82, 'SENSOR_MEASUREMENT_5': 14.62, 'SENSOR_MEASUREMENT_6': 21.61, 'SENSOR_MEASUREMENT_7': 553.49, 'SENSOR_MEASUREMENT_8': 2388.07, 'SENSOR_MEASUREMENT_9': 9044.02, 'SENSOR_MEASUREMENT_10': 1.3, 'SENSOR_MEASUREMENT_11': 47.47, 'SENSOR_MEASUREMENT_12': 521.5, 'SENSOR_MEASUREMENT_13': 2388.1, 'SENSOR_MEASUREMENT_14': 8132.62, 'SENSOR_MEASUREMENT_15': 8.439, 'SENSOR_MEASUREMENT_16': 0.03, 'SENSOR_MEASUREMENT_17': 394.0, 'SENSOR_MEASUREMENT_18': 2388.0, 'SENSOR_MEASUREMENT_19': 100.0, 'SENSOR_MEASUREMENT_20': 38.96, 'SENSOR_MEASUREMENT_21': 23.2935}, {'FAULT': 'FD002', 'UNIT_NUMBER': 3, 'TIME_IN_CYCLES': 94, 'SENSOR_MEASUREMENT_1': 445.0, 'SENSOR_MEASUREMENT_2': 549.26, 'SENSOR_MEASUREMENT_3': 1360.76, 'SENSOR_MEASUREMENT_4': 1128.05, 'SENSOR_MEASUREMENT_5': 3.91, 'SENSOR_MEASUREMENT_6': 5.71, 'SENSOR_MEASUREMENT_7': 139.05, 'SENSOR_MEASUREMENT_8': 2211.74, 'SENSOR_MEASUREMENT_9': 8314.69, 'SENSOR_MEASUREMENT_10': 1.02, 'SENSOR_MEASUREMENT_11': 41.99, 'SENSOR_MEASUREMENT_12': 129.97, 'SENSOR_MEASUREMENT_13': 2387.82, 'SENSOR_MEASUREMENT_14': 8075.94, 'SENSOR_MEASUREMENT_15': 9.3726, 'SENSOR_MEASUREMENT_16': 0.02, 'SENSOR_MEASUREMENT_17': 331.0, 'SENSOR_MEASUREMENT_18': 2212.0, 'SENSOR_MEASUREMENT_19': 100.0, 'SENSOR_MEASUREMENT_20': 10.6, 'SENSOR_MEASUREMENT_21': 6.3987}, {'FAULT': 'FD002', 'UNIT_NUMBER': 3, 'TIME_IN_CYCLES': 95, 'SENSOR_MEASUREMENT_1': 489.05, 'SENSOR_MEASUREMENT_2': 604.74, 'SENSOR_MEASUREMENT_3': 1502.25, 'SENSOR_MEASUREMENT_4': 1306.22, 'SENSOR_MEASUREMENT_5': 10.52, 'SENSOR_MEASUREMENT_6': 15.49, 'SENSOR_MEASUREMENT_7': 394.71, 'SENSOR_MEASUREMENT_8': 2318.94, 'SENSOR_MEASUREMENT_9': 8762.56, 'SENSOR_MEASUREMENT_10': 1.26, 'SENSOR_MEASUREMENT_11': 45.42, 'SENSOR_MEASUREMENT_12': 370.92, 'SENSOR_MEASUREMENT_13': 2388.11, 'SENSOR_MEASUREMENT_14': 8124.89, 'SENSOR_MEASUREMENT_15': 8.7016, 'SENSOR_MEASUREMENT_16': 0.03, 'SENSOR_MEASUREMENT_17': 369.0, 'SENSOR_MEASUREMENT_18': 2319.0, 'SENSOR_MEASUREMENT_19': 100.0, 'SENSOR_MEASUREMENT_20': 28.55, 'SENSOR_MEASUREMENT_21': 17.0736}, {'FAULT': 'FD002', 'UNIT_NUMBER': 3, 'TIME_IN_CYCLES': 96, 'SENSOR_MEASUREMENT_1': 462.54, 'SENSOR_MEASUREMENT_2': 537.1, 'SENSOR_MEASUREMENT_3': 1259.3, 'SENSOR_MEASUREMENT_4': 1043.75, 'SENSOR_MEASUREMENT_5': 7.05, 'SENSOR_MEASUREMENT_6': 9.02, 'SENSOR_MEASUREMENT_7': 175.69, 'SENSOR_MEASUREMENT_8': 1915.2, 'SENSOR_MEASUREMENT_9': 8006.0, 'SENSOR_MEASUREMENT_10': 0.94, 'SENSOR_MEASUREMENT_11': 36.71, 'SENSOR_MEASUREMENT_12': 164.43, 'SENSOR_MEASUREMENT_13': 2028.07, 'SENSOR_MEASUREMENT_14': 7868.5, 'SENSOR_MEASUREMENT_15': 10.9242, 'SENSOR_MEASUREMENT_16': 0.02, 'SENSOR_MEASUREMENT_17': 307.0, 'SENSOR_MEASUREMENT_18': 1915.0, 'SENSOR_MEASUREMENT_19': 84.93, 'SENSOR_MEASUREMENT_20': 14.13, 'SENSOR_MEASUREMENT_21': 8.5142}, {'FAULT': 'FD002', 'UNIT_NUMBER': 3, 'TIME_IN_CYCLES': 97, 'SENSOR_MEASUREMENT_1': 491.19, 'SENSOR_MEASUREMENT_2': 607.68, 'SENSOR_MEASUREMENT_3': 1489.26, 'SENSOR_MEASUREMENT_4': 1246.29, 'SENSOR_MEASUREMENT_5': 9.35, 'SENSOR_MEASUREMENT_6': 13.65, 'SENSOR_MEASUREMENT_7': 334.85, 'SENSOR_MEASUREMENT_8': 2323.95, 'SENSOR_MEASUREMENT_9': 8722.98, 'SENSOR_MEASUREMENT_10': 1.08, 'SENSOR_MEASUREMENT_11': 44.29, 'SENSOR_MEASUREMENT_12': 315.21, 'SENSOR_MEASUREMENT_13': 2388.04, 'SENSOR_MEASUREMENT_14': 8053.54, 'SENSOR_MEASUREMENT_15': 9.2039, 'SENSOR_MEASUREMENT_16': 0.02, 'SENSOR_MEASUREMENT_17': 365.0, 'SENSOR_MEASUREMENT_18': 2324.0, 'SENSOR_MEASUREMENT_19': 100.0, 'SENSOR_MEASUREMENT_20': 24.58, 'SENSOR_MEASUREMENT_21': 14.6186}, {'FAULT': 'FD002', 'UNIT_NUMBER': 3, 'TIME_IN_CYCLES': 98, 'SENSOR_MEASUREMENT_1': 489.05, 'SENSOR_MEASUREMENT_2': 604.93, 'SENSOR_MEASUREMENT_3': 1502.76, 'SENSOR_MEASUREMENT_4': 1306.95, 'SENSOR_MEASUREMENT_5': 10.52, 'SENSOR_MEASUREMENT_6': 15.49, 'SENSOR_MEASUREMENT_7': 394.46, 'SENSOR_MEASUREMENT_8': 2318.97, 'SENSOR_MEASUREMENT_9': 8773.62, 'SENSOR_MEASUREMENT_10': 1.26, 'SENSOR_MEASUREMENT_11': 45.5, 'SENSOR_MEASUREMENT_12': 371.61, 'SENSOR_MEASUREMENT_13': 2388.16, 'SENSOR_MEASUREMENT_14': 8126.02, 'SENSOR_MEASUREMENT_15': 8.6245, 'SENSOR_MEASUREMENT_16': 0.03, 'SENSOR_MEASUREMENT_17': 369.0, 'SENSOR_MEASUREMENT_18': 2319.0, 'SENSOR_MEASUREMENT_19': 100.0, 'SENSOR_MEASUREMENT_20': 28.53, 'SENSOR_MEASUREMENT_21': 17.1716}, {'FAULT': 'FD002', 'UNIT_NUMBER': 3, 'TIME_IN_CYCLES': 99, 'SENSOR_MEASUREMENT_1': 491.19, 'SENSOR_MEASUREMENT_2': 607.45, 'SENSOR_MEASUREMENT_3': 1487.09, 'SENSOR_MEASUREMENT_4': 1253.96, 'SENSOR_MEASUREMENT_5': 9.35, 'SENSOR_MEASUREMENT_6': 13.66, 'SENSOR_MEASUREMENT_7': 334.56, 'SENSOR_MEASUREMENT_8': 2323.98, 'SENSOR_MEASUREMENT_9': 8715.26, 'SENSOR_MEASUREMENT_10': 1.08, 'SENSOR_MEASUREMENT_11': 44.39, 'SENSOR_MEASUREMENT_12': 314.19, 'SENSOR_MEASUREMENT_13': 2388.14, 'SENSOR_MEASUREMENT_14': 8054.97, 'SENSOR_MEASUREMENT_15': 9.2203, 'SENSOR_MEASUREMENT_16': 0.02, 'SENSOR_MEASUREMENT_17': 365.0, 'SENSOR_MEASUREMENT_18': 2324.0, 'SENSOR_MEASUREMENT_19': 100.0, 'SENSOR_MEASUREMENT_20': 24.71, 'SENSOR_MEASUREMENT_21': 14.6232}, {'FAULT': 'FD002', 'UNIT_NUMBER': 3, 'TIME_IN_CYCLES': 100, 'SENSOR_MEASUREMENT_1': 518.67, 'SENSOR_MEASUREMENT_2': 641.9, 'SENSOR_MEASUREMENT_3': 1593.88, 'SENSOR_MEASUREMENT_4': 1402.9, 'SENSOR_MEASUREMENT_5': 14.62, 'SENSOR_MEASUREMENT_6': 21.61, 'SENSOR_MEASUREMENT_7': 553.71, 'SENSOR_MEASUREMENT_8': 2388.06, 'SENSOR_MEASUREMENT_9': 9044.43, 'SENSOR_MEASUREMENT_10': 1.3, 'SENSOR_MEASUREMENT_11': 47.63, 'SENSOR_MEASUREMENT_12': 521.42, 'SENSOR_MEASUREMENT_13': 2388.12, 'SENSOR_MEASUREMENT_14': 8135.42, 'SENSOR_MEASUREMENT_15': 8.4432, 'SENSOR_MEASUREMENT_16': 0.03, 'SENSOR_MEASUREMENT_17': 393.0, 'SENSOR_MEASUREMENT_18': 2388.0, 'SENSOR_MEASUREMENT_19': 100.0, 'SENSOR_MEASUREMENT_20': 38.78, 'SENSOR_MEASUREMENT_21': 23.4153}, {'FAULT': 'FD002', 'UNIT_NUMBER': 3, 'TIME_IN_CYCLES': 101, 'SENSOR_MEASUREMENT_1': 445.0, 'SENSOR_MEASUREMENT_2': 549.61, 'SENSOR_MEASUREMENT_3': 1353.96, 'SENSOR_MEASUREMENT_4': 1123.65, 'SENSOR_MEASUREMENT_5': 3.91, 'SENSOR_MEASUREMENT_6': 5.71, 'SENSOR_MEASUREMENT_7': 138.67, 'SENSOR_MEASUREMENT_8': 2211.84, 'SENSOR_MEASUREMENT_9': 8314.12, 'SENSOR_MEASUREMENT_10': 1.02, 'SENSOR_MEASUREMENT_11': 42.16, 'SENSOR_MEASUREMENT_12': 129.89, 'SENSOR_MEASUREMENT_13': 2387.91, 'SENSOR_MEASUREMENT_14': 8077.62, 'SENSOR_MEASUREMENT_15': 9.3712, 'SENSOR_MEASUREMENT_16': 0.02, 'SENSOR_MEASUREMENT_17': 332.0, 'SENSOR_MEASUREMENT_18': 2212.0, 'SENSOR_MEASUREMENT_19': 100.0, 'SENSOR_MEASUREMENT_20': 10.72, 'SENSOR_MEASUREMENT_21': 6.4011}, {'FAULT': 'FD002', 'UNIT_NUMBER': 3, 'TIME_IN_CYCLES': 102, 'SENSOR_MEASUREMENT_1': 445.0, 'SENSOR_MEASUREMENT_2': 549.46, 'SENSOR_MEASUREMENT_3': 1352.4, 'SENSOR_MEASUREMENT_4': 1125.86, 'SENSOR_MEASUREMENT_5': 3.91, 'SENSOR_MEASUREMENT_6': 5.71, 'SENSOR_MEASUREMENT_7': 138.48, 'SENSOR_MEASUREMENT_8': 2211.8, 'SENSOR_MEASUREMENT_9': 8311.04, 'SENSOR_MEASUREMENT_10': 1.02, 'SENSOR_MEASUREMENT_11': 42.12, 'SENSOR_MEASUREMENT_12': 130.45, 'SENSOR_MEASUREMENT_13': 2387.86, 'SENSOR_MEASUREMENT_14': 8081.13, 'SENSOR_MEASUREMENT_15': 9.3813, 'SENSOR_MEASUREMENT_16': 0.02, 'SENSOR_MEASUREMENT_17': 332.0, 'SENSOR_MEASUREMENT_18': 2212.0, 'SENSOR_MEASUREMENT_19': 100.0, 'SENSOR_MEASUREMENT_20': 10.69, 'SENSOR_MEASUREMENT_21': 6.3769}, {'FAULT': 'FD002', 'UNIT_NUMBER': 3, 'TIME_IN_CYCLES': 103, 'SENSOR_MEASUREMENT_1': 489.05, 'SENSOR_MEASUREMENT_2': 604.02, 'SENSOR_MEASUREMENT_3': 1489.6, 'SENSOR_MEASUREMENT_4': 1306.38, 'SENSOR_MEASUREMENT_5': 10.52, 'SENSOR_MEASUREMENT_6': 15.49, 'SENSOR_MEASUREMENT_7': 394.23, 'SENSOR_MEASUREMENT_8': 2318.96, 'SENSOR_MEASUREMENT_9': 8775.83, 'SENSOR_MEASUREMENT_10': 1.26, 'SENSOR_MEASUREMENT_11': 45.36, 'SENSOR_MEASUREMENT_12': 371.75, 'SENSOR_MEASUREMENT_13': 2388.12, 'SENSOR_MEASUREMENT_14': 8129.34, 'SENSOR_MEASUREMENT_15': 8.6435, 'SENSOR_MEASUREMENT_16': 0.03, 'SENSOR_MEASUREMENT_17': 369.0, 'SENSOR_MEASUREMENT_18': 2319.0, 'SENSOR_MEASUREMENT_19': 100.0, 'SENSOR_MEASUREMENT_20': 28.67, 'SENSOR_MEASUREMENT_21': 17.2021}, {'FAULT': 'FD002', 'UNIT_NUMBER': 3, 'TIME_IN_CYCLES': 104, 'SENSOR_MEASUREMENT_1': 449.44, 'SENSOR_MEASUREMENT_2': 555.59, 'SENSOR_MEASUREMENT_3': 1366.14, 'SENSOR_MEASUREMENT_4': 1132.69, 'SENSOR_MEASUREMENT_5': 5.48, 'SENSOR_MEASUREMENT_6': 8.0, 'SENSOR_MEASUREMENT_7': 195.26, 'SENSOR_MEASUREMENT_8': 2222.84, 'SENSOR_MEASUREMENT_9': 8346.19, 'SENSOR_MEASUREMENT_10': 1.02, 'SENSOR_MEASUREMENT_11': 41.76, 'SENSOR_MEASUREMENT_12': 183.82, 'SENSOR_MEASUREMENT_13': 2387.87, 'SENSOR_MEASUREMENT_14': 8060.73, 'SENSOR_MEASUREMENT_15': 9.3033, 'SENSOR_MEASUREMENT_16': 0.02, 'SENSOR_MEASUREMENT_17': 333.0, 'SENSOR_MEASUREMENT_18': 2223.0, 'SENSOR_MEASUREMENT_19': 100.0, 'SENSOR_MEASUREMENT_20': 14.81, 'SENSOR_MEASUREMENT_21': 8.9795}, {'FAULT': 'FD002', 'UNIT_NUMBER': 3, 'TIME_IN_CYCLES': 105, 'SENSOR_MEASUREMENT_1': 489.05, 'SENSOR_MEASUREMENT_2': 605.25, 'SENSOR_MEASUREMENT_3': 1499.25, 'SENSOR_MEASUREMENT_4': 1307.89, 'SENSOR_MEASUREMENT_5': 10.52, 'SENSOR_MEASUREMENT_6': 15.49, 'SENSOR_MEASUREMENT_7': 394.1, 'SENSOR_MEASUREMENT_8': 2318.97, 'SENSOR_MEASUREMENT_9': 8774.22, 'SENSOR_MEASUREMENT_10': 1.26, 'SENSOR_MEASUREMENT_11': 45.53, 'SENSOR_MEASUREMENT_12': 371.87, 'SENSOR_MEASUREMENT_13': 2388.09, 'SENSOR_MEASUREMENT_14': 8125.57, 'SENSOR_MEASUREMENT_15': 8.6452, 'SENSOR_MEASUREMENT_16': 0.03, 'SENSOR_MEASUREMENT_17': 370.0, 'SENSOR_MEASUREMENT_18': 2319.0, 'SENSOR_MEASUREMENT_19': 100.0, 'SENSOR_MEASUREMENT_20': 28.43, 'SENSOR_MEASUREMENT_21': 17.0659}, {'FAULT': 'FD002', 'UNIT_NUMBER': 3, 'TIME_IN_CYCLES': 106, 'SENSOR_MEASUREMENT_1': 489.05, 'SENSOR_MEASUREMENT_2': 604.63, 'SENSOR_MEASUREMENT_3': 1496.49, 'SENSOR_MEASUREMENT_4': 1301.81, 'SENSOR_MEASUREMENT_5': 10.52, 'SENSOR_MEASUREMENT_6': 15.49, 'SENSOR_MEASUREMENT_7': 393.98, 'SENSOR_MEASUREMENT_8': 2318.93, 'SENSOR_MEASUREMENT_9': 8774.12, 'SENSOR_MEASUREMENT_10': 1.26, 'SENSOR_MEASUREMENT_11': 45.62, 'SENSOR_MEASUREMENT_12': 371.63, 'SENSOR_MEASUREMENT_13': 2388.09, 'SENSOR_MEASUREMENT_14': 8126.45, 'SENSOR_MEASUREMENT_15': 8.6755, 'SENSOR_MEASUREMENT_16': 0.03, 'SENSOR_MEASUREMENT_17': 369.0, 'SENSOR_MEASUREMENT_18': 2319.0, 'SENSOR_MEASUREMENT_19': 100.0, 'SENSOR_MEASUREMENT_20': 28.55, 'SENSOR_MEASUREMENT_21': 17.2318}, {'FAULT': 'FD002', 'UNIT_NUMBER': 3, 'TIME_IN_CYCLES': 107, 'SENSOR_MEASUREMENT_1': 449.44, 'SENSOR_MEASUREMENT_2': 555.62, 'SENSOR_MEASUREMENT_3': 1363.22, 'SENSOR_MEASUREMENT_4': 1131.1, 'SENSOR_MEASUREMENT_5': 5.48, 'SENSOR_MEASUREMENT_6': 8.0, 'SENSOR_MEASUREMENT_7': 194.54, 'SENSOR_MEASUREMENT_8': 2222.85, 'SENSOR_MEASUREMENT_9': 8342.18, 'SENSOR_MEASUREMENT_10': 1.02, 'SENSOR_MEASUREMENT_11': 41.95, 'SENSOR_MEASUREMENT_12': 182.92, 'SENSOR_MEASUREMENT_13': 2387.93, 'SENSOR_MEASUREMENT_14': 8067.28, 'SENSOR_MEASUREMENT_15': 9.313, 'SENSOR_MEASUREMENT_16': 0.02, 'SENSOR_MEASUREMENT_17': 334.0, 'SENSOR_MEASUREMENT_18': 2223.0, 'SENSOR_MEASUREMENT_19': 100.0, 'SENSOR_MEASUREMENT_20': 14.94, 'SENSOR_MEASUREMENT_21': 8.8901}, {'FAULT': 'FD002', 'UNIT_NUMBER': 3, 'TIME_IN_CYCLES': 108, 'SENSOR_MEASUREMENT_1': 445.0, 'SENSOR_MEASUREMENT_2': 549.89, 'SENSOR_MEASUREMENT_3': 1354.84, 'SENSOR_MEASUREMENT_4': 1122.73, 'SENSOR_MEASUREMENT_5': 3.91, 'SENSOR_MEASUREMENT_6': 5.72, 'SENSOR_MEASUREMENT_7': 138.27, 'SENSOR_MEASUREMENT_8': 2211.83, 'SENSOR_MEASUREMENT_9': 8318.88, 'SENSOR_MEASUREMENT_10': 1.02, 'SENSOR_MEASUREMENT_11': 42.12, 'SENSOR_MEASUREMENT_12': 130.06, 'SENSOR_MEASUREMENT_13': 2387.8, 'SENSOR_MEASUREMENT_14': 8080.74, 'SENSOR_MEASUREMENT_15': 9.3782, 'SENSOR_MEASUREMENT_16': 0.02, 'SENSOR_MEASUREMENT_17': 331.0, 'SENSOR_MEASUREMENT_18': 2212.0, 'SENSOR_MEASUREMENT_19': 100.0, 'SENSOR_MEASUREMENT_20': 10.65, 'SENSOR_MEASUREMENT_21': 6.329}, {'FAULT': 'FD002', 'UNIT_NUMBER': 3, 'TIME_IN_CYCLES': 109, 'SENSOR_MEASUREMENT_1': 449.44, 'SENSOR_MEASUREMENT_2': 555.52, 'SENSOR_MEASUREMENT_3': 1364.52, 'SENSOR_MEASUREMENT_4': 1127.48, 'SENSOR_MEASUREMENT_5': 5.48, 'SENSOR_MEASUREMENT_6': 8.0, 'SENSOR_MEASUREMENT_7': 194.13, 'SENSOR_MEASUREMENT_8': 2222.89, 'SENSOR_MEASUREMENT_9': 8346.89, 'SENSOR_MEASUREMENT_10': 1.02, 'SENSOR_MEASUREMENT_11': 41.93, 'SENSOR_MEASUREMENT_12': 182.67, 'SENSOR_MEASUREMENT_13': 2387.96, 'SENSOR_MEASUREMENT_14': 8066.34, 'SENSOR_MEASUREMENT_15': 9.3247, 'SENSOR_MEASUREMENT_16': 0.02, 'SENSOR_MEASUREMENT_17': 334.0, 'SENSOR_MEASUREMENT_18': 2223.0, 'SENSOR_MEASUREMENT_19': 100.0, 'SENSOR_MEASUREMENT_20': 14.65, 'SENSOR_MEASUREMENT_21': 8.8991}, {'FAULT': 'FD002', 'UNIT_NUMBER': 3, 'TIME_IN_CYCLES': 110, 'SENSOR_MEASUREMENT_1': 445.0, 'SENSOR_MEASUREMENT_2': 549.24, 'SENSOR_MEASUREMENT_3': 1353.79, 'SENSOR_MEASUREMENT_4': 1128.02, 'SENSOR_MEASUREMENT_5': 3.91, 'SENSOR_MEASUREMENT_6': 5.71, 'SENSOR_MEASUREMENT_7': 138.45, 'SENSOR_MEASUREMENT_8': 2211.77, 'SENSOR_MEASUREMENT_9': 8316.45, 'SENSOR_MEASUREMENT_10': 1.02, 'SENSOR_MEASUREMENT_11': 42.07, 'SENSOR_MEASUREMENT_12': 130.85, 'SENSOR_MEASUREMENT_13': 2387.84, 'SENSOR_MEASUREMENT_14': 8079.2, 'SENSOR_MEASUREMENT_15': 9.3799, 'SENSOR_MEASUREMENT_16': 0.02, 'SENSOR_MEASUREMENT_17': 331.0, 'SENSOR_MEASUREMENT_18': 2212.0, 'SENSOR_MEASUREMENT_19': 100.0, 'SENSOR_MEASUREMENT_20': 10.44, 'SENSOR_MEASUREMENT_21': 6.2698}, {'FAULT': 'FD002', 'UNIT_NUMBER': 3, 'TIME_IN_CYCLES': 111, 'SENSOR_MEASUREMENT_1': 445.0, 'SENSOR_MEASUREMENT_2': 549.4, 'SENSOR_MEASUREMENT_3': 1352.83, 'SENSOR_MEASUREMENT_4': 1122.94, 'SENSOR_MEASUREMENT_5': 3.91, 'SENSOR_MEASUREMENT_6': 5.72, 'SENSOR_MEASUREMENT_7': 137.79, 'SENSOR_MEASUREMENT_8': 2211.78, 'SENSOR_MEASUREMENT_9': 8319.35, 'SENSOR_MEASUREMENT_10': 1.02, 'SENSOR_MEASUREMENT_11': 41.99, 'SENSOR_MEASUREMENT_12': 131.12, 'SENSOR_MEASUREMENT_13': 2387.84, 'SENSOR_MEASUREMENT_14': 8073.96, 'SENSOR_MEASUREMENT_15': 9.3674, 'SENSOR_MEASUREMENT_16': 0.02, 'SENSOR_MEASUREMENT_17': 332.0, 'SENSOR_MEASUREMENT_18': 2212.0, 'SENSOR_MEASUREMENT_19': 100.0, 'SENSOR_MEASUREMENT_20': 10.53, 'SENSOR_MEASUREMENT_21': 6.478}, {'FAULT': 'FD002', 'UNIT_NUMBER': 3, 'TIME_IN_CYCLES': 112, 'SENSOR_MEASUREMENT_1': 518.67, 'SENSOR_MEASUREMENT_2': 642.4, 'SENSOR_MEASUREMENT_3': 1587.11, 'SENSOR_MEASUREMENT_4': 1403.49, 'SENSOR_MEASUREMENT_5': 14.62, 'SENSOR_MEASUREMENT_6': 21.61, 'SENSOR_MEASUREMENT_7': 552.71, 'SENSOR_MEASUREMENT_8': 2388.12, 'SENSOR_MEASUREMENT_9': 9056.76, 'SENSOR_MEASUREMENT_10': 1.3, 'SENSOR_MEASUREMENT_11': 47.57, 'SENSOR_MEASUREMENT_12': 520.92, 'SENSOR_MEASUREMENT_13': 2388.12, 'SENSOR_MEASUREMENT_14': 8129.44, 'SENSOR_MEASUREMENT_15': 8.4508, 'SENSOR_MEASUREMENT_16': 0.03, 'SENSOR_MEASUREMENT_17': 393.0, 'SENSOR_MEASUREMENT_18': 2388.0, 'SENSOR_MEASUREMENT_19': 100.0, 'SENSOR_MEASUREMENT_20': 38.76, 'SENSOR_MEASUREMENT_21': 23.2435}, {'FAULT': 'FD002', 'UNIT_NUMBER': 3, 'TIME_IN_CYCLES': 113, 'SENSOR_MEASUREMENT_1': 491.19, 'SENSOR_MEASUREMENT_2': 607.21, 'SENSOR_MEASUREMENT_3': 1482.09, 'SENSOR_MEASUREMENT_4': 1255.89, 'SENSOR_MEASUREMENT_5': 9.35, 'SENSOR_MEASUREMENT_6': 13.66, 'SENSOR_MEASUREMENT_7': 334.19, 'SENSOR_MEASUREMENT_8': 2323.94, 'SENSOR_MEASUREMENT_9': 8716.87, 'SENSOR_MEASUREMENT_10': 1.08, 'SENSOR_MEASUREMENT_11': 44.45, 'SENSOR_MEASUREMENT_12': 315.47, 'SENSOR_MEASUREMENT_13': 2388.08, 'SENSOR_MEASUREMENT_14': 8056.03, 'SENSOR_MEASUREMENT_15': 9.1931, 'SENSOR_MEASUREMENT_16': 0.02, 'SENSOR_MEASUREMENT_17': 364.0, 'SENSOR_MEASUREMENT_18': 2324.0, 'SENSOR_MEASUREMENT_19': 100.0, 'SENSOR_MEASUREMENT_20': 24.69, 'SENSOR_MEASUREMENT_21': 14.7656}, {'FAULT': 'FD002', 'UNIT_NUMBER': 3, 'TIME_IN_CYCLES': 114, 'SENSOR_MEASUREMENT_1': 518.67, 'SENSOR_MEASUREMENT_2': 643.07, 'SENSOR_MEASUREMENT_3': 1586.72, 'SENSOR_MEASUREMENT_4': 1408.38, 'SENSOR_MEASUREMENT_5': 14.62, 'SENSOR_MEASUREMENT_6': 21.61, 'SENSOR_MEASUREMENT_7': 553.38, 'SENSOR_MEASUREMENT_8': 2388.11, 'SENSOR_MEASUREMENT_9': 9045.9, 'SENSOR_MEASUREMENT_10': 1.3, 'SENSOR_MEASUREMENT_11': 47.39, 'SENSOR_MEASUREMENT_12': 522.01, 'SENSOR_MEASUREMENT_13': 2388.12, 'SENSOR_MEASUREMENT_14': 8135.08, 'SENSOR_MEASUREMENT_15': 8.4353, 'SENSOR_MEASUREMENT_16': 0.03, 'SENSOR_MEASUREMENT_17': 392.0, 'SENSOR_MEASUREMENT_18': 2388.0, 'SENSOR_MEASUREMENT_19': 100.0, 'SENSOR_MEASUREMENT_20': 38.93, 'SENSOR_MEASUREMENT_21': 23.2775}, {'FAULT': 'FD002', 'UNIT_NUMBER': 3, 'TIME_IN_CYCLES': 115, 'SENSOR_MEASUREMENT_1': 445.0, 'SENSOR_MEASUREMENT_2': 549.7, 'SENSOR_MEASUREMENT_3': 1354.65, 'SENSOR_MEASUREMENT_4': 1127.21, 'SENSOR_MEASUREMENT_5': 3.91, 'SENSOR_MEASUREMENT_6': 5.71, 'SENSOR_MEASUREMENT_7': 138.75, 'SENSOR_MEASUREMENT_8': 2211.76, 'SENSOR_MEASUREMENT_9': 8314.79, 'SENSOR_MEASUREMENT_10': 1.02, 'SENSOR_MEASUREMENT_11': 42.04, 'SENSOR_MEASUREMENT_12': 130.68, 'SENSOR_MEASUREMENT_13': 2387.9, 'SENSOR_MEASUREMENT_14': 8080.59, 'SENSOR_MEASUREMENT_15': 9.341, 'SENSOR_MEASUREMENT_16': 0.02, 'SENSOR_MEASUREMENT_17': 330.0, 'SENSOR_MEASUREMENT_18': 2212.0, 'SENSOR_MEASUREMENT_19': 100.0, 'SENSOR_MEASUREMENT_20': 10.47, 'SENSOR_MEASUREMENT_21': 6.2936}, {'FAULT': 'FD002', 'UNIT_NUMBER': 3, 'TIME_IN_CYCLES': 116, 'SENSOR_MEASUREMENT_1': 445.0, 'SENSOR_MEASUREMENT_2': 549.9, 'SENSOR_MEASUREMENT_3': 1354.02, 'SENSOR_MEASUREMENT_4': 1134.22, 'SENSOR_MEASUREMENT_5': 3.91, 'SENSOR_MEASUREMENT_6': 5.71, 'SENSOR_MEASUREMENT_7': 138.19, 'SENSOR_MEASUREMENT_8': 2211.73, 'SENSOR_MEASUREMENT_9': 8312.85, 'SENSOR_MEASUREMENT_10': 1.02, 'SENSOR_MEASUREMENT_11': 42.03, 'SENSOR_MEASUREMENT_12': 130.59, 'SENSOR_MEASUREMENT_13': 2387.87, 'SENSOR_MEASUREMENT_14': 8078.08, 'SENSOR_MEASUREMENT_15': 9.379, 'SENSOR_MEASUREMENT_16': 0.02, 'SENSOR_MEASUREMENT_17': 331.0, 'SENSOR_MEASUREMENT_18': 2212.0, 'SENSOR_MEASUREMENT_19': 100.0, 'SENSOR_MEASUREMENT_20': 10.69, 'SENSOR_MEASUREMENT_21': 6.3585}, {'FAULT': 'FD002', 'UNIT_NUMBER': 3, 'TIME_IN_CYCLES': 117, 'SENSOR_MEASUREMENT_1': 445.0, 'SENSOR_MEASUREMENT_2': 549.18, 'SENSOR_MEASUREMENT_3': 1356.65, 'SENSOR_MEASUREMENT_4': 1126.04, 'SENSOR_MEASUREMENT_5': 3.91, 'SENSOR_MEASUREMENT_6': 5.72, 'SENSOR_MEASUREMENT_7': 139.12, 'SENSOR_MEASUREMENT_8': 2211.77, 'SENSOR_MEASUREMENT_9': 8310.14, 'SENSOR_MEASUREMENT_10': 1.02, 'SENSOR_MEASUREMENT_11': 42.12, 'SENSOR_MEASUREMENT_12': 130.39, 'SENSOR_MEASUREMENT_13': 2387.89, 'SENSOR_MEASUREMENT_14': 8080.14, 'SENSOR_MEASUREMENT_15': 9.3837, 'SENSOR_MEASUREMENT_16': 0.02, 'SENSOR_MEASUREMENT_17': 331.0, 'SENSOR_MEASUREMENT_18': 2212.0, 'SENSOR_MEASUREMENT_19': 100.0, 'SENSOR_MEASUREMENT_20': 10.8, 'SENSOR_MEASUREMENT_21': 6.372}, {'FAULT': 'FD002', 'UNIT_NUMBER': 3, 'TIME_IN_CYCLES': 118, 'SENSOR_MEASUREMENT_1': 445.0, 'SENSOR_MEASUREMENT_2': 549.89, 'SENSOR_MEASUREMENT_3': 1351.97, 'SENSOR_MEASUREMENT_4': 1127.32, 'SENSOR_MEASUREMENT_5': 3.91, 'SENSOR_MEASUREMENT_6': 5.71, 'SENSOR_MEASUREMENT_7': 138.58, 'SENSOR_MEASUREMENT_8': 2211.79, 'SENSOR_MEASUREMENT_9': 8316.47, 'SENSOR_MEASUREMENT_10': 1.02, 'SENSOR_MEASUREMENT_11': 41.93, 'SENSOR_MEASUREMENT_12': 130.79, 'SENSOR_MEASUREMENT_13': 2387.85, 'SENSOR_MEASUREMENT_14': 8078.09, 'SENSOR_MEASUREMENT_15': 9.3775, 'SENSOR_MEASUREMENT_16': 0.02, 'SENSOR_MEASUREMENT_17': 329.0, 'SENSOR_MEASUREMENT_18': 2212.0, 'SENSOR_MEASUREMENT_19': 100.0, 'SENSOR_MEASUREMENT_20': 10.52, 'SENSOR_MEASUREMENT_21': 6.3986}, {'FAULT': 'FD002', 'UNIT_NUMBER': 3, 'TIME_IN_CYCLES': 119, 'SENSOR_MEASUREMENT_1': 489.05, 'SENSOR_MEASUREMENT_2': 605.37, 'SENSOR_MEASUREMENT_3': 1501.64, 'SENSOR_MEASUREMENT_4': 1311.78, 'SENSOR_MEASUREMENT_5': 10.52, 'SENSOR_MEASUREMENT_6': 15.49, 'SENSOR_MEASUREMENT_7': 394.94, 'SENSOR_MEASUREMENT_8': 2318.92, 'SENSOR_MEASUREMENT_9': 8778.02, 'SENSOR_MEASUREMENT_10': 1.26, 'SENSOR_MEASUREMENT_11': 45.45, 'SENSOR_MEASUREMENT_12': 371.67, 'SENSOR_MEASUREMENT_13': 2388.13, 'SENSOR_MEASUREMENT_14': 8126.32, 'SENSOR_MEASUREMENT_15': 8.6514, 'SENSOR_MEASUREMENT_16': 0.03, 'SENSOR_MEASUREMENT_17': 370.0, 'SENSOR_MEASUREMENT_18': 2319.0, 'SENSOR_MEASUREMENT_19': 100.0, 'SENSOR_MEASUREMENT_20': 28.46, 'SENSOR_MEASUREMENT_21': 17.1775}, {'FAULT': 'FD002', 'UNIT_NUMBER': 3, 'TIME_IN_CYCLES': 120, 'SENSOR_MEASUREMENT_1': 462.54, 'SENSOR_MEASUREMENT_2': 536.75, 'SENSOR_MEASUREMENT_3': 1262.27, 'SENSOR_MEASUREMENT_4': 1051.43, 'SENSOR_MEASUREMENT_5': 7.05, 'SENSOR_MEASUREMENT_6': 9.03, 'SENSOR_MEASUREMENT_7': 174.75, 'SENSOR_MEASUREMENT_8': 1915.25, 'SENSOR_MEASUREMENT_9': 8003.74, 'SENSOR_MEASUREMENT_10': 0.94, 'SENSOR_MEASUREMENT_11': 36.72, 'SENSOR_MEASUREMENT_12': 164.56, 'SENSOR_MEASUREMENT_13': 2028.15, 'SENSOR_MEASUREMENT_14': 7871.78, 'SENSOR_MEASUREMENT_15': 10.8539, 'SENSOR_MEASUREMENT_16': 0.02, 'SENSOR_MEASUREMENT_17': 308.0, 'SENSOR_MEASUREMENT_18': 1915.0, 'SENSOR_MEASUREMENT_19': 84.93, 'SENSOR_MEASUREMENT_20': 14.41, 'SENSOR_MEASUREMENT_21': 8.5794}, {'FAULT': 'FD002', 'UNIT_NUMBER': 3, 'TIME_IN_CYCLES': 121, 'SENSOR_MEASUREMENT_1': 489.05, 'SENSOR_MEASUREMENT_2': 604.93, 'SENSOR_MEASUREMENT_3': 1503.29, 'SENSOR_MEASUREMENT_4': 1316.06, 'SENSOR_MEASUREMENT_5': 10.52, 'SENSOR_MEASUREMENT_6': 15.49, 'SENSOR_MEASUREMENT_7': 395.16, 'SENSOR_MEASUREMENT_8': 2318.98, 'SENSOR_MEASUREMENT_9': 8776.15, 'SENSOR_MEASUREMENT_10': 1.26, 'SENSOR_MEASUREMENT_11': 45.49, 'SENSOR_MEASUREMENT_12': 371.53, 'SENSOR_MEASUREMENT_13': 2388.13, 'SENSOR_MEASUREMENT_14': 8121.01, 'SENSOR_MEASUREMENT_15': 8.6487, 'SENSOR_MEASUREMENT_16': 0.03, 'SENSOR_MEASUREMENT_17': 370.0, 'SENSOR_MEASUREMENT_18': 2319.0, 'SENSOR_MEASUREMENT_19': 100.0, 'SENSOR_MEASUREMENT_20': 28.58, 'SENSOR_MEASUREMENT_21': 17.1301}, {'FAULT': 'FD002', 'UNIT_NUMBER': 3, 'TIME_IN_CYCLES': 122, 'SENSOR_MEASUREMENT_1': 449.44, 'SENSOR_MEASUREMENT_2': 555.34, 'SENSOR_MEASUREMENT_3': 1362.1, 'SENSOR_MEASUREMENT_4': 1130.9, 'SENSOR_MEASUREMENT_5': 5.48, 'SENSOR_MEASUREMENT_6': 8.0, 'SENSOR_MEASUREMENT_7': 195.07, 'SENSOR_MEASUREMENT_8': 2222.9, 'SENSOR_MEASUREMENT_9': 8347.14, 'SENSOR_MEASUREMENT_10': 1.02, 'SENSOR_MEASUREMENT_11': 42.0, 'SENSOR_MEASUREMENT_12': 183.06, 'SENSOR_MEASUREMENT_13': 2387.93, 'SENSOR_MEASUREMENT_14': 8063.15, 'SENSOR_MEASUREMENT_15': 9.3193, 'SENSOR_MEASUREMENT_16': 0.02, 'SENSOR_MEASUREMENT_17': 335.0, 'SENSOR_MEASUREMENT_18': 2223.0, 'SENSOR_MEASUREMENT_19': 100.0, 'SENSOR_MEASUREMENT_20': 14.78, 'SENSOR_MEASUREMENT_21': 8.9467}, {'FAULT': 'FD002', 'UNIT_NUMBER': 3, 'TIME_IN_CYCLES': 123, 'SENSOR_MEASUREMENT_1': 462.54, 'SENSOR_MEASUREMENT_2': 537.29, 'SENSOR_MEASUREMENT_3': 1266.55, 'SENSOR_MEASUREMENT_4': 1048.47, 'SENSOR_MEASUREMENT_5': 7.05, 'SENSOR_MEASUREMENT_6': 9.02, 'SENSOR_MEASUREMENT_7': 175.45, 'SENSOR_MEASUREMENT_8': 1915.22, 'SENSOR_MEASUREMENT_9': 8001.8, 'SENSOR_MEASUREMENT_10': 0.94, 'SENSOR_MEASUREMENT_11': 36.82, 'SENSOR_MEASUREMENT_12': 164.97, 'SENSOR_MEASUREMENT_13': 2028.07, 'SENSOR_MEASUREMENT_14': 7864.97, 'SENSOR_MEASUREMENT_15': 10.9025, 'SENSOR_MEASUREMENT_16': 0.02, 'SENSOR_MEASUREMENT_17': 308.0, 'SENSOR_MEASUREMENT_18': 1915.0, 'SENSOR_MEASUREMENT_19': 84.93, 'SENSOR_MEASUREMENT_20': 14.35, 'SENSOR_MEASUREMENT_21': 8.7298}, {'FAULT': 'FD002', 'UNIT_NUMBER': 3, 'TIME_IN_CYCLES': 124, 'SENSOR_MEASUREMENT_1': 489.05, 'SENSOR_MEASUREMENT_2': 604.97, 'SENSOR_MEASUREMENT_3': 1501.48, 'SENSOR_MEASUREMENT_4': 1308.9, 'SENSOR_MEASUREMENT_5': 10.52, 'SENSOR_MEASUREMENT_6': 15.49, 'SENSOR_MEASUREMENT_7': 394.68, 'SENSOR_MEASUREMENT_8': 2318.93, 'SENSOR_MEASUREMENT_9': 8776.25, 'SENSOR_MEASUREMENT_10': 1.26, 'SENSOR_MEASUREMENT_11': 45.4, 'SENSOR_MEASUREMENT_12': 371.07, 'SENSOR_MEASUREMENT_13': 2388.15, 'SENSOR_MEASUREMENT_14': 8123.77, 'SENSOR_MEASUREMENT_15': 8.652, 'SENSOR_MEASUREMENT_16': 0.03, 'SENSOR_MEASUREMENT_17': 370.0, 'SENSOR_MEASUREMENT_18': 2319.0, 'SENSOR_MEASUREMENT_19': 100.0, 'SENSOR_MEASUREMENT_20': 28.51, 'SENSOR_MEASUREMENT_21': 17.1008}, {'FAULT': 'FD002', 'UNIT_NUMBER': 3, 'TIME_IN_CYCLES': 125, 'SENSOR_MEASUREMENT_1': 462.54, 'SENSOR_MEASUREMENT_2': 536.56, 'SENSOR_MEASUREMENT_3': 1263.73, 'SENSOR_MEASUREMENT_4': 1054.88, 'SENSOR_MEASUREMENT_5': 7.05, 'SENSOR_MEASUREMENT_6': 9.03, 'SENSOR_MEASUREMENT_7': 175.35, 'SENSOR_MEASUREMENT_8': 1915.31, 'SENSOR_MEASUREMENT_9': 8015.2, 'SENSOR_MEASUREMENT_10': 0.94, 'SENSOR_MEASUREMENT_11': 36.78, 'SENSOR_MEASUREMENT_12': 164.33, 'SENSOR_MEASUREMENT_13': 2028.18, 'SENSOR_MEASUREMENT_14': 7871.2, 'SENSOR_MEASUREMENT_15': 10.8904, 'SENSOR_MEASUREMENT_16': 0.02, 'SENSOR_MEASUREMENT_17': 309.0, 'SENSOR_MEASUREMENT_18': 1915.0, 'SENSOR_MEASUREMENT_19': 84.93, 'SENSOR_MEASUREMENT_20': 14.28, 'SENSOR_MEASUREMENT_21': 8.6803}, {'FAULT': 'FD002', 'UNIT_NUMBER': 3, 'TIME_IN_CYCLES': 126, 'SENSOR_MEASUREMENT_1': 489.05, 'SENSOR_MEASUREMENT_2': 604.8, 'SENSOR_MEASUREMENT_3': 1502.33, 'SENSOR_MEASUREMENT_4': 1311.59, 'SENSOR_MEASUREMENT_5': 10.52, 'SENSOR_MEASUREMENT_6': 15.49, 'SENSOR_MEASUREMENT_7': 394.27, 'SENSOR_MEASUREMENT_8': 2318.96, 'SENSOR_MEASUREMENT_9': 8771.73, 'SENSOR_MEASUREMENT_10': 1.26, 'SENSOR_MEASUREMENT_11': 45.41, 'SENSOR_MEASUREMENT_12': 371.53, 'SENSOR_MEASUREMENT_13': 2388.14, 'SENSOR_MEASUREMENT_14': 8126.44, 'SENSOR_MEASUREMENT_15': 8.6592, 'SENSOR_MEASUREMENT_16': 0.03, 'SENSOR_MEASUREMENT_17': 370.0, 'SENSOR_MEASUREMENT_18': 2319.0, 'SENSOR_MEASUREMENT_19': 100.0, 'SENSOR_MEASUREMENT_20': 28.59, 'SENSOR_MEASUREMENT_21': 17.152}, {'FAULT': 'FD002', 'UNIT_NUMBER': 3, 'TIME_IN_CYCLES': 127, 'SENSOR_MEASUREMENT_1': 489.05, 'SENSOR_MEASUREMENT_2': 604.87, 'SENSOR_MEASUREMENT_3': 1494.43, 'SENSOR_MEASUREMENT_4': 1313.01, 'SENSOR_MEASUREMENT_5': 10.52, 'SENSOR_MEASUREMENT_6': 15.49, 'SENSOR_MEASUREMENT_7': 393.64, 'SENSOR_MEASUREMENT_8': 2318.94, 'SENSOR_MEASUREMENT_9': 8773.36, 'SENSOR_MEASUREMENT_10': 1.26, 'SENSOR_MEASUREMENT_11': 45.45, 'SENSOR_MEASUREMENT_12': 371.45, 'SENSOR_MEASUREMENT_13': 2388.14, 'SENSOR_MEASUREMENT_14': 8132.06, 'SENSOR_MEASUREMENT_15': 8.6385, 'SENSOR_MEASUREMENT_16': 0.03, 'SENSOR_MEASUREMENT_17': 370.0, 'SENSOR_MEASUREMENT_18': 2319.0, 'SENSOR_MEASUREMENT_19': 100.0, 'SENSOR_MEASUREMENT_20': 28.53, 'SENSOR_MEASUREMENT_21': 17.1037}, {'FAULT': 'FD002', 'UNIT_NUMBER': 3, 'TIME_IN_CYCLES': 128, 'SENSOR_MEASUREMENT_1': 449.44, 'SENSOR_MEASUREMENT_2': 556.06, 'SENSOR_MEASUREMENT_3': 1361.23, 'SENSOR_MEASUREMENT_4': 1133.51, 'SENSOR_MEASUREMENT_5': 5.48, 'SENSOR_MEASUREMENT_6': 8.0, 'SENSOR_MEASUREMENT_7': 193.95, 'SENSOR_MEASUREMENT_8': 2222.94, 'SENSOR_MEASUREMENT_9': 8354.09, 'SENSOR_MEASUREMENT_10': 1.02, 'SENSOR_MEASUREMENT_11': 41.96, 'SENSOR_MEASUREMENT_12': 182.84, 'SENSOR_MEASUREMENT_13': 2387.97, 'SENSOR_MEASUREMENT_14': 8064.01, 'SENSOR_MEASUREMENT_15': 9.3331, 'SENSOR_MEASUREMENT_16': 0.02, 'SENSOR_MEASUREMENT_17': 335.0, 'SENSOR_MEASUREMENT_18': 2223.0, 'SENSOR_MEASUREMENT_19': 100.0, 'SENSOR_MEASUREMENT_20': 14.64, 'SENSOR_MEASUREMENT_21': 8.9441}, {'FAULT': 'FD002', 'UNIT_NUMBER': 3, 'TIME_IN_CYCLES': 129, 'SENSOR_MEASUREMENT_1': 489.05, 'SENSOR_MEASUREMENT_2': 604.81, 'SENSOR_MEASUREMENT_3': 1500.65, 'SENSOR_MEASUREMENT_4': 1312.18, 'SENSOR_MEASUREMENT_5': 10.52, 'SENSOR_MEASUREMENT_6': 15.49, 'SENSOR_MEASUREMENT_7': 393.69, 'SENSOR_MEASUREMENT_8': 2318.91, 'SENSOR_MEASUREMENT_9': 8776.99, 'SENSOR_MEASUREMENT_10': 1.26, 'SENSOR_MEASUREMENT_11': 45.63, 'SENSOR_MEASUREMENT_12': 371.38, 'SENSOR_MEASUREMENT_13': 2388.17, 'SENSOR_MEASUREMENT_14': 8131.47, 'SENSOR_MEASUREMENT_15': 8.6624, 'SENSOR_MEASUREMENT_16': 0.03, 'SENSOR_MEASUREMENT_17': 370.0, 'SENSOR_MEASUREMENT_18': 2319.0, 'SENSOR_MEASUREMENT_19': 100.0, 'SENSOR_MEASUREMENT_20': 28.64, 'SENSOR_MEASUREMENT_21': 17.1883}, {'FAULT': 'FD002', 'UNIT_NUMBER': 3, 'TIME_IN_CYCLES': 130, 'SENSOR_MEASUREMENT_1': 491.19, 'SENSOR_MEASUREMENT_2': 607.64, 'SENSOR_MEASUREMENT_3': 1482.04, 'SENSOR_MEASUREMENT_4': 1260.71, 'SENSOR_MEASUREMENT_5': 9.35, 'SENSOR_MEASUREMENT_6': 13.66, 'SENSOR_MEASUREMENT_7': 333.87, 'SENSOR_MEASUREMENT_8': 2323.94, 'SENSOR_MEASUREMENT_9': 8722.98, 'SENSOR_MEASUREMENT_10': 1.08, 'SENSOR_MEASUREMENT_11': 44.43, 'SENSOR_MEASUREMENT_12': 315.26, 'SENSOR_MEASUREMENT_13': 2388.04, 'SENSOR_MEASUREMENT_14': 8058.99, 'SENSOR_MEASUREMENT_15': 9.2089, 'SENSOR_MEASUREMENT_16': 0.02, 'SENSOR_MEASUREMENT_17': 365.0, 'SENSOR_MEASUREMENT_18': 2324.0, 'SENSOR_MEASUREMENT_19': 100.0, 'SENSOR_MEASUREMENT_20': 24.35, 'SENSOR_MEASUREMENT_21': 14.6532}, {'FAULT': 'FD002', 'UNIT_NUMBER': 3, 'TIME_IN_CYCLES': 131, 'SENSOR_MEASUREMENT_1': 445.0, 'SENSOR_MEASUREMENT_2': 549.27, 'SENSOR_MEASUREMENT_3': 1358.05, 'SENSOR_MEASUREMENT_4': 1127.18, 'SENSOR_MEASUREMENT_5': 3.91, 'SENSOR_MEASUREMENT_6': 5.72, 'SENSOR_MEASUREMENT_7': 137.73, 'SENSOR_MEASUREMENT_8': 2211.83, 'SENSOR_MEASUREMENT_9': 8321.65, 'SENSOR_MEASUREMENT_10': 1.02, 'SENSOR_MEASUREMENT_11': 42.16, 'SENSOR_MEASUREMENT_12': 130.18, 'SENSOR_MEASUREMENT_13': 2387.88, 'SENSOR_MEASUREMENT_14': 8082.34, 'SENSOR_MEASUREMENT_15': 9.3732, 'SENSOR_MEASUREMENT_16': 0.02, 'SENSOR_MEASUREMENT_17': 330.0, 'SENSOR_MEASUREMENT_18': 2212.0, 'SENSOR_MEASUREMENT_19': 100.0, 'SENSOR_MEASUREMENT_20': 10.63, 'SENSOR_MEASUREMENT_21': 6.3174}, {'FAULT': 'FD002', 'UNIT_NUMBER': 3, 'TIME_IN_CYCLES': 132, 'SENSOR_MEASUREMENT_1': 491.19, 'SENSOR_MEASUREMENT_2': 607.55, 'SENSOR_MEASUREMENT_3': 1483.7, 'SENSOR_MEASUREMENT_4': 1248.33, 'SENSOR_MEASUREMENT_5': 9.35, 'SENSOR_MEASUREMENT_6': 13.65, 'SENSOR_MEASUREMENT_7': 334.91, 'SENSOR_MEASUREMENT_8': 2323.99, 'SENSOR_MEASUREMENT_9': 8723.27, 'SENSOR_MEASUREMENT_10': 1.08, 'SENSOR_MEASUREMENT_11': 44.29, 'SENSOR_MEASUREMENT_12': 315.03, 'SENSOR_MEASUREMENT_13': 2388.0, 'SENSOR_MEASUREMENT_14': 8060.29, 'SENSOR_MEASUREMENT_15': 9.2406, 'SENSOR_MEASUREMENT_16': 0.02, 'SENSOR_MEASUREMENT_17': 365.0, 'SENSOR_MEASUREMENT_18': 2324.0, 'SENSOR_MEASUREMENT_19': 100.0, 'SENSOR_MEASUREMENT_20': 24.22, 'SENSOR_MEASUREMENT_21': 14.8334}, {'FAULT': 'FD002', 'UNIT_NUMBER': 3, 'TIME_IN_CYCLES': 133, 'SENSOR_MEASUREMENT_1': 518.67, 'SENSOR_MEASUREMENT_2': 642.51, 'SENSOR_MEASUREMENT_3': 1592.66, 'SENSOR_MEASUREMENT_4': 1404.68, 'SENSOR_MEASUREMENT_5': 14.62, 'SENSOR_MEASUREMENT_6': 21.61, 'SENSOR_MEASUREMENT_7': 553.31, 'SENSOR_MEASUREMENT_8': 2388.15, 'SENSOR_MEASUREMENT_9': 9049.41, 'SENSOR_MEASUREMENT_10': 1.3, 'SENSOR_MEASUREMENT_11': 47.58, 'SENSOR_MEASUREMENT_12': 521.65, 'SENSOR_MEASUREMENT_13': 2388.09, 'SENSOR_MEASUREMENT_14': 8132.93, 'SENSOR_MEASUREMENT_15': 8.4651, 'SENSOR_MEASUREMENT_16': 0.03, 'SENSOR_MEASUREMENT_17': 393.0, 'SENSOR_MEASUREMENT_18': 2388.0, 'SENSOR_MEASUREMENT_19': 100.0, 'SENSOR_MEASUREMENT_20': 38.71, 'SENSOR_MEASUREMENT_21': 23.3002}, {'FAULT': 'FD002', 'UNIT_NUMBER': 3, 'TIME_IN_CYCLES': 134, 'SENSOR_MEASUREMENT_1': 489.05, 'SENSOR_MEASUREMENT_2': 604.27, 'SENSOR_MEASUREMENT_3': 1497.55, 'SENSOR_MEASUREMENT_4': 1309.23, 'SENSOR_MEASUREMENT_5': 10.52, 'SENSOR_MEASUREMENT_6': 15.49, 'SENSOR_MEASUREMENT_7': 394.09, 'SENSOR_MEASUREMENT_8': 2318.96, 'SENSOR_MEASUREMENT_9': 8779.72, 'SENSOR_MEASUREMENT_10': 1.26, 'SENSOR_MEASUREMENT_11': 45.42, 'SENSOR_MEASUREMENT_12': 371.75, 'SENSOR_MEASUREMENT_13': 2388.13, 'SENSOR_MEASUREMENT_14': 8128.47, 'SENSOR_MEASUREMENT_15': 8.6767, 'SENSOR_MEASUREMENT_16': 0.03, 'SENSOR_MEASUREMENT_17': 370.0, 'SENSOR_MEASUREMENT_18': 2319.0, 'SENSOR_MEASUREMENT_19': 100.0, 'SENSOR_MEASUREMENT_20': 28.49, 'SENSOR_MEASUREMENT_21': 17.1378}, {'FAULT': 'FD002', 'UNIT_NUMBER': 3, 'TIME_IN_CYCLES': 135, 'SENSOR_MEASUREMENT_1': 445.0, 'SENSOR_MEASUREMENT_2': 549.8, 'SENSOR_MEASUREMENT_3': 1354.71, 'SENSOR_MEASUREMENT_4': 1129.48, 'SENSOR_MEASUREMENT_5': 3.91, 'SENSOR_MEASUREMENT_6': 5.72, 'SENSOR_MEASUREMENT_7': 138.77, 'SENSOR_MEASUREMENT_8': 2211.86, 'SENSOR_MEASUREMENT_9': 8320.67, 'SENSOR_MEASUREMENT_10': 1.02, 'SENSOR_MEASUREMENT_11': 42.04, 'SENSOR_MEASUREMENT_12': 130.39, 'SENSOR_MEASUREMENT_13': 2387.92, 'SENSOR_MEASUREMENT_14': 8077.49, 'SENSOR_MEASUREMENT_15': 9.3994, 'SENSOR_MEASUREMENT_16': 0.02, 'SENSOR_MEASUREMENT_17': 331.0, 'SENSOR_MEASUREMENT_18': 2212.0, 'SENSOR_MEASUREMENT_19': 100.0, 'SENSOR_MEASUREMENT_20': 10.84, 'SENSOR_MEASUREMENT_21': 6.4075}, {'FAULT': 'FD002', 'UNIT_NUMBER': 3, 'TIME_IN_CYCLES': 136, 'SENSOR_MEASUREMENT_1': 489.05, 'SENSOR_MEASUREMENT_2': 604.84, 'SENSOR_MEASUREMENT_3': 1501.07, 'SENSOR_MEASUREMENT_4': 1319.09, 'SENSOR_MEASUREMENT_5': 10.52, 'SENSOR_MEASUREMENT_6': 15.49, 'SENSOR_MEASUREMENT_7': 394.44, 'SENSOR_MEASUREMENT_8': 2319.0, 'SENSOR_MEASUREMENT_9': 8781.89, 'SENSOR_MEASUREMENT_10': 1.26, 'SENSOR_MEASUREMENT_11': 45.35, 'SENSOR_MEASUREMENT_12': 372.25, 'SENSOR_MEASUREMENT_13': 2388.21, 'SENSOR_MEASUREMENT_14': 8130.58, 'SENSOR_MEASUREMENT_15': 8.6384, 'SENSOR_MEASUREMENT_16': 0.03, 'SENSOR_MEASUREMENT_17': 369.0, 'SENSOR_MEASUREMENT_18': 2319.0, 'SENSOR_MEASUREMENT_19': 100.0, 'SENSOR_MEASUREMENT_20': 28.5, 'SENSOR_MEASUREMENT_21': 17.1192}, {'FAULT': 'FD002', 'UNIT_NUMBER': 3, 'TIME_IN_CYCLES': 137, 'SENSOR_MEASUREMENT_1': 462.54, 'SENSOR_MEASUREMENT_2': 536.83, 'SENSOR_MEASUREMENT_3': 1255.94, 'SENSOR_MEASUREMENT_4': 1055.22, 'SENSOR_MEASUREMENT_5': 7.05, 'SENSOR_MEASUREMENT_6': 9.03, 'SENSOR_MEASUREMENT_7': 175.37, 'SENSOR_MEASUREMENT_8': 1915.33, 'SENSOR_MEASUREMENT_9': 8005.8, 'SENSOR_MEASUREMENT_10': 0.94, 'SENSOR_MEASUREMENT_11': 36.84, 'SENSOR_MEASUREMENT_12': 164.35, 'SENSOR_MEASUREMENT_13': 2028.19, 'SENSOR_MEASUREMENT_14': 7873.51, 'SENSOR_MEASUREMENT_15': 10.9367, 'SENSOR_MEASUREMENT_16': 0.02, 'SENSOR_MEASUREMENT_17': 306.0, 'SENSOR_MEASUREMENT_18': 1915.0, 'SENSOR_MEASUREMENT_19': 84.93, 'SENSOR_MEASUREMENT_20': 14.34, 'SENSOR_MEASUREMENT_21': 8.54}, {'FAULT': 'FD002', 'UNIT_NUMBER': 3, 'TIME_IN_CYCLES': 138, 'SENSOR_MEASUREMENT_1': 491.19, 'SENSOR_MEASUREMENT_2': 607.26, 'SENSOR_MEASUREMENT_3': 1478.64, 'SENSOR_MEASUREMENT_4': 1249.84, 'SENSOR_MEASUREMENT_5': 9.35, 'SENSOR_MEASUREMENT_6': 13.65, 'SENSOR_MEASUREMENT_7': 334.68, 'SENSOR_MEASUREMENT_8': 2323.9, 'SENSOR_MEASUREMENT_9': 8723.47, 'SENSOR_MEASUREMENT_10': 1.08, 'SENSOR_MEASUREMENT_11': 44.33, 'SENSOR_MEASUREMENT_12': 314.99, 'SENSOR_MEASUREMENT_13': 2388.1, 'SENSOR_MEASUREMENT_14': 8059.37, 'SENSOR_MEASUREMENT_15': 9.2196, 'SENSOR_MEASUREMENT_16': 0.02, 'SENSOR_MEASUREMENT_17': 365.0, 'SENSOR_MEASUREMENT_18': 2324.0, 'SENSOR_MEASUREMENT_19': 100.0, 'SENSOR_MEASUREMENT_20': 24.44, 'SENSOR_MEASUREMENT_21': 14.6548}, {'FAULT': 'FD002', 'UNIT_NUMBER': 3, 'TIME_IN_CYCLES': 139, 'SENSOR_MEASUREMENT_1': 491.19, 'SENSOR_MEASUREMENT_2': 607.16, 'SENSOR_MEASUREMENT_3': 1481.89, 'SENSOR_MEASUREMENT_4': 1251.21, 'SENSOR_MEASUREMENT_5': 9.35, 'SENSOR_MEASUREMENT_6': 13.66, 'SENSOR_MEASUREMENT_7': 334.25, 'SENSOR_MEASUREMENT_8': 2323.94, 'SENSOR_MEASUREMENT_9': 8720.1, 'SENSOR_MEASUREMENT_10': 1.08, 'SENSOR_MEASUREMENT_11': 44.44, 'SENSOR_MEASUREMENT_12': 315.09, 'SENSOR_MEASUREMENT_13': 2388.1, 'SENSOR_MEASUREMENT_14': 8059.65, 'SENSOR_MEASUREMENT_15': 9.2133, 'SENSOR_MEASUREMENT_16': 0.02, 'SENSOR_MEASUREMENT_17': 365.0, 'SENSOR_MEASUREMENT_18': 2324.0, 'SENSOR_MEASUREMENT_19': 100.0, 'SENSOR_MEASUREMENT_20': 24.47, 'SENSOR_MEASUREMENT_21': 14.671}, {'FAULT': 'FD002', 'UNIT_NUMBER': 3, 'TIME_IN_CYCLES': 140, 'SENSOR_MEASUREMENT_1': 462.54, 'SENSOR_MEASUREMENT_2': 536.72, 'SENSOR_MEASUREMENT_3': 1262.94, 'SENSOR_MEASUREMENT_4': 1049.78, 'SENSOR_MEASUREMENT_5': 7.05, 'SENSOR_MEASUREMENT_6': 9.03, 'SENSOR_MEASUREMENT_7': 175.19, 'SENSOR_MEASUREMENT_8': 1915.28, 'SENSOR_MEASUREMENT_9': 8007.09, 'SENSOR_MEASUREMENT_10': 0.94, 'SENSOR_MEASUREMENT_11': 36.68, 'SENSOR_MEASUREMENT_12': 164.68, 'SENSOR_MEASUREMENT_13': 2028.27, 'SENSOR_MEASUREMENT_14': 7875.6, 'SENSOR_MEASUREMENT_15': 10.8942, 'SENSOR_MEASUREMENT_16': 0.02, 'SENSOR_MEASUREMENT_17': 308.0, 'SENSOR_MEASUREMENT_18': 1915.0, 'SENSOR_MEASUREMENT_19': 84.93, 'SENSOR_MEASUREMENT_20': 14.38, 'SENSOR_MEASUREMENT_21': 8.4871}, {'FAULT': 'FD002', 'UNIT_NUMBER': 3, 'TIME_IN_CYCLES': 141, 'SENSOR_MEASUREMENT_1': 491.19, 'SENSOR_MEASUREMENT_2': 607.36, 'SENSOR_MEASUREMENT_3': 1491.77, 'SENSOR_MEASUREMENT_4': 1252.74, 'SENSOR_MEASUREMENT_5': 9.35, 'SENSOR_MEASUREMENT_6': 13.66, 'SENSOR_MEASUREMENT_7': 334.1, 'SENSOR_MEASUREMENT_8': 2324.03, 'SENSOR_MEASUREMENT_9': 8720.17, 'SENSOR_MEASUREMENT_10': 1.08, 'SENSOR_MEASUREMENT_11': 44.41, 'SENSOR_MEASUREMENT_12': 314.46, 'SENSOR_MEASUREMENT_13': 2388.08, 'SENSOR_MEASUREMENT_14': 8061.19, 'SENSOR_MEASUREMENT_15': 9.2358, 'SENSOR_MEASUREMENT_16': 0.02, 'SENSOR_MEASUREMENT_17': 364.0, 'SENSOR_MEASUREMENT_18': 2324.0, 'SENSOR_MEASUREMENT_19': 100.0, 'SENSOR_MEASUREMENT_20': 24.48, 'SENSOR_MEASUREMENT_21': 14.7049}, {'FAULT': 'FD002', 'UNIT_NUMBER': 3, 'TIME_IN_CYCLES': 142, 'SENSOR_MEASUREMENT_1': 462.54, 'SENSOR_MEASUREMENT_2': 536.79, 'SENSOR_MEASUREMENT_3': 1265.13, 'SENSOR_MEASUREMENT_4': 1046.95, 'SENSOR_MEASUREMENT_5': 7.05, 'SENSOR_MEASUREMENT_6': 9.03, 'SENSOR_MEASUREMENT_7': 175.52, 'SENSOR_MEASUREMENT_8': 1915.27, 'SENSOR_MEASUREMENT_9': 8015.53, 'SENSOR_MEASUREMENT_10': 0.94, 'SENSOR_MEASUREMENT_11': 36.72, 'SENSOR_MEASUREMENT_12': 164.71, 'SENSOR_MEASUREMENT_13': 2028.2, 'SENSOR_MEASUREMENT_14': 7867.92, 'SENSOR_MEASUREMENT_15': 10.8915, 'SENSOR_MEASUREMENT_16': 0.02, 'SENSOR_MEASUREMENT_17': 306.0, 'SENSOR_MEASUREMENT_18': 1915.0, 'SENSOR_MEASUREMENT_19': 84.93, 'SENSOR_MEASUREMENT_20': 14.28, 'SENSOR_MEASUREMENT_21': 8.6174}, {'FAULT': 'FD002', 'UNIT_NUMBER': 3, 'TIME_IN_CYCLES': 143, 'SENSOR_MEASUREMENT_1': 445.0, 'SENSOR_MEASUREMENT_2': 549.63, 'SENSOR_MEASUREMENT_3': 1348.38, 'SENSOR_MEASUREMENT_4': 1124.59, 'SENSOR_MEASUREMENT_5': 3.91, 'SENSOR_MEASUREMENT_6': 5.71, 'SENSOR_MEASUREMENT_7': 139.07, 'SENSOR_MEASUREMENT_8': 2211.86, 'SENSOR_MEASUREMENT_9': 8316.6, 'SENSOR_MEASUREMENT_10': 1.02, 'SENSOR_MEASUREMENT_11': 42.04, 'SENSOR_MEASUREMENT_12': 130.36, 'SENSOR_MEASUREMENT_13': 2387.91, 'SENSOR_MEASUREMENT_14': 8081.98, 'SENSOR_MEASUREMENT_15': 9.3786, 'SENSOR_MEASUREMENT_16': 0.02, 'SENSOR_MEASUREMENT_17': 331.0, 'SENSOR_MEASUREMENT_18': 2212.0, 'SENSOR_MEASUREMENT_19': 100.0, 'SENSOR_MEASUREMENT_20': 10.75, 'SENSOR_MEASUREMENT_21': 6.3362}, {'FAULT': 'FD002', 'UNIT_NUMBER': 3, 'TIME_IN_CYCLES': 144, 'SENSOR_MEASUREMENT_1': 449.44, 'SENSOR_MEASUREMENT_2': 556.04, 'SENSOR_MEASUREMENT_3': 1361.68, 'SENSOR_MEASUREMENT_4': 1124.13, 'SENSOR_MEASUREMENT_5': 5.48, 'SENSOR_MEASUREMENT_6': 8.0, 'SENSOR_MEASUREMENT_7': 194.84, 'SENSOR_MEASUREMENT_8': 2222.91, 'SENSOR_MEASUREMENT_9': 8345.25, 'SENSOR_MEASUREMENT_10': 1.02, 'SENSOR_MEASUREMENT_11': 41.84, 'SENSOR_MEASUREMENT_12': 182.92, 'SENSOR_MEASUREMENT_13': 2387.99, 'SENSOR_MEASUREMENT_14': 8062.52, 'SENSOR_MEASUREMENT_15': 9.354, 'SENSOR_MEASUREMENT_16': 0.02, 'SENSOR_MEASUREMENT_17': 334.0, 'SENSOR_MEASUREMENT_18': 2223.0, 'SENSOR_MEASUREMENT_19': 100.0, 'SENSOR_MEASUREMENT_20': 14.78, 'SENSOR_MEASUREMENT_21': 8.7922}, {'FAULT': 'FD002', 'UNIT_NUMBER': 3, 'TIME_IN_CYCLES': 145, 'SENSOR_MEASUREMENT_1': 445.0, 'SENSOR_MEASUREMENT_2': 549.22, 'SENSOR_MEASUREMENT_3': 1358.81, 'SENSOR_MEASUREMENT_4': 1127.97, 'SENSOR_MEASUREMENT_5': 3.91, 'SENSOR_MEASUREMENT_6': 5.72, 'SENSOR_MEASUREMENT_7': 138.58, 'SENSOR_MEASUREMENT_8': 2211.86, 'SENSOR_MEASUREMENT_9': 8318.52, 'SENSOR_MEASUREMENT_10': 1.02, 'SENSOR_MEASUREMENT_11': 42.12, 'SENSOR_MEASUREMENT_12': 130.7, 'SENSOR_MEASUREMENT_13': 2387.94, 'SENSOR_MEASUREMENT_14': 8084.73, 'SENSOR_MEASUREMENT_15': 9.3934, 'SENSOR_MEASUREMENT_16': 0.02, 'SENSOR_MEASUREMENT_17': 330.0, 'SENSOR_MEASUREMENT_18': 2212.0, 'SENSOR_MEASUREMENT_19': 100.0, 'SENSOR_MEASUREMENT_20': 10.46, 'SENSOR_MEASUREMENT_21': 6.3348}, {'FAULT': 'FD002', 'UNIT_NUMBER': 3, 'TIME_IN_CYCLES': 146, 'SENSOR_MEASUREMENT_1': 489.05, 'SENSOR_MEASUREMENT_2': 604.96, 'SENSOR_MEASUREMENT_3': 1496.97, 'SENSOR_MEASUREMENT_4': 1305.8, 'SENSOR_MEASUREMENT_5': 10.52, 'SENSOR_MEASUREMENT_6': 15.49, 'SENSOR_MEASUREMENT_7': 394.82, 'SENSOR_MEASUREMENT_8': 2318.93, 'SENSOR_MEASUREMENT_9': 8775.99, 'SENSOR_MEASUREMENT_10': 1.26, 'SENSOR_MEASUREMENT_11': 45.66, 'SENSOR_MEASUREMENT_12': 371.02, 'SENSOR_MEASUREMENT_13': 2388.14, 'SENSOR_MEASUREMENT_14': 8127.93, 'SENSOR_MEASUREMENT_15': 8.6755, 'SENSOR_MEASUREMENT_16': 0.03, 'SENSOR_MEASUREMENT_17': 370.0, 'SENSOR_MEASUREMENT_18': 2319.0, 'SENSOR_MEASUREMENT_19': 100.0, 'SENSOR_MEASUREMENT_20': 28.58, 'SENSOR_MEASUREMENT_21': 17.1896}, {'FAULT': 'FD002', 'UNIT_NUMBER': 3, 'TIME_IN_CYCLES': 147, 'SENSOR_MEASUREMENT_1': 445.0, 'SENSOR_MEASUREMENT_2': 549.51, 'SENSOR_MEASUREMENT_3': 1347.35, 'SENSOR_MEASUREMENT_4': 1130.55, 'SENSOR_MEASUREMENT_5': 3.91, 'SENSOR_MEASUREMENT_6': 5.71, 'SENSOR_MEASUREMENT_7': 138.86, 'SENSOR_MEASUREMENT_8': 2211.87, 'SENSOR_MEASUREMENT_9': 8319.49, 'SENSOR_MEASUREMENT_10': 1.02, 'SENSOR_MEASUREMENT_11': 42.1, 'SENSOR_MEASUREMENT_12': 130.56, 'SENSOR_MEASUREMENT_13': 2387.94, 'SENSOR_MEASUREMENT_14': 8080.98, 'SENSOR_MEASUREMENT_15': 9.3859, 'SENSOR_MEASUREMENT_16': 0.02, 'SENSOR_MEASUREMENT_17': 330.0, 'SENSOR_MEASUREMENT_18': 2212.0, 'SENSOR_MEASUREMENT_19': 100.0, 'SENSOR_MEASUREMENT_20': 10.72, 'SENSOR_MEASUREMENT_21': 6.2856}, {'FAULT': 'FD002', 'UNIT_NUMBER': 3, 'TIME_IN_CYCLES': 148, 'SENSOR_MEASUREMENT_1': 491.19, 'SENSOR_MEASUREMENT_2': 607.39, 'SENSOR_MEASUREMENT_3': 1491.5, 'SENSOR_MEASUREMENT_4': 1250.07, 'SENSOR_MEASUREMENT_5': 9.35, 'SENSOR_MEASUREMENT_6': 13.66, 'SENSOR_MEASUREMENT_7': 333.56, 'SENSOR_MEASUREMENT_8': 2323.96, 'SENSOR_MEASUREMENT_9': 8717.09, 'SENSOR_MEASUREMENT_10': 1.08, 'SENSOR_MEASUREMENT_11': 44.59, 'SENSOR_MEASUREMENT_12': 314.54, 'SENSOR_MEASUREMENT_13': 2388.11, 'SENSOR_MEASUREMENT_14': 8058.68, 'SENSOR_MEASUREMENT_15': 9.2593, 'SENSOR_MEASUREMENT_16': 0.02, 'SENSOR_MEASUREMENT_17': 366.0, 'SENSOR_MEASUREMENT_18': 2324.0, 'SENSOR_MEASUREMENT_19': 100.0, 'SENSOR_MEASUREMENT_20': 24.38, 'SENSOR_MEASUREMENT_21': 14.6763}, {'FAULT': 'FD002', 'UNIT_NUMBER': 3, 'TIME_IN_CYCLES': 149, 'SENSOR_MEASUREMENT_1': 518.67, 'SENSOR_MEASUREMENT_2': 642.42, 'SENSOR_MEASUREMENT_3': 1583.05, 'SENSOR_MEASUREMENT_4': 1406.08, 'SENSOR_MEASUREMENT_5': 14.62, 'SENSOR_MEASUREMENT_6': 21.61, 'SENSOR_MEASUREMENT_7': 553.56, 'SENSOR_MEASUREMENT_8': 2388.15, 'SENSOR_MEASUREMENT_9': 9059.81, 'SENSOR_MEASUREMENT_10': 1.3, 'SENSOR_MEASUREMENT_11': 47.5, 'SENSOR_MEASUREMENT_12': 521.07, 'SENSOR_MEASUREMENT_13': 2388.13, 'SENSOR_MEASUREMENT_14': 8134.53, 'SENSOR_MEASUREMENT_15': 8.4564, 'SENSOR_MEASUREMENT_16': 0.03, 'SENSOR_MEASUREMENT_17': 392.0, 'SENSOR_MEASUREMENT_18': 2388.0, 'SENSOR_MEASUREMENT_19': 100.0, 'SENSOR_MEASUREMENT_20': 38.72, 'SENSOR_MEASUREMENT_21': 23.4065}, {'FAULT': 'FD002', 'UNIT_NUMBER': 3, 'TIME_IN_CYCLES': 150, 'SENSOR_MEASUREMENT_1': 445.0, 'SENSOR_MEASUREMENT_2': 549.42, 'SENSOR_MEASUREMENT_3': 1353.63, 'SENSOR_MEASUREMENT_4': 1126.17, 'SENSOR_MEASUREMENT_5': 3.91, 'SENSOR_MEASUREMENT_6': 5.71, 'SENSOR_MEASUREMENT_7': 138.72, 'SENSOR_MEASUREMENT_8': 2211.86, 'SENSOR_MEASUREMENT_9': 8320.76, 'SENSOR_MEASUREMENT_10': 1.02, 'SENSOR_MEASUREMENT_11': 42.23, 'SENSOR_MEASUREMENT_12': 130.92, 'SENSOR_MEASUREMENT_13': 2388.01, 'SENSOR_MEASUREMENT_14': 8079.62, 'SENSOR_MEASUREMENT_15': 9.3908, 'SENSOR_MEASUREMENT_16': 0.02, 'SENSOR_MEASUREMENT_17': 331.0, 'SENSOR_MEASUREMENT_18': 2212.0, 'SENSOR_MEASUREMENT_19': 100.0, 'SENSOR_MEASUREMENT_20': 10.75, 'SENSOR_MEASUREMENT_21': 6.349}, {'FAULT': 'FD002', 'UNIT_NUMBER': 3, 'TIME_IN_CYCLES': 151, 'SENSOR_MEASUREMENT_1': 518.67, 'SENSOR_MEASUREMENT_2': 642.73, 'SENSOR_MEASUREMENT_3': 1586.85, 'SENSOR_MEASUREMENT_4': 1404.24, 'SENSOR_MEASUREMENT_5': 14.62, 'SENSOR_MEASUREMENT_6': 21.61, 'SENSOR_MEASUREMENT_7': 553.28, 'SENSOR_MEASUREMENT_8': 2388.14, 'SENSOR_MEASUREMENT_9': 9053.15, 'SENSOR_MEASUREMENT_10': 1.3, 'SENSOR_MEASUREMENT_11': 47.64, 'SENSOR_MEASUREMENT_12': 521.63, 'SENSOR_MEASUREMENT_13': 2388.14, 'SENSOR_MEASUREMENT_14': 8130.85, 'SENSOR_MEASUREMENT_15': 8.4218, 'SENSOR_MEASUREMENT_16': 0.03, 'SENSOR_MEASUREMENT_17': 394.0, 'SENSOR_MEASUREMENT_18': 2388.0, 'SENSOR_MEASUREMENT_19': 100.0, 'SENSOR_MEASUREMENT_20': 38.78, 'SENSOR_MEASUREMENT_21': 23.3642}, {'FAULT': 'FD002', 'UNIT_NUMBER': 3, 'TIME_IN_CYCLES': 152, 'SENSOR_MEASUREMENT_1': 491.19, 'SENSOR_MEASUREMENT_2': 607.68, 'SENSOR_MEASUREMENT_3': 1482.54, 'SENSOR_MEASUREMENT_4': 1254.69, 'SENSOR_MEASUREMENT_5': 9.35, 'SENSOR_MEASUREMENT_6': 13.66, 'SENSOR_MEASUREMENT_7': 334.46, 'SENSOR_MEASUREMENT_8': 2324.0, 'SENSOR_MEASUREMENT_9': 8725.12, 'SENSOR_MEASUREMENT_10': 1.07, 'SENSOR_MEASUREMENT_11': 44.4, 'SENSOR_MEASUREMENT_12': 315.22, 'SENSOR_MEASUREMENT_13': 2388.09, 'SENSOR_MEASUREMENT_14': 8061.83, 'SENSOR_MEASUREMENT_15': 9.2411, 'SENSOR_MEASUREMENT_16': 0.02, 'SENSOR_MEASUREMENT_17': 366.0, 'SENSOR_MEASUREMENT_18': 2324.0, 'SENSOR_MEASUREMENT_19': 100.0, 'SENSOR_MEASUREMENT_20': 24.48, 'SENSOR_MEASUREMENT_21': 14.6579}, {'FAULT': 'FD002', 'UNIT_NUMBER': 3, 'TIME_IN_CYCLES': 153, 'SENSOR_MEASUREMENT_1': 445.0, 'SENSOR_MEASUREMENT_2': 549.67, 'SENSOR_MEASUREMENT_3': 1350.42, 'SENSOR_MEASUREMENT_4': 1131.8, 'SENSOR_MEASUREMENT_5': 3.91, 'SENSOR_MEASUREMENT_6': 5.72, 'SENSOR_MEASUREMENT_7': 138.32, 'SENSOR_MEASUREMENT_8': 2211.85, 'SENSOR_MEASUREMENT_9': 8324.7, 'SENSOR_MEASUREMENT_10': 1.02, 'SENSOR_MEASUREMENT_11': 42.08, 'SENSOR_MEASUREMENT_12': 130.16, 'SENSOR_MEASUREMENT_13': 2387.89, 'SENSOR_MEASUREMENT_14': 8080.79, 'SENSOR_MEASUREMENT_15': 9.378, 'SENSOR_MEASUREMENT_16': 0.02, 'SENSOR_MEASUREMENT_17': 332.0, 'SENSOR_MEASUREMENT_18': 2212.0, 'SENSOR_MEASUREMENT_19': 100.0, 'SENSOR_MEASUREMENT_20': 10.59, 'SENSOR_MEASUREMENT_21': 6.3117}, {'FAULT': 'FD002', 'UNIT_NUMBER': 3, 'TIME_IN_CYCLES': 154, 'SENSOR_MEASUREMENT_1': 518.67, 'SENSOR_MEASUREMENT_2': 642.84, 'SENSOR_MEASUREMENT_3': 1597.14, 'SENSOR_MEASUREMENT_4': 1398.89, 'SENSOR_MEASUREMENT_5': 14.62, 'SENSOR_MEASUREMENT_6': 21.61, 'SENSOR_MEASUREMENT_7': 553.37, 'SENSOR_MEASUREMENT_8': 2388.13, 'SENSOR_MEASUREMENT_9': 9061.88, 'SENSOR_MEASUREMENT_10': 1.3, 'SENSOR_MEASUREMENT_11': 47.59, 'SENSOR_MEASUREMENT_12': 521.08, 'SENSOR_MEASUREMENT_13': 2388.13, 'SENSOR_MEASUREMENT_14': 8135.64, 'SENSOR_MEASUREMENT_15': 8.4431, 'SENSOR_MEASUREMENT_16': 0.03, 'SENSOR_MEASUREMENT_17': 393.0, 'SENSOR_MEASUREMENT_18': 2388.0, 'SENSOR_MEASUREMENT_19': 100.0, 'SENSOR_MEASUREMENT_20': 38.72, 'SENSOR_MEASUREMENT_21': 23.2664}, {'FAULT': 'FD002', 'UNIT_NUMBER': 3, 'TIME_IN_CYCLES': 155, 'SENSOR_MEASUREMENT_1': 491.19, 'SENSOR_MEASUREMENT_2': 607.52, 'SENSOR_MEASUREMENT_3': 1485.29, 'SENSOR_MEASUREMENT_4': 1248.09, 'SENSOR_MEASUREMENT_5': 9.35, 'SENSOR_MEASUREMENT_6': 13.66, 'SENSOR_MEASUREMENT_7': 334.0, 'SENSOR_MEASUREMENT_8': 2323.92, 'SENSOR_MEASUREMENT_9': 8722.19, 'SENSOR_MEASUREMENT_10': 1.07, 'SENSOR_MEASUREMENT_11': 44.41, 'SENSOR_MEASUREMENT_12': 315.32, 'SENSOR_MEASUREMENT_13': 2388.14, 'SENSOR_MEASUREMENT_14': 8060.14, 'SENSOR_MEASUREMENT_15': 9.2352, 'SENSOR_MEASUREMENT_16': 0.02, 'SENSOR_MEASUREMENT_17': 366.0, 'SENSOR_MEASUREMENT_18': 2324.0, 'SENSOR_MEASUREMENT_19': 100.0, 'SENSOR_MEASUREMENT_20': 24.5, 'SENSOR_MEASUREMENT_21': 14.6067}, {'FAULT': 'FD002', 'UNIT_NUMBER': 3, 'TIME_IN_CYCLES': 156, 'SENSOR_MEASUREMENT_1': 489.05, 'SENSOR_MEASUREMENT_2': 604.39, 'SENSOR_MEASUREMENT_3': 1500.63, 'SENSOR_MEASUREMENT_4': 1314.79, 'SENSOR_MEASUREMENT_5': 10.52, 'SENSOR_MEASUREMENT_6': 15.49, 'SENSOR_MEASUREMENT_7': 394.48, 'SENSOR_MEASUREMENT_8': 2318.92, 'SENSOR_MEASUREMENT_9': 8778.1, 'SENSOR_MEASUREMENT_10': 1.26, 'SENSOR_MEASUREMENT_11': 45.6, 'SENSOR_MEASUREMENT_12': 371.39, 'SENSOR_MEASUREMENT_13': 2388.17, 'SENSOR_MEASUREMENT_14': 8126.72, 'SENSOR_MEASUREMENT_15': 8.6655, 'SENSOR_MEASUREMENT_16': 0.03, 'SENSOR_MEASUREMENT_17': 369.0, 'SENSOR_MEASUREMENT_18': 2319.0, 'SENSOR_MEASUREMENT_19': 100.0, 'SENSOR_MEASUREMENT_20': 28.56, 'SENSOR_MEASUREMENT_21': 17.1237}, {'FAULT': 'FD002', 'UNIT_NUMBER': 3, 'TIME_IN_CYCLES': 157, 'SENSOR_MEASUREMENT_1': 518.67, 'SENSOR_MEASUREMENT_2': 642.69, 'SENSOR_MEASUREMENT_3': 1592.43, 'SENSOR_MEASUREMENT_4': 1411.95, 'SENSOR_MEASUREMENT_5': 14.62, 'SENSOR_MEASUREMENT_6': 21.61, 'SENSOR_MEASUREMENT_7': 553.37, 'SENSOR_MEASUREMENT_8': 2388.06, 'SENSOR_MEASUREMENT_9': 9064.6, 'SENSOR_MEASUREMENT_10': 1.3, 'SENSOR_MEASUREMENT_11': 47.47, 'SENSOR_MEASUREMENT_12': 521.35, 'SENSOR_MEASUREMENT_13': 2388.15, 'SENSOR_MEASUREMENT_14': 8136.38, 'SENSOR_MEASUREMENT_15': 8.4306, 'SENSOR_MEASUREMENT_16': 0.03, 'SENSOR_MEASUREMENT_17': 391.0, 'SENSOR_MEASUREMENT_18': 2388.0, 'SENSOR_MEASUREMENT_19': 100.0, 'SENSOR_MEASUREMENT_20': 38.97, 'SENSOR_MEASUREMENT_21': 23.2672}, {'FAULT': 'FD002', 'UNIT_NUMBER': 3, 'TIME_IN_CYCLES': 158, 'SENSOR_MEASUREMENT_1': 491.19, 'SENSOR_MEASUREMENT_2': 607.27, 'SENSOR_MEASUREMENT_3': 1488.98, 'SENSOR_MEASUREMENT_4': 1259.15, 'SENSOR_MEASUREMENT_5': 9.35, 'SENSOR_MEASUREMENT_6': 13.65, 'SENSOR_MEASUREMENT_7': 334.63, 'SENSOR_MEASUREMENT_8': 2323.97, 'SENSOR_MEASUREMENT_9': 8728.68, 'SENSOR_MEASUREMENT_10': 1.08, 'SENSOR_MEASUREMENT_11': 44.35, 'SENSOR_MEASUREMENT_12': 314.75, 'SENSOR_MEASUREMENT_13': 2388.13, 'SENSOR_MEASUREMENT_14': 8061.29, 'SENSOR_MEASUREMENT_15': 9.2424, 'SENSOR_MEASUREMENT_16': 0.02, 'SENSOR_MEASUREMENT_17': 366.0, 'SENSOR_MEASUREMENT_18': 2324.0, 'SENSOR_MEASUREMENT_19': 100.0, 'SENSOR_MEASUREMENT_20': 24.24, 'SENSOR_MEASUREMENT_21': 14.679}, {'FAULT': 'FD002', 'UNIT_NUMBER': 3, 'TIME_IN_CYCLES': 159, 'SENSOR_MEASUREMENT_1': 489.05, 'SENSOR_MEASUREMENT_2': 605.23, 'SENSOR_MEASUREMENT_3': 1501.95, 'SENSOR_MEASUREMENT_4': 1316.07, 'SENSOR_MEASUREMENT_5': 10.52, 'SENSOR_MEASUREMENT_6': 15.49, 'SENSOR_MEASUREMENT_7': 393.97, 'SENSOR_MEASUREMENT_8': 2318.94, 'SENSOR_MEASUREMENT_9': 8781.83, 'SENSOR_MEASUREMENT_10': 1.26, 'SENSOR_MEASUREMENT_11': 45.52, 'SENSOR_MEASUREMENT_12': 371.27, 'SENSOR_MEASUREMENT_13': 2388.17, 'SENSOR_MEASUREMENT_14': 8134.96, 'SENSOR_MEASUREMENT_15': 8.652, 'SENSOR_MEASUREMENT_16': 0.03, 'SENSOR_MEASUREMENT_17': 370.0, 'SENSOR_MEASUREMENT_18': 2319.0, 'SENSOR_MEASUREMENT_19': 100.0, 'SENSOR_MEASUREMENT_20': 28.64, 'SENSOR_MEASUREMENT_21': 17.2244}, {'FAULT': 'FD002', 'UNIT_NUMBER': 3, 'TIME_IN_CYCLES': 160, 'SENSOR_MEASUREMENT_1': 449.44, 'SENSOR_MEASUREMENT_2': 555.42, 'SENSOR_MEASUREMENT_3': 1367.37, 'SENSOR_MEASUREMENT_4': 1129.98, 'SENSOR_MEASUREMENT_5': 5.48, 'SENSOR_MEASUREMENT_6': 8.0, 'SENSOR_MEASUREMENT_7': 194.66, 'SENSOR_MEASUREMENT_8': 2222.99, 'SENSOR_MEASUREMENT_9': 8348.45, 'SENSOR_MEASUREMENT_10': 1.02, 'SENSOR_MEASUREMENT_11': 41.78, 'SENSOR_MEASUREMENT_12': 182.82, 'SENSOR_MEASUREMENT_13': 2388.02, 'SENSOR_MEASUREMENT_14': 8063.75, 'SENSOR_MEASUREMENT_15': 9.3337, 'SENSOR_MEASUREMENT_16': 0.02, 'SENSOR_MEASUREMENT_17': 333.0, 'SENSOR_MEASUREMENT_18': 2223.0, 'SENSOR_MEASUREMENT_19': 100.0, 'SENSOR_MEASUREMENT_20': 14.74, 'SENSOR_MEASUREMENT_21': 8.9441}, {'FAULT': 'FD002', 'UNIT_NUMBER': 3, 'TIME_IN_CYCLES': 161, 'SENSOR_MEASUREMENT_1': 445.0, 'SENSOR_MEASUREMENT_2': 549.22, 'SENSOR_MEASUREMENT_3': 1356.77, 'SENSOR_MEASUREMENT_4': 1132.08, 'SENSOR_MEASUREMENT_5': 3.91, 'SENSOR_MEASUREMENT_6': 5.72, 'SENSOR_MEASUREMENT_7': 138.85, 'SENSOR_MEASUREMENT_8': 2211.92, 'SENSOR_MEASUREMENT_9': 8320.59, 'SENSOR_MEASUREMENT_10': 1.02, 'SENSOR_MEASUREMENT_11': 42.12, 'SENSOR_MEASUREMENT_12': 130.83, 'SENSOR_MEASUREMENT_13': 2388.02, 'SENSOR_MEASUREMENT_14': 8085.92, 'SENSOR_MEASUREMENT_15': 9.3448, 'SENSOR_MEASUREMENT_16': 0.02, 'SENSOR_MEASUREMENT_17': 332.0, 'SENSOR_MEASUREMENT_18': 2212.0, 'SENSOR_MEASUREMENT_19': 100.0, 'SENSOR_MEASUREMENT_20': 10.71, 'SENSOR_MEASUREMENT_21': 6.3717}, {'FAULT': 'FD002', 'UNIT_NUMBER': 3, 'TIME_IN_CYCLES': 162, 'SENSOR_MEASUREMENT_1': 462.54, 'SENSOR_MEASUREMENT_2': 536.82, 'SENSOR_MEASUREMENT_3': 1262.73, 'SENSOR_MEASUREMENT_4': 1051.22, 'SENSOR_MEASUREMENT_5': 7.05, 'SENSOR_MEASUREMENT_6': 9.02, 'SENSOR_MEASUREMENT_7': 175.68, 'SENSOR_MEASUREMENT_8': 1915.32, 'SENSOR_MEASUREMENT_9': 8009.44, 'SENSOR_MEASUREMENT_10': 0.94, 'SENSOR_MEASUREMENT_11': 36.8, 'SENSOR_MEASUREMENT_12': 164.51, 'SENSOR_MEASUREMENT_13': 2028.27, 'SENSOR_MEASUREMENT_14': 7879.14, 'SENSOR_MEASUREMENT_15': 10.9264, 'SENSOR_MEASUREMENT_16': 0.02, 'SENSOR_MEASUREMENT_17': 307.0, 'SENSOR_MEASUREMENT_18': 1915.0, 'SENSOR_MEASUREMENT_19': 84.93, 'SENSOR_MEASUREMENT_20': 14.15, 'SENSOR_MEASUREMENT_21': 8.5344}, {'FAULT': 'FD002', 'UNIT_NUMBER': 3, 'TIME_IN_CYCLES': 163, 'SENSOR_MEASUREMENT_1': 462.54, 'SENSOR_MEASUREMENT_2': 536.68, 'SENSOR_MEASUREMENT_3': 1260.86, 'SENSOR_MEASUREMENT_4': 1047.08, 'SENSOR_MEASUREMENT_5': 7.05, 'SENSOR_MEASUREMENT_6': 9.03, 'SENSOR_MEASUREMENT_7': 175.52, 'SENSOR_MEASUREMENT_8': 1915.41, 'SENSOR_MEASUREMENT_9': 8015.2, 'SENSOR_MEASUREMENT_10': 0.94, 'SENSOR_MEASUREMENT_11': 36.86, 'SENSOR_MEASUREMENT_12': 164.61, 'SENSOR_MEASUREMENT_13': 2028.25, 'SENSOR_MEASUREMENT_14': 7876.66, 'SENSOR_MEASUREMENT_15': 10.9499, 'SENSOR_MEASUREMENT_16': 0.02, 'SENSOR_MEASUREMENT_17': 307.0, 'SENSOR_MEASUREMENT_18': 1915.0, 'SENSOR_MEASUREMENT_19': 84.93, 'SENSOR_MEASUREMENT_20': 14.17, 'SENSOR_MEASUREMENT_21': 8.5486}, {'FAULT': 'FD002', 'UNIT_NUMBER': 3, 'TIME_IN_CYCLES': 164, 'SENSOR_MEASUREMENT_1': 449.44, 'SENSOR_MEASUREMENT_2': 555.29, 'SENSOR_MEASUREMENT_3': 1367.88, 'SENSOR_MEASUREMENT_4': 1128.28, 'SENSOR_MEASUREMENT_5': 5.48, 'SENSOR_MEASUREMENT_6': 8.0, 'SENSOR_MEASUREMENT_7': 194.02, 'SENSOR_MEASUREMENT_8': 2223.01, 'SENSOR_MEASUREMENT_9': 8358.78, 'SENSOR_MEASUREMENT_10': 1.02, 'SENSOR_MEASUREMENT_11': 42.03, 'SENSOR_MEASUREMENT_12': 183.17, 'SENSOR_MEASUREMENT_13': 2388.1, 'SENSOR_MEASUREMENT_14': 8073.04, 'SENSOR_MEASUREMENT_15': 9.288, 'SENSOR_MEASUREMENT_16': 0.02, 'SENSOR_MEASUREMENT_17': 334.0, 'SENSOR_MEASUREMENT_18': 2223.0, 'SENSOR_MEASUREMENT_19': 100.0, 'SENSOR_MEASUREMENT_20': 14.86, 'SENSOR_MEASUREMENT_21': 8.8141}, {'FAULT': 'FD002', 'UNIT_NUMBER': 3, 'TIME_IN_CYCLES': 165, 'SENSOR_MEASUREMENT_1': 449.44, 'SENSOR_MEASUREMENT_2': 555.86, 'SENSOR_MEASUREMENT_3': 1370.62, 'SENSOR_MEASUREMENT_4': 1135.59, 'SENSOR_MEASUREMENT_5': 5.48, 'SENSOR_MEASUREMENT_6': 8.0, 'SENSOR_MEASUREMENT_7': 194.58, 'SENSOR_MEASUREMENT_8': 2222.96, 'SENSOR_MEASUREMENT_9': 8353.33, 'SENSOR_MEASUREMENT_10': 1.02, 'SENSOR_MEASUREMENT_11': 41.91, 'SENSOR_MEASUREMENT_12': 183.11, 'SENSOR_MEASUREMENT_13': 2388.07, 'SENSOR_MEASUREMENT_14': 8071.23, 'SENSOR_MEASUREMENT_15': 9.3094, 'SENSOR_MEASUREMENT_16': 0.02, 'SENSOR_MEASUREMENT_17': 332.0, 'SENSOR_MEASUREMENT_18': 2223.0, 'SENSOR_MEASUREMENT_19': 100.0, 'SENSOR_MEASUREMENT_20': 14.75, 'SENSOR_MEASUREMENT_21': 8.9589}]\n"
     ]
    }
   ],
   "source": [
    "response=requests.get(\"http://127.0.0.1:8000/engine/sensordata?unit_number=3&fault=FD002&dataset_type=test&access_token={}\".format(key))\n",
    "print(response.json())"
   ]
  },
  {
   "cell_type": "markdown",
   "metadata": {},
   "source": [
    "Snowflake"
   ]
  },
  {
   "cell_type": "code",
   "execution_count": 36,
   "metadata": {},
   "outputs": [
    {
     "data": {
      "text/html": [
       "<div>\n",
       "<style scoped>\n",
       "    .dataframe tbody tr th:only-of-type {\n",
       "        vertical-align: middle;\n",
       "    }\n",
       "\n",
       "    .dataframe tbody tr th {\n",
       "        vertical-align: top;\n",
       "    }\n",
       "\n",
       "    .dataframe thead th {\n",
       "        text-align: right;\n",
       "    }\n",
       "</style>\n",
       "<table border=\"1\" class=\"dataframe\">\n",
       "  <thead>\n",
       "    <tr style=\"text-align: right;\">\n",
       "      <th></th>\n",
       "      <th>FAULT</th>\n",
       "      <th>UNIT_NUMBER</th>\n",
       "      <th>TIME_IN_CYCLES</th>\n",
       "      <th>SENSOR_MEASUREMENT_1</th>\n",
       "      <th>SENSOR_MEASUREMENT_2</th>\n",
       "      <th>SENSOR_MEASUREMENT_3</th>\n",
       "      <th>SENSOR_MEASUREMENT_4</th>\n",
       "      <th>SENSOR_MEASUREMENT_5</th>\n",
       "      <th>SENSOR_MEASUREMENT_6</th>\n",
       "      <th>SENSOR_MEASUREMENT_7</th>\n",
       "      <th>...</th>\n",
       "      <th>SENSOR_MEASUREMENT_12</th>\n",
       "      <th>SENSOR_MEASUREMENT_13</th>\n",
       "      <th>SENSOR_MEASUREMENT_14</th>\n",
       "      <th>SENSOR_MEASUREMENT_15</th>\n",
       "      <th>SENSOR_MEASUREMENT_16</th>\n",
       "      <th>SENSOR_MEASUREMENT_17</th>\n",
       "      <th>SENSOR_MEASUREMENT_18</th>\n",
       "      <th>SENSOR_MEASUREMENT_19</th>\n",
       "      <th>SENSOR_MEASUREMENT_20</th>\n",
       "      <th>SENSOR_MEASUREMENT_21</th>\n",
       "    </tr>\n",
       "  </thead>\n",
       "  <tbody>\n",
       "    <tr>\n",
       "      <th>0</th>\n",
       "      <td>FD002</td>\n",
       "      <td>3</td>\n",
       "      <td>1</td>\n",
       "      <td>489.05</td>\n",
       "      <td>604.79</td>\n",
       "      <td>1494.58</td>\n",
       "      <td>1307.35</td>\n",
       "      <td>10.52</td>\n",
       "      <td>15.49</td>\n",
       "      <td>394.33</td>\n",
       "      <td>...</td>\n",
       "      <td>372.02</td>\n",
       "      <td>2388.09</td>\n",
       "      <td>8125.12</td>\n",
       "      <td>8.7200</td>\n",
       "      <td>0.03</td>\n",
       "      <td>369.0</td>\n",
       "      <td>2319.0</td>\n",
       "      <td>100.00</td>\n",
       "      <td>28.78</td>\n",
       "      <td>17.1895</td>\n",
       "    </tr>\n",
       "    <tr>\n",
       "      <th>1</th>\n",
       "      <td>FD002</td>\n",
       "      <td>3</td>\n",
       "      <td>2</td>\n",
       "      <td>518.67</td>\n",
       "      <td>642.48</td>\n",
       "      <td>1585.51</td>\n",
       "      <td>1402.98</td>\n",
       "      <td>14.62</td>\n",
       "      <td>21.61</td>\n",
       "      <td>553.72</td>\n",
       "      <td>...</td>\n",
       "      <td>521.89</td>\n",
       "      <td>2388.08</td>\n",
       "      <td>8124.46</td>\n",
       "      <td>8.4388</td>\n",
       "      <td>0.03</td>\n",
       "      <td>392.0</td>\n",
       "      <td>2388.0</td>\n",
       "      <td>100.00</td>\n",
       "      <td>38.82</td>\n",
       "      <td>23.3408</td>\n",
       "    </tr>\n",
       "    <tr>\n",
       "      <th>2</th>\n",
       "      <td>FD002</td>\n",
       "      <td>3</td>\n",
       "      <td>3</td>\n",
       "      <td>518.67</td>\n",
       "      <td>642.71</td>\n",
       "      <td>1592.87</td>\n",
       "      <td>1407.35</td>\n",
       "      <td>14.62</td>\n",
       "      <td>21.61</td>\n",
       "      <td>553.51</td>\n",
       "      <td>...</td>\n",
       "      <td>521.40</td>\n",
       "      <td>2388.13</td>\n",
       "      <td>8127.67</td>\n",
       "      <td>8.4404</td>\n",
       "      <td>0.03</td>\n",
       "      <td>394.0</td>\n",
       "      <td>2388.0</td>\n",
       "      <td>100.00</td>\n",
       "      <td>38.85</td>\n",
       "      <td>23.2890</td>\n",
       "    </tr>\n",
       "    <tr>\n",
       "      <th>3</th>\n",
       "      <td>FD002</td>\n",
       "      <td>3</td>\n",
       "      <td>4</td>\n",
       "      <td>449.44</td>\n",
       "      <td>554.61</td>\n",
       "      <td>1364.51</td>\n",
       "      <td>1125.47</td>\n",
       "      <td>5.48</td>\n",
       "      <td>8.00</td>\n",
       "      <td>194.48</td>\n",
       "      <td>...</td>\n",
       "      <td>183.08</td>\n",
       "      <td>2387.91</td>\n",
       "      <td>8057.16</td>\n",
       "      <td>9.3164</td>\n",
       "      <td>0.02</td>\n",
       "      <td>334.0</td>\n",
       "      <td>2223.0</td>\n",
       "      <td>100.00</td>\n",
       "      <td>14.89</td>\n",
       "      <td>8.9109</td>\n",
       "    </tr>\n",
       "    <tr>\n",
       "      <th>4</th>\n",
       "      <td>FD002</td>\n",
       "      <td>3</td>\n",
       "      <td>5</td>\n",
       "      <td>489.05</td>\n",
       "      <td>605.00</td>\n",
       "      <td>1499.69</td>\n",
       "      <td>1307.33</td>\n",
       "      <td>10.52</td>\n",
       "      <td>15.49</td>\n",
       "      <td>394.33</td>\n",
       "      <td>...</td>\n",
       "      <td>371.48</td>\n",
       "      <td>2388.14</td>\n",
       "      <td>8119.35</td>\n",
       "      <td>8.6301</td>\n",
       "      <td>0.03</td>\n",
       "      <td>367.0</td>\n",
       "      <td>2319.0</td>\n",
       "      <td>100.00</td>\n",
       "      <td>28.48</td>\n",
       "      <td>17.1142</td>\n",
       "    </tr>\n",
       "    <tr>\n",
       "      <th>...</th>\n",
       "      <td>...</td>\n",
       "      <td>...</td>\n",
       "      <td>...</td>\n",
       "      <td>...</td>\n",
       "      <td>...</td>\n",
       "      <td>...</td>\n",
       "      <td>...</td>\n",
       "      <td>...</td>\n",
       "      <td>...</td>\n",
       "      <td>...</td>\n",
       "      <td>...</td>\n",
       "      <td>...</td>\n",
       "      <td>...</td>\n",
       "      <td>...</td>\n",
       "      <td>...</td>\n",
       "      <td>...</td>\n",
       "      <td>...</td>\n",
       "      <td>...</td>\n",
       "      <td>...</td>\n",
       "      <td>...</td>\n",
       "      <td>...</td>\n",
       "    </tr>\n",
       "    <tr>\n",
       "      <th>160</th>\n",
       "      <td>FD002</td>\n",
       "      <td>3</td>\n",
       "      <td>161</td>\n",
       "      <td>445.00</td>\n",
       "      <td>549.22</td>\n",
       "      <td>1356.77</td>\n",
       "      <td>1132.08</td>\n",
       "      <td>3.91</td>\n",
       "      <td>5.72</td>\n",
       "      <td>138.85</td>\n",
       "      <td>...</td>\n",
       "      <td>130.83</td>\n",
       "      <td>2388.02</td>\n",
       "      <td>8085.92</td>\n",
       "      <td>9.3448</td>\n",
       "      <td>0.02</td>\n",
       "      <td>332.0</td>\n",
       "      <td>2212.0</td>\n",
       "      <td>100.00</td>\n",
       "      <td>10.71</td>\n",
       "      <td>6.3717</td>\n",
       "    </tr>\n",
       "    <tr>\n",
       "      <th>161</th>\n",
       "      <td>FD002</td>\n",
       "      <td>3</td>\n",
       "      <td>162</td>\n",
       "      <td>462.54</td>\n",
       "      <td>536.82</td>\n",
       "      <td>1262.73</td>\n",
       "      <td>1051.22</td>\n",
       "      <td>7.05</td>\n",
       "      <td>9.02</td>\n",
       "      <td>175.68</td>\n",
       "      <td>...</td>\n",
       "      <td>164.51</td>\n",
       "      <td>2028.27</td>\n",
       "      <td>7879.14</td>\n",
       "      <td>10.9264</td>\n",
       "      <td>0.02</td>\n",
       "      <td>307.0</td>\n",
       "      <td>1915.0</td>\n",
       "      <td>84.93</td>\n",
       "      <td>14.15</td>\n",
       "      <td>8.5344</td>\n",
       "    </tr>\n",
       "    <tr>\n",
       "      <th>162</th>\n",
       "      <td>FD002</td>\n",
       "      <td>3</td>\n",
       "      <td>163</td>\n",
       "      <td>462.54</td>\n",
       "      <td>536.68</td>\n",
       "      <td>1260.86</td>\n",
       "      <td>1047.08</td>\n",
       "      <td>7.05</td>\n",
       "      <td>9.03</td>\n",
       "      <td>175.52</td>\n",
       "      <td>...</td>\n",
       "      <td>164.61</td>\n",
       "      <td>2028.25</td>\n",
       "      <td>7876.66</td>\n",
       "      <td>10.9499</td>\n",
       "      <td>0.02</td>\n",
       "      <td>307.0</td>\n",
       "      <td>1915.0</td>\n",
       "      <td>84.93</td>\n",
       "      <td>14.17</td>\n",
       "      <td>8.5486</td>\n",
       "    </tr>\n",
       "    <tr>\n",
       "      <th>163</th>\n",
       "      <td>FD002</td>\n",
       "      <td>3</td>\n",
       "      <td>164</td>\n",
       "      <td>449.44</td>\n",
       "      <td>555.29</td>\n",
       "      <td>1367.88</td>\n",
       "      <td>1128.28</td>\n",
       "      <td>5.48</td>\n",
       "      <td>8.00</td>\n",
       "      <td>194.02</td>\n",
       "      <td>...</td>\n",
       "      <td>183.17</td>\n",
       "      <td>2388.10</td>\n",
       "      <td>8073.04</td>\n",
       "      <td>9.2880</td>\n",
       "      <td>0.02</td>\n",
       "      <td>334.0</td>\n",
       "      <td>2223.0</td>\n",
       "      <td>100.00</td>\n",
       "      <td>14.86</td>\n",
       "      <td>8.8141</td>\n",
       "    </tr>\n",
       "    <tr>\n",
       "      <th>164</th>\n",
       "      <td>FD002</td>\n",
       "      <td>3</td>\n",
       "      <td>165</td>\n",
       "      <td>449.44</td>\n",
       "      <td>555.86</td>\n",
       "      <td>1370.62</td>\n",
       "      <td>1135.59</td>\n",
       "      <td>5.48</td>\n",
       "      <td>8.00</td>\n",
       "      <td>194.58</td>\n",
       "      <td>...</td>\n",
       "      <td>183.11</td>\n",
       "      <td>2388.07</td>\n",
       "      <td>8071.23</td>\n",
       "      <td>9.3094</td>\n",
       "      <td>0.02</td>\n",
       "      <td>332.0</td>\n",
       "      <td>2223.0</td>\n",
       "      <td>100.00</td>\n",
       "      <td>14.75</td>\n",
       "      <td>8.9589</td>\n",
       "    </tr>\n",
       "  </tbody>\n",
       "</table>\n",
       "<p>165 rows × 24 columns</p>\n",
       "</div>"
      ],
      "text/plain": [
       "     FAULT  UNIT_NUMBER  TIME_IN_CYCLES  SENSOR_MEASUREMENT_1  \\\n",
       "0    FD002            3               1                489.05   \n",
       "1    FD002            3               2                518.67   \n",
       "2    FD002            3               3                518.67   \n",
       "3    FD002            3               4                449.44   \n",
       "4    FD002            3               5                489.05   \n",
       "..     ...          ...             ...                   ...   \n",
       "160  FD002            3             161                445.00   \n",
       "161  FD002            3             162                462.54   \n",
       "162  FD002            3             163                462.54   \n",
       "163  FD002            3             164                449.44   \n",
       "164  FD002            3             165                449.44   \n",
       "\n",
       "     SENSOR_MEASUREMENT_2  SENSOR_MEASUREMENT_3  SENSOR_MEASUREMENT_4  \\\n",
       "0                  604.79               1494.58               1307.35   \n",
       "1                  642.48               1585.51               1402.98   \n",
       "2                  642.71               1592.87               1407.35   \n",
       "3                  554.61               1364.51               1125.47   \n",
       "4                  605.00               1499.69               1307.33   \n",
       "..                    ...                   ...                   ...   \n",
       "160                549.22               1356.77               1132.08   \n",
       "161                536.82               1262.73               1051.22   \n",
       "162                536.68               1260.86               1047.08   \n",
       "163                555.29               1367.88               1128.28   \n",
       "164                555.86               1370.62               1135.59   \n",
       "\n",
       "     SENSOR_MEASUREMENT_5  SENSOR_MEASUREMENT_6  SENSOR_MEASUREMENT_7  ...  \\\n",
       "0                   10.52                 15.49                394.33  ...   \n",
       "1                   14.62                 21.61                553.72  ...   \n",
       "2                   14.62                 21.61                553.51  ...   \n",
       "3                    5.48                  8.00                194.48  ...   \n",
       "4                   10.52                 15.49                394.33  ...   \n",
       "..                    ...                   ...                   ...  ...   \n",
       "160                  3.91                  5.72                138.85  ...   \n",
       "161                  7.05                  9.02                175.68  ...   \n",
       "162                  7.05                  9.03                175.52  ...   \n",
       "163                  5.48                  8.00                194.02  ...   \n",
       "164                  5.48                  8.00                194.58  ...   \n",
       "\n",
       "     SENSOR_MEASUREMENT_12  SENSOR_MEASUREMENT_13  SENSOR_MEASUREMENT_14  \\\n",
       "0                   372.02                2388.09                8125.12   \n",
       "1                   521.89                2388.08                8124.46   \n",
       "2                   521.40                2388.13                8127.67   \n",
       "3                   183.08                2387.91                8057.16   \n",
       "4                   371.48                2388.14                8119.35   \n",
       "..                     ...                    ...                    ...   \n",
       "160                 130.83                2388.02                8085.92   \n",
       "161                 164.51                2028.27                7879.14   \n",
       "162                 164.61                2028.25                7876.66   \n",
       "163                 183.17                2388.10                8073.04   \n",
       "164                 183.11                2388.07                8071.23   \n",
       "\n",
       "     SENSOR_MEASUREMENT_15  SENSOR_MEASUREMENT_16  SENSOR_MEASUREMENT_17  \\\n",
       "0                   8.7200                   0.03                  369.0   \n",
       "1                   8.4388                   0.03                  392.0   \n",
       "2                   8.4404                   0.03                  394.0   \n",
       "3                   9.3164                   0.02                  334.0   \n",
       "4                   8.6301                   0.03                  367.0   \n",
       "..                     ...                    ...                    ...   \n",
       "160                 9.3448                   0.02                  332.0   \n",
       "161                10.9264                   0.02                  307.0   \n",
       "162                10.9499                   0.02                  307.0   \n",
       "163                 9.2880                   0.02                  334.0   \n",
       "164                 9.3094                   0.02                  332.0   \n",
       "\n",
       "     SENSOR_MEASUREMENT_18  SENSOR_MEASUREMENT_19  SENSOR_MEASUREMENT_20  \\\n",
       "0                   2319.0                 100.00                  28.78   \n",
       "1                   2388.0                 100.00                  38.82   \n",
       "2                   2388.0                 100.00                  38.85   \n",
       "3                   2223.0                 100.00                  14.89   \n",
       "4                   2319.0                 100.00                  28.48   \n",
       "..                     ...                    ...                    ...   \n",
       "160                 2212.0                 100.00                  10.71   \n",
       "161                 1915.0                  84.93                  14.15   \n",
       "162                 1915.0                  84.93                  14.17   \n",
       "163                 2223.0                 100.00                  14.86   \n",
       "164                 2223.0                 100.00                  14.75   \n",
       "\n",
       "     SENSOR_MEASUREMENT_21  \n",
       "0                  17.1895  \n",
       "1                  23.3408  \n",
       "2                  23.2890  \n",
       "3                   8.9109  \n",
       "4                  17.1142  \n",
       "..                     ...  \n",
       "160                 6.3717  \n",
       "161                 8.5344  \n",
       "162                 8.5486  \n",
       "163                 8.8141  \n",
       "164                 8.9589  \n",
       "\n",
       "[165 rows x 24 columns]"
      ]
     },
     "execution_count": 36,
     "metadata": {},
     "output_type": "execute_result"
    }
   ],
   "source": [
    "fault='FD002'\n",
    "unit_number=3\n",
    "dataset_type='test'\n",
    "if fault:\n",
    "    sql= \"SELECT fault,unit_number,time_in_cycles,sensor_measurement_1, sensor_measurement_2, sensor_measurement_3,sensor_measurement_4,sensor_measurement_5,sensor_measurement_6,sensor_measurement_7,sensor_measurement_8,sensor_measurement_9,sensor_measurement_10,sensor_measurement_11,sensor_measurement_12,sensor_measurement_13,sensor_measurement_14,sensor_measurement_15,sensor_measurement_16,sensor_measurement_17,sensor_measurement_18,sensor_measurement_19,sensor_measurement_20,sensor_measurement_21 FROM TRAIN_TEST where unit_number='{}' and fault='{}' and dataset_type='{}'\".format(unit_number,fault,dataset_type)\n",
    "    df = snowflake_query(sql)\n",
    "else:\n",
    "    sql=\"SELECT fault,unit_number,time_in_cycles,sensor_measurement_1, sensor_measurement_2, sensor_measurement_3,sensor_measurement_4,sensor_measurement_5,sensor_measurement_6,sensor_measurement_7,sensor_measurement_8,sensor_measurement_9,sensor_measurement_10,sensor_measurement_11,sensor_measurement_12,sensor_measurement_13,sensor_measurement_14,sensor_measurement_15,sensor_measurement_16,sensor_measurement_17,sensor_measurement_18,sensor_measurement_19,sensor_measurement_20,sensor_measurement_21 FROM TRAIN_TEST where unit_number='{}' and dataset_type='{}'\".format(unit_number,dataset_type)\n",
    "    df=snowflake_query(sql)\n",
    "df"
   ]
  },
  {
   "cell_type": "code",
   "execution_count": null,
   "metadata": {},
   "outputs": [],
   "source": []
  }
 ],
 "metadata": {
  "colab": {
   "collapsed_sections": [],
   "name": "Untitled9.ipynb",
   "provenance": []
  },
  "kernelspec": {
   "display_name": "Python 3",
   "language": "python",
   "name": "python3"
  },
  "language_info": {
   "codemirror_mode": {
    "name": "ipython",
    "version": 3
   },
   "file_extension": ".py",
   "mimetype": "text/x-python",
   "name": "python",
   "nbconvert_exporter": "python",
   "pygments_lexer": "ipython3",
   "version": "3.7.4"
  }
 },
 "nbformat": 4,
 "nbformat_minor": 1
}
