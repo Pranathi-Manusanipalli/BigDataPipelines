{
 "cells": [
  {
   "cell_type": "code",
   "execution_count": 5,
   "metadata": {},
   "outputs": [
    {
     "name": "stdout",
     "output_type": "stream",
     "text": [
      "Download Complete\n"
     ]
    }
   ],
   "source": [
    "import boto3\n",
    "\n",
    "# Connect to Boto3\n",
    "s3 = boto3.resource(\n",
    "    service_name='s3',\n",
    "    region_name='us-east-2')\n",
    "\n",
    "# Your Bucket goes here\n",
    "bucket_name = 'prudhvis7245'\n",
    "\n",
    "# Your S3 Path goes here\n",
    "filename = 'demo/data-YTM8UUR8PM.csv'\n",
    "\n",
    "\n",
    "def download_from_s3(filename):\n",
    "    s3.Bucket(bucket_name).download_file(Filename='my_downloaded_file', Key=filename)\n",
    "    print('Download Complete')\n",
    "\n",
    "# Call the function and get the file\n",
    "download_from_s3(filename)"
   ]
  },
  {
   "cell_type": "code",
   "execution_count": null,
   "metadata": {},
   "outputs": [],
   "source": []
  }
 ],
 "metadata": {
  "kernelspec": {
   "display_name": "Python 3",
   "language": "python",
   "name": "python3"
  },
  "language_info": {
   "codemirror_mode": {
    "name": "ipython",
    "version": 3
   },
   "file_extension": ".py",
   "mimetype": "text/x-python",
   "name": "python",
   "nbconvert_exporter": "python",
   "pygments_lexer": "ipython3",
   "version": "3.8.5"
  }
 },
 "nbformat": 4,
 "nbformat_minor": 4
}
