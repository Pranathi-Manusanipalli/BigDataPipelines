{
 "cells": [
  {
   "cell_type": "code",
   "execution_count": 1,
   "metadata": {
    "scrolled": true
   },
   "outputs": [
    {
     "name": "stdout",
     "output_type": "stream",
     "text": [
      "{\n",
      "    \"Entities\": [\n",
      "        {\n",
      "            \"BeginOffset\": 10,\n",
      "            \"EndOffset\": 19,\n",
      "            \"Score\": 0.9999814629554749,\n",
      "            \"Type\": \"NAME\"\n",
      "        },\n",
      "        {\n",
      "            \"BeginOffset\": 40,\n",
      "            \"EndOffset\": 57,\n",
      "            \"Score\": 0.99983811378479,\n",
      "            \"Type\": \"CREDIT_DEBIT_NUMBER\"\n",
      "        },\n",
      "        {\n",
      "            \"BeginOffset\": 79,\n",
      "            \"EndOffset\": 89,\n",
      "            \"Score\": 0.9999980926513672,\n",
      "            \"Type\": \"BANK_ACCOUNT_NUMBER\"\n",
      "        },\n",
      "        {\n",
      "            \"BeginOffset\": 106,\n",
      "            \"EndOffset\": 113,\n",
      "            \"Score\": 0.9999922513961792,\n",
      "            \"Type\": \"BANK_ROUTING\"\n",
      "        },\n",
      "        {\n",
      "            \"BeginOffset\": 122,\n",
      "            \"EndOffset\": 147,\n",
      "            \"Score\": 0.9999983310699463,\n",
      "            \"Type\": \"ADDRESS\"\n",
      "        }\n",
      "    ],\n",
      "    \"ResponseMetadata\": {\n",
      "        \"HTTPHeaders\": {\n",
      "            \"content-length\": \"432\",\n",
      "            \"content-type\": \"application/x-amz-json-1.1\",\n",
      "            \"date\": \"Tue, 23 Feb 2021 21:42:17 GMT\",\n",
      "            \"x-amzn-requestid\": \"17bc00da-7c32-42bb-9d13-f46bc70d170b\"\n",
      "        },\n",
      "        \"HTTPStatusCode\": 200,\n",
      "        \"RequestId\": \"17bc00da-7c32-42bb-9d13-f46bc70d170b\",\n",
      "        \"RetryAttempts\": 0\n",
      "    }\n",
      "}\n",
      "{\n",
      "    \"ResponseMetadata\": {\n",
      "        \"HTTPHeaders\": {\n",
      "            \"content-length\": \"166\",\n",
      "            \"content-type\": \"application/x-amz-json-1.1\",\n",
      "            \"date\": \"Tue, 23 Feb 2021 21:42:17 GMT\",\n",
      "            \"x-amzn-requestid\": \"bea7f372-2502-4768-987d-8c0cb8c0b1cb\"\n",
      "        },\n",
      "        \"HTTPStatusCode\": 200,\n",
      "        \"RequestId\": \"bea7f372-2502-4768-987d-8c0cb8c0b1cb\",\n",
      "        \"RetryAttempts\": 0\n",
      "    },\n",
      "    \"Sentiment\": \"NEGATIVE\",\n",
      "    \"SentimentScore\": {\n",
      "        \"Mixed\": 3.0020908525330015e-05,\n",
      "        \"Negative\": 0.9928783774375916,\n",
      "        \"Neutral\": 0.006300125736743212,\n",
      "        \"Positive\": 0.0007914338493719697\n",
      "    }\n",
      "}\n"
     ]
    }
   ],
   "source": [
    "import boto3\n",
    "import json\n",
    "\n",
    "comprehend = boto3.client(service_name='comprehend', region_name='us-east-2')\n",
    "\n",
    "text_PII = \"Customer: Tom Brady Credit Card Number: 54322234099876678 Bank Account Number: 1238766897 Routing Number: 1342121 Address 75667 Park Ln, Waltham MA\"\n",
    "text_sentiment = \"It's snowing today in Boston, and I feel miserable\"\n",
    "\n",
    "\n",
    "print(json.dumps(comprehend.detect_pii_entities(Text=text_PII, LanguageCode='en'), sort_keys=True, indent=4))\n",
    "print(json.dumps(comprehend.detect_sentiment(Text=text_sentiment, LanguageCode='en'), sort_keys=True, indent=4))"
   ]
  },
  {
   "cell_type": "code",
   "execution_count": null,
   "metadata": {},
   "outputs": [],
   "source": []
  }
 ],
 "metadata": {
  "kernelspec": {
   "display_name": "Python 3",
   "language": "python",
   "name": "python3"
  },
  "language_info": {
   "codemirror_mode": {
    "name": "ipython",
    "version": 3
   },
   "file_extension": ".py",
   "mimetype": "text/x-python",
   "name": "python",
   "nbconvert_exporter": "python",
   "pygments_lexer": "ipython3",
   "version": "3.8.5"
  }
 },
 "nbformat": 4,
 "nbformat_minor": 4
}
