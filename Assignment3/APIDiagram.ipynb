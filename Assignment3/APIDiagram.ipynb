{
 "cells": [
  {
   "cell_type": "code",
   "execution_count": 1,
   "metadata": {},
   "outputs": [
    {
     "name": "stdout",
     "output_type": "stream",
     "text": [
      "Collecting diagrams\n",
      "  Using cached diagrams-0.19.1-py3-none-any.whl (19.2 MB)\n",
      "Collecting graphviz<0.17.0,>=0.13.2\n",
      "  Using cached graphviz-0.16-py2.py3-none-any.whl (19 kB)\n",
      "Requirement already satisfied: jinja2<3.0,>=2.10 in ./opt/anaconda3/lib/python3.8/site-packages (from diagrams) (2.11.2)\n",
      "Requirement already satisfied: MarkupSafe>=0.23 in ./opt/anaconda3/lib/python3.8/site-packages (from jinja2<3.0,>=2.10->diagrams) (1.1.1)\n",
      "Installing collected packages: graphviz, diagrams\n",
      "Successfully installed diagrams-0.19.1 graphviz-0.16\n",
      "Note: you may need to restart the kernel to use updated packages.\n"
     ]
    }
   ],
   "source": [
    "pip install diagrams"
   ]
  },
  {
   "cell_type": "code",
   "execution_count": 5,
   "metadata": {},
   "outputs": [],
   "source": [
    "# diagram.py\n",
    "from diagrams import Diagram,Edge,Cluster\n",
    "from diagrams.aws.compute import Lambda\n",
    "from diagrams.aws.database import Dynamodb\n",
    "from diagrams.aws.network import APIGateway\n",
    "from diagrams.aws.security import IdentityAndAccessManagementIamDataEncryptionKey as key\n",
    "from diagrams.aws.security import KeyManagementService as APIKey\n",
    "from diagrams.aws.storage import SimpleStorageServiceS3 as S3\n",
    "\n",
    "#with Diagram(\"Grouped Workers\", show=False, direction=\"TB\"):\n",
    "\n",
    "with Diagram(\"Web Service\", direction=\"TB\"):\n",
    "    with Cluster(\"Services\"):\n",
    "        svc_group = [Lambda(\"/get_articles\"),\n",
    "                     Lambda(\"/get_articles_info_api\"),\n",
    "                     Lambda(\"/get_scores\"),Lambda(\"/post_searches\")]\n",
    "    with Cluster(\"Data Ingestion\"):\n",
    "        data = S3(\"stage\") >> Lambda(\"Preprocessing\") >> Dynamodb(\"db\")\n",
    "\n",
    "    APIKey(\"APIKey\")>> Edge(label=\"Authentication\")>> APIGateway(\"web\") >> svc_group >> data\n",
    "    "
   ]
  },
  {
   "cell_type": "code",
   "execution_count": 40,
   "metadata": {},
   "outputs": [],
   "source": [
    "from diagrams import Diagram,Edge,Cluster\n",
    "from diagrams.saas.analytics import Snowflake\n",
    "from diagrams.aws.security import KeyManagementService as APIKey\n",
    "from diagrams.onprem.client import Users\n",
    "from diagrams.onprem.compute import Server\n",
    "from diagrams.onprem.workflow import Airflow\n",
    "from diagrams.aws.compute import EC2\n",
    "from diagrams.programming.framework import FastAPI\n",
    "\n",
    "with Diagram(\"Web Service\", direction=\"TB\"):\n",
    "    \n",
    "    with Cluster(\"API Calls\"):\n",
    "        data = [Airflow(\"/pipeline/config\"),Airflow(\"/pipeline/start\"),FastAPI(\"/cycles\"),FastAPI(\"/rul\"),FastAPI(\"/engine/operational_data\"),FastAPI(\"/engine/sensordata\")]\n",
    "\n",
    "    Users(\"users\")>>APIKey(\"Authentication\")>>FastAPI(\"/generatetoken\")>>data>>Snowflake(label=\"stage\") \n",
    "            \n",
    "       "
   ]
  },
  {
   "cell_type": "code",
   "execution_count": null,
   "metadata": {},
   "outputs": [],
   "source": []
  }
 ],
 "metadata": {
  "kernelspec": {
   "display_name": "Python 3",
   "language": "python",
   "name": "python3"
  },
  "language_info": {
   "codemirror_mode": {
    "name": "ipython",
    "version": 3
   },
   "file_extension": ".py",
   "mimetype": "text/x-python",
   "name": "python",
   "nbconvert_exporter": "python",
   "pygments_lexer": "ipython3",
   "version": "3.8.5"
  }
 },
 "nbformat": 4,
 "nbformat_minor": 4
}
